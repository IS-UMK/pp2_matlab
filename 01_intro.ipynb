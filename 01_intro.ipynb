{
 "cells": [
  {
   "cell_type": "markdown",
   "metadata": {
    "slideshow": {
     "slide_type": "slide"
    }
   },
   "source": [
    "# Matlab\n",
    "\n",
    "* język wysokiego poziomu do obliczeń numerycznych, wizualizacji i tworzenia aplikacji\n",
    "* interaktywne środowisko do eksploracji, projektowania i rozwiązywania problemów\n",
    "* obszerna biblioteka funkcji matematycznych dla algebry liniowej, statystyki, analizy Fouriera, filtrowania, optymalizacji, całkowania numerycznego i rozwiązywania zwykłych równań różniczkowych\n",
    "*  wizualizacja danych\n",
    "*  narzędzia programistyczne: edytor, debbuger, profiler, ... \n",
    "*  narzędzia do tworzenia aplikacji z interfejsami graficznymi\n",
    "*  integracja algorytmów z zewnętrznymi aplikacjami (np. MS Excel) i językami (C, Java, .NET, ...)\n",
    "*  ToolBox-y\n"
   ]
  },
  {
   "cell_type": "markdown",
   "metadata": {
    "slideshow": {
     "slide_type": "slide"
    }
   },
   "source": [
    "## Środowisko graficzne\n",
    "\n",
    "![](https://ch.mathworks.com/help/matlab/learn_matlab/desktop.png\")\n",
    "\n",
    "* **Current Folder**  - katalog bieżący\n",
    "* **Command Window**  - linia komend \n",
    "* **Workspace**  - podgląd zmiennych i danych w projekcie \n",
    "* **Command History** - historia komend\n",
    "\n"
   ]
  },
  {
   "cell_type": "markdown",
   "metadata": {
    "slideshow": {
     "slide_type": "slide"
    }
   },
   "source": [
    "## Matlab jako kalkulator\n",
    "\n",
    "**Operacje arytmetyczne**\n",
    "\n",
    "`+` dodawnie, `-` odejmowanie, `*` mnożenie, `/` dzielenie, `^` potęgowanie\n",
    "\n"
   ]
  },
  {
   "cell_type": "code",
   "execution_count": null,
   "metadata": {
    "ExecuteTime": {
     "end_time": "2020-10-29T17:58:30.253834Z",
     "start_time": "2020-10-29T17:58:30.231643Z"
    },
    "slideshow": {
     "slide_type": "-"
    }
   },
   "outputs": [],
   "source": [
    "5 + 5"
   ]
  },
  {
   "cell_type": "code",
   "execution_count": null,
   "metadata": {
    "ExecuteTime": {
     "end_time": "2020-10-29T17:41:33.997960Z",
     "start_time": "2020-10-29T17:41:33.953518Z"
    },
    "slideshow": {
     "slide_type": "-"
    }
   },
   "outputs": [],
   "source": [
    "-2 * 4.3"
   ]
  },
  {
   "cell_type": "code",
   "execution_count": null,
   "metadata": {},
   "outputs": [],
   "source": [
    "2 ^ 10"
   ]
  },
  {
   "cell_type": "code",
   "execution_count": null,
   "metadata": {
    "ExecuteTime": {
     "end_time": "2020-10-29T17:53:49.547804Z",
     "start_time": "2020-10-29T17:53:49.526388Z"
    }
   },
   "outputs": [],
   "source": [
    "3 / 5"
   ]
  },
  {
   "cell_type": "code",
   "execution_count": null,
   "metadata": {
    "ExecuteTime": {
     "end_time": "2020-10-29T17:53:59.197329Z",
     "start_time": "2020-10-29T17:53:59.179150Z"
    }
   },
   "outputs": [],
   "source": [
    "3 / 0 "
   ]
  },
  {
   "cell_type": "markdown",
   "metadata": {
    "slideshow": {
     "slide_type": "slide"
    }
   },
   "source": [
    "## Funkcje matematyczne\n",
    "\n",
    "Stałe: `pi` $\\pi$, `inf` $\\infty$, `NaN` not a number, `realmax` największa liczba,  rzeczywista, `eps` dokładność maszynowa\n",
    "\n",
    "Funkcje: `sin()`, `cos()`, `tan`, `cot`, `sinh`, `asin`, `sqrt()`  $\\sqrt{x}$, `exp()` $e^x$, `abs` $|x|$, `log`, `log2`, `log10`, `sign` znak, `mod` reszta z dzielenia\n",
    "\n"
   ]
  },
  {
   "cell_type": "code",
   "execution_count": null,
   "metadata": {
    "ExecuteTime": {
     "end_time": "2020-10-29T17:58:54.070515Z",
     "start_time": "2020-10-29T17:58:54.053134Z"
    },
    "slideshow": {
     "slide_type": "-"
    }
   },
   "outputs": [],
   "source": [
    "sin( pi / 4 )"
   ]
  },
  {
   "cell_type": "code",
   "execution_count": null,
   "metadata": {},
   "outputs": [],
   "source": [
    "realmax\n",
    "eps"
   ]
  },
  {
   "cell_type": "code",
   "execution_count": null,
   "metadata": {
    "ExecuteTime": {
     "end_time": "2020-10-29T17:57:44.293449Z",
     "start_time": "2020-10-29T17:57:44.285824Z"
    }
   },
   "outputs": [],
   "source": [
    "sqrt(16)"
   ]
  },
  {
   "cell_type": "code",
   "execution_count": null,
   "metadata": {
    "ExecuteTime": {
     "end_time": "2020-10-29T17:57:41.241861Z",
     "start_time": "2020-10-29T17:57:41.235207Z"
    }
   },
   "outputs": [],
   "source": [
    "sqrt(-1)"
   ]
  },
  {
   "cell_type": "markdown",
   "metadata": {
    "slideshow": {
     "slide_type": "slide"
    }
   },
   "source": [
    "## Wyjście poleceń\n",
    "\n",
    "* średnik na końcu instrukcji (;) wyłacza wyjście\n",
    "* `disp()` wypisywanie zmiennych \n",
    "* `fprintf()` wypisywanie formatowanych komunikatów zgodnie z funkcją `printf` z C"
   ]
  },
  {
   "cell_type": "code",
   "execution_count": null,
   "metadata": {
    "ExecuteTime": {
     "end_time": "2020-10-29T17:59:03.934165Z",
     "start_time": "2020-10-29T17:59:03.927189Z"
    },
    "slideshow": {
     "slide_type": "-"
    }
   },
   "outputs": [],
   "source": [
    "sin(5) + 3;"
   ]
  },
  {
   "cell_type": "code",
   "execution_count": null,
   "metadata": {
    "ExecuteTime": {
     "end_time": "2020-10-29T17:59:32.806269Z",
     "start_time": "2020-10-29T17:59:32.784208Z"
    },
    "slideshow": {
     "slide_type": "-"
    }
   },
   "outputs": [],
   "source": [
    "disp(sin(5) + 3);\n",
    "disp('Witaj świecie')"
   ]
  },
  {
   "cell_type": "code",
   "execution_count": null,
   "metadata": {},
   "outputs": [],
   "source": [
    "fprintf('Witaj ściecie!\\n')\n",
    "fprintf('sin(%d) = %f\\n', 2, sin(2))"
   ]
  },
  {
   "cell_type": "markdown",
   "metadata": {
    "slideshow": {
     "slide_type": "slide"
    }
   },
   "source": [
    "## Zmienne\n",
    "    \n",
    "* definicja i inicjalizacja zmiennych \n",
    "* operator `=` przypisania wartości \n",
    "* nazwy zmiennych `A-Za-z0-9_`, małe/wielkie litery rozróżniane"
   ]
  },
  {
   "cell_type": "code",
   "execution_count": null,
   "metadata": {
    "slideshow": {
     "slide_type": "-"
    },
    "solution": "shown",
    "solution_first": true
   },
   "outputs": [],
   "source": [
    "x = 16 \n",
    "y = sqrt(x)\n",
    "z = x + y + sin(x) \n",
    "napis = 'Witaj Świecie'"
   ]
  },
  {
   "cell_type": "code",
   "execution_count": null,
   "metadata": {},
   "outputs": [],
   "source": [
    "x = x + 1"
   ]
  },
  {
   "cell_type": "markdown",
   "metadata": {},
   "source": [
    "błędne przypisanie"
   ]
  },
  {
   "cell_type": "code",
   "execution_count": null,
   "metadata": {},
   "outputs": [],
   "source": [
    "1 = x"
   ]
  },
  {
   "cell_type": "markdown",
   "metadata": {
    "slideshow": {
     "slide_type": "slide"
    }
   },
   "source": [
    "* `who` - lista zmiennych \n",
    "* `whos` - lista zmiennych wraz informacją o typie "
   ]
  },
  {
   "cell_type": "code",
   "execution_count": null,
   "metadata": {
    "slideshow": {
     "slide_type": "-"
    },
    "solution": "shown"
   },
   "outputs": [],
   "source": [
    "who"
   ]
  },
  {
   "cell_type": "code",
   "execution_count": null,
   "metadata": {
    "slideshow": {
     "slide_type": "-"
    }
   },
   "outputs": [],
   "source": [
    "whos"
   ]
  },
  {
   "cell_type": "markdown",
   "metadata": {},
   "source": [
    "* zmienne są macierzami, liczby to macierze 1x1\n",
    "* napisy są wektorem znaków (`char`) 1xN"
   ]
  },
  {
   "cell_type": "markdown",
   "metadata": {
    "slideshow": {
     "slide_type": "slide"
    }
   },
   "source": [
    "## Zmienna `ans`\n",
    "\n",
    "* zmienna `ans` przechowuje ostatni wynik (answer)"
   ]
  },
  {
   "cell_type": "code",
   "execution_count": null,
   "metadata": {},
   "outputs": [],
   "source": [
    "sqrt(2)"
   ]
  },
  {
   "cell_type": "code",
   "execution_count": null,
   "metadata": {},
   "outputs": [],
   "source": [
    "x = ans + 5"
   ]
  },
  {
   "cell_type": "markdown",
   "metadata": {
    "slideshow": {
     "slide_type": "slide"
    }
   },
   "source": [
    "## Typy danych\n",
    "\n",
    "* typ `double` domyślny dla warlości liczbowych\n",
    "* typ logiczny `logical`, `true`, `false`\n",
    "* typ znakowy `char`, napis to macierz (wektor) znaków\n",
    "* typ całkowity `int32` po rzutowaniu `int32()`\n"
   ]
  },
  {
   "cell_type": "code",
   "execution_count": null,
   "metadata": {},
   "outputs": [],
   "source": [
    "x = 1;\n",
    "y = true;\n",
    "z = int32(x);\n",
    "d = 'abc';\n",
    "whos"
   ]
  },
  {
   "cell_type": "markdown",
   "metadata": {
    "slideshow": {
     "slide_type": "slide"
    }
   },
   "source": [
    "## Wektory"
   ]
  },
  {
   "cell_type": "code",
   "execution_count": null,
   "metadata": {
    "scrolled": true
   },
   "outputs": [],
   "source": [
    "x = [ 1  2  3]"
   ]
  },
  {
   "cell_type": "code",
   "execution_count": null,
   "metadata": {},
   "outputs": [],
   "source": [
    "x = [ 1,  2,  3]"
   ]
  },
  {
   "cell_type": "code",
   "execution_count": null,
   "metadata": {},
   "outputs": [],
   "source": [
    "x = 1:10"
   ]
  },
  {
   "cell_type": "code",
   "execution_count": null,
   "metadata": {},
   "outputs": [],
   "source": [
    "y = [ 1 ; 2 ; 3 ; 4]"
   ]
  },
  {
   "cell_type": "markdown",
   "metadata": {
    "slideshow": {
     "slide_type": "slide"
    }
   },
   "source": [
    "## Operacje na wektorach"
   ]
  },
  {
   "cell_type": "code",
   "execution_count": null,
   "metadata": {},
   "outputs": [],
   "source": [
    "x = [1 2 3 4 5]\n",
    "x + 2"
   ]
  },
  {
   "cell_type": "code",
   "execution_count": null,
   "metadata": {},
   "outputs": [],
   "source": [
    "sqrt(x)"
   ]
  },
  {
   "cell_type": "code",
   "execution_count": null,
   "metadata": {},
   "outputs": [],
   "source": [
    "y = [6 7 8 9 10]\n",
    "z = x + y\n",
    "sqrt(x)"
   ]
  },
  {
   "cell_type": "markdown",
   "metadata": {
    "slideshow": {
     "slide_type": "slide"
    }
   },
   "source": [
    "## Komendy wbudowane\n",
    "\n",
    "* `cls` \n",
    "* `who` `whos` lista zmiennych\n",
    "* `clear` usuwa wszystkie zmienne\n",
    "* `clear x` usuwa zmienną `x`\n",
    "* `help polecenie` pomoc \n",
    "* `quit` wyjście z Matlab"
   ]
  },
  {
   "cell_type": "code",
   "execution_count": null,
   "metadata": {},
   "outputs": [],
   "source": [
    "help sin"
   ]
  },
  {
   "cell_type": "markdown",
   "metadata": {
    "slideshow": {
     "slide_type": "slide"
    }
   },
   "source": [
    "## Pomoc\n",
    "\n",
    "* `help polecenie` pomoc dotycząca polecenia\n",
    "  * `help elfun` elementarne funkcje matematyczne\n",
    "  * `help elmat` elementarne funkcje macierzowe\n",
    "* `doc polecenie` strona dokumentacji dotycząca polecenia\n",
    "* `lookfor wyrażenie` lista poleceń dotyczacych wyrażenia\n"
   ]
  },
  {
   "cell_type": "code",
   "execution_count": null,
   "metadata": {},
   "outputs": [],
   "source": [
    "lookfor cosine"
   ]
  },
  {
   "cell_type": "markdown",
   "metadata": {
    "slideshow": {
     "slide_type": "slide"
    }
   },
   "source": [
    "## Wykresy"
   ]
  },
  {
   "cell_type": "code",
   "execution_count": null,
   "metadata": {
    "scrolled": true
   },
   "outputs": [],
   "source": [
    "x = 1:10\n",
    "plot(x, sin(x))"
   ]
  },
  {
   "cell_type": "markdown",
   "metadata": {
    "slideshow": {
     "slide_type": "slide"
    }
   },
   "source": [
    "## Skrypty\n",
    "\n",
    "Tryby pracy Matlab:\n",
    "* interaktywny - w wierszu poleceń\n",
    "* wsadowy - plik `*.m` (M-pliki) zawierający ciąg instrukcji staje się poleceniem Matlab. Nazwa pliku staje się poleceniem Matlaba, np. uruchomienie pliku `hello.m`"
   ]
  },
  {
   "cell_type": "code",
   "execution_count": null,
   "metadata": {},
   "outputs": [],
   "source": [
    "hello"
   ]
  },
  {
   "cell_type": "markdown",
   "metadata": {},
   "source": [
    "* `type nazwa` wyświetla zawartość pliku\n",
    "* `edit nazwa` otwiera edycję pliku "
   ]
  },
  {
   "cell_type": "code",
   "execution_count": null,
   "metadata": {
    "slideshow": {
     "slide_type": "-"
    }
   },
   "outputs": [],
   "source": [
    "type hello"
   ]
  },
  {
   "cell_type": "code",
   "execution_count": null,
   "metadata": {},
   "outputs": [],
   "source": [
    "help hello"
   ]
  },
  {
   "cell_type": "markdown",
   "metadata": {
    "slideshow": {
     "slide_type": "slide"
    }
   },
   "source": [
    "## Komendy systemowe\n",
    "\n",
    "* `cd` zmiana katalogu\n",
    "* `date` data\n",
    "* `dir` zawartość katalogu\n",
    "* `pwd` bieżący katalog\n",
    "* `save nazwa` zapis zmiennych, `load nazwa` odczytanie zmiennych\n",
    "* `quit` wyjście z Matlab\n"
   ]
  },
  {
   "cell_type": "code",
   "execution_count": null,
   "metadata": {
    "slideshow": {
     "slide_type": "-"
    }
   },
   "outputs": [],
   "source": [
    "pwd\n",
    "date"
   ]
  },
  {
   "cell_type": "markdown",
   "metadata": {
    "heading_collapsed": true,
    "slideshow": {
     "slide_type": "slide"
    }
   },
   "source": [
    "## Zadanie\n",
    "\n",
    "Napisz skrypt o nazwie `zad1.m`, który wykona nastepujące instrukcje:\n",
    "* wypisze Twoje imię i numer indeksu\n",
    "* wypisze wartość funkcji $$f(x) = \\frac{1}{ \\sqrt{2 \\pi}} e^{-x^2}$$ w punkcie $x=1$ z dokładnościa do 3 miejsc po przecinku\n",
    "* wyrysuje wykres $$ f(x) =  cos(2x) + e^{-0.01 x}$$  na odcinku $[-100, 100]$"
   ]
  },
  {
   "cell_type": "code",
   "execution_count": null,
   "metadata": {
    "hidden": true,
    "slideshow": {
     "slide_type": "notes"
    }
   },
   "outputs": [],
   "source": [
    "x = -100:100;\n",
    "y = ( cos(2 * x) +  exp(-0.01 * x)) ;\n",
    "plot(x, y)"
   ]
  }
 ],
 "metadata": {
  "celltoolbar": "Slideshow",
  "kernelspec": {
   "display_name": "Octave",
   "language": "octave",
   "name": "octave"
  },
  "language_info": {
   "file_extension": ".m",
   "help_links": [
    {
     "text": "GNU Octave",
     "url": "https://www.gnu.org/software/octave/support.html"
    },
    {
     "text": "Octave Kernel",
     "url": "https://github.com/Calysto/octave_kernel"
    },
    {
     "text": "MetaKernel Magics",
     "url": "https://metakernel.readthedocs.io/en/latest/source/README.html"
    }
   ],
   "mimetype": "text/x-octave",
   "name": "octave",
   "version": "5.2.0"
  },
  "toc": {
   "base_numbering": 1,
   "nav_menu": {},
   "number_sections": true,
   "sideBar": true,
   "skip_h1_title": false,
   "title_cell": "Table of Contents",
   "title_sidebar": "Contents",
   "toc_cell": false,
   "toc_position": {},
   "toc_section_display": true,
   "toc_window_display": false
  },
  "varInspector": {
   "cols": {
    "lenName": 16,
    "lenType": 16,
    "lenVar": 40
   },
   "kernels_config": {
    "python": {
     "delete_cmd_postfix": "",
     "delete_cmd_prefix": "del ",
     "library": "var_list.py",
     "varRefreshCmd": "print(var_dic_list())"
    },
    "r": {
     "delete_cmd_postfix": ") ",
     "delete_cmd_prefix": "rm(",
     "library": "var_list.r",
     "varRefreshCmd": "cat(var_dic_list()) "
    }
   },
   "types_to_exclude": [
    "module",
    "function",
    "builtin_function_or_method",
    "instance",
    "_Feature"
   ],
   "window_display": false
  }
 },
 "nbformat": 4,
 "nbformat_minor": 4
}
