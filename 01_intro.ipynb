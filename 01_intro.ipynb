{
 "cells": [
  {
   "cell_type": "markdown",
   "metadata": {
    "slideshow": {
     "slide_type": "slide"
    }
   },
   "source": [
    "# Matlab\n",
    "\n",
    "* język wysokiego poziomu do obliczeń numerycznych, wizualizacji i tworzenia aplikacji\n",
    "* interaktywne środowisko do iteracyjnej eksploracji, projektowania i rozwiązywania problemów\n",
    "* obszerna bibliotekę funkcji matematycznych dla algebry liniowej, statystyki, analizy Fouriera, filtrowania, optymalizacji, całkowania numerycznego i rozwiązywania zwykłych równań różniczkowych\n",
    "*  wizualizacja danych\n",
    "*  narzędzia programistyczne: edutor, debbuger, profiler, ... \n",
    "*  narzędzia do tworzenia aplikacji z interfejsami graficznymi\n",
    "*  integracja algorytmów z zewnętrznymi aplikacjami (np. MS Excel) i językami (C, Java, .NET, ...)\n"
   ]
  },
  {
   "cell_type": "markdown",
   "metadata": {
    "slideshow": {
     "slide_type": "slide"
    }
   },
   "source": [
    "## Srodowisko graficzne\n",
    "\n",
    "<img src=\"https://ch.mathworks.com/help/matlab/learn_matlab/desktop.png\" />\n",
    "\n",
    "* **Current Folder**  katalog bierzący\n",
    "* **Command Window** linia komend \n",
    "* **Workspace** podgląd zmiennych i danych w projekcie \n",
    "* **Command History** historia komend\n",
    "\n"
   ]
  },
  {
   "cell_type": "markdown",
   "metadata": {
    "slideshow": {
     "slide_type": "slide"
    }
   },
   "source": [
    "## Operacje arytmetyczne - Matlab jako kalkulator\n",
    "\n",
    "`+` dodawnie, `-` odejmowanie, `*` mnożenie, `/` dzielenie, `^` potęgowanie\n",
    "\n"
   ]
  },
  {
   "cell_type": "code",
   "execution_count": 22,
   "metadata": {
    "ExecuteTime": {
     "end_time": "2020-10-29T17:58:30.253834Z",
     "start_time": "2020-10-29T17:58:30.231643Z"
    },
    "slideshow": {
     "slide_type": "-"
    }
   },
   "outputs": [
    {
     "name": "stdout",
     "output_type": "stream",
     "text": [
      "ans =  10\r\n"
     ]
    }
   ],
   "source": [
    "5 + 5"
   ]
  },
  {
   "cell_type": "code",
   "execution_count": 23,
   "metadata": {
    "ExecuteTime": {
     "end_time": "2020-10-29T17:41:33.997960Z",
     "start_time": "2020-10-29T17:41:33.953518Z"
    },
    "slideshow": {
     "slide_type": "-"
    }
   },
   "outputs": [
    {
     "name": "stdout",
     "output_type": "stream",
     "text": [
      "ans =  1024\r\n"
     ]
    }
   ],
   "source": [
    "2 ^ 10"
   ]
  },
  {
   "cell_type": "code",
   "execution_count": 24,
   "metadata": {
    "ExecuteTime": {
     "end_time": "2020-10-29T17:53:49.547804Z",
     "start_time": "2020-10-29T17:53:49.526388Z"
    }
   },
   "outputs": [
    {
     "name": "stdout",
     "output_type": "stream",
     "text": [
      "ans =  0.60000\r\n"
     ]
    }
   ],
   "source": [
    "3 / 5"
   ]
  },
  {
   "cell_type": "code",
   "execution_count": 25,
   "metadata": {
    "ExecuteTime": {
     "end_time": "2020-10-29T17:53:59.197329Z",
     "start_time": "2020-10-29T17:53:59.179150Z"
    }
   },
   "outputs": [
    {
     "name": "stdout",
     "output_type": "stream",
     "text": [
      "warning: division by zero\r\n",
      "ans =  Inf\r\n"
     ]
    }
   ],
   "source": [
    "3 / 0 "
   ]
  },
  {
   "cell_type": "markdown",
   "metadata": {
    "slideshow": {
     "slide_type": "slide"
    }
   },
   "source": [
    "## Funkcje i stałe matematyczne\n",
    "\n",
    "`sin()`, `cos()`, `sqrt()`, `exp()`\n",
    "`pi` $\\pi$, "
   ]
  },
  {
   "cell_type": "code",
   "execution_count": 26,
   "metadata": {
    "ExecuteTime": {
     "end_time": "2020-10-29T17:58:54.070515Z",
     "start_time": "2020-10-29T17:58:54.053134Z"
    },
    "slideshow": {
     "slide_type": "-"
    }
   },
   "outputs": [
    {
     "name": "stdout",
     "output_type": "stream",
     "text": [
      "ans =  0.70711\r\n"
     ]
    }
   ],
   "source": [
    "sin( pi / 4 )"
   ]
  },
  {
   "cell_type": "code",
   "execution_count": 27,
   "metadata": {
    "ExecuteTime": {
     "end_time": "2020-10-29T17:57:44.293449Z",
     "start_time": "2020-10-29T17:57:44.285824Z"
    }
   },
   "outputs": [
    {
     "name": "stdout",
     "output_type": "stream",
     "text": [
      "ans =  4\r\n"
     ]
    }
   ],
   "source": [
    "sqrt(16)"
   ]
  },
  {
   "cell_type": "code",
   "execution_count": 31,
   "metadata": {
    "ExecuteTime": {
     "end_time": "2020-10-29T17:57:41.241861Z",
     "start_time": "2020-10-29T17:57:41.235207Z"
    }
   },
   "outputs": [
    {
     "name": "stdout",
     "output_type": "stream",
     "text": [
      "ans =  0 + 1i\r\n"
     ]
    }
   ],
   "source": [
    "sqrt(-1)"
   ]
  },
  {
   "cell_type": "markdown",
   "metadata": {
    "slideshow": {
     "slide_type": "slide"
    }
   },
   "source": [
    "## Wyjście poleceń\n",
    "\n",
    "* średnik na końcu instrukcji (;) wyłacza wyjście\n",
    "* `disp()` wypisywanie zmiennych \n",
    "* `fprintf()` wypisywanie formatowanych komunikatów zgodnie z funkcją `printf` z C"
   ]
  },
  {
   "cell_type": "code",
   "execution_count": 16,
   "metadata": {
    "ExecuteTime": {
     "end_time": "2020-10-29T17:59:03.934165Z",
     "start_time": "2020-10-29T17:59:03.927189Z"
    },
    "slideshow": {
     "slide_type": "-"
    }
   },
   "outputs": [],
   "source": [
    "sin(5) + 3;"
   ]
  },
  {
   "cell_type": "code",
   "execution_count": 1,
   "metadata": {
    "ExecuteTime": {
     "end_time": "2020-10-29T17:59:32.806269Z",
     "start_time": "2020-10-29T17:59:32.784208Z"
    },
    "slideshow": {
     "slide_type": "-"
    }
   },
   "outputs": [
    {
     "name": "stdout",
     "output_type": "stream",
     "text": [
      " 2.0411\n",
      "Witaj świecie\n"
     ]
    }
   ],
   "source": [
    "disp(sin(5) + 3);\n",
    "disp('Witaj świecie')"
   ]
  },
  {
   "cell_type": "code",
   "execution_count": 5,
   "metadata": {},
   "outputs": [
    {
     "name": "stdout",
     "output_type": "stream",
     "text": [
      "Witaj ściecie!\n",
      "sin(2)=0.909297\n"
     ]
    }
   ],
   "source": [
    "fprintf('Witaj ściecie!\\n')\n",
    "fprintf('sin(2)=%f\\n', sin(2))"
   ]
  },
  {
   "cell_type": "markdown",
   "metadata": {
    "slideshow": {
     "slide_type": "slide"
    }
   },
   "source": [
    "## Zmienne\n",
    "    \n",
    "* definicja i inicjalizacja zmiennych "
   ]
  },
  {
   "cell_type": "code",
   "execution_count": 14,
   "metadata": {
    "slideshow": {
     "slide_type": "slide"
    },
    "solution": "shown",
    "solution_first": true
   },
   "outputs": [
    {
     "name": "stdout",
     "output_type": "stream",
     "text": [
      "x =  16\n",
      "y =  4\n",
      "z =  19.712\n",
      "napis = Witaj Świecie\n"
     ]
    }
   ],
   "source": [
    "x = 16 \n",
    "y = sqrt(x)\n",
    "z = x + y + sin(x) \n",
    "napis = 'Witaj Świecie'"
   ]
  },
  {
   "cell_type": "markdown",
   "metadata": {},
   "source": [
    "* `who` - lista zmiennych \n",
    "* `whos` - lista zmiennych wraz informacją o typie "
   ]
  },
  {
   "cell_type": "code",
   "execution_count": 12,
   "metadata": {
    "slideshow": {
     "slide_type": "-"
    },
    "solution": "shown"
   },
   "outputs": [
    {
     "name": "stdout",
     "output_type": "stream",
     "text": [
      "Variables in the current scope:\r\n",
      "\r\n",
      "ans    napis  x      y      z\r\n",
      "\r\n"
     ]
    }
   ],
   "source": [
    "\n",
    "who"
   ]
  },
  {
   "cell_type": "code",
   "execution_count": 15,
   "metadata": {
    "slideshow": {
     "slide_type": "-"
    }
   },
   "outputs": [
    {
     "name": "stdout",
     "output_type": "stream",
     "text": [
      "Variables in the current scope:\r\n",
      "\r\n",
      "   Attr Name        Size                     Bytes  Class\r\n",
      "   ==== ====        ====                     =====  ===== \r\n",
      "        ans         1x5                          5  char\r\n",
      "        napis       1x14                        14  char\r\n",
      "        x           1x1                          8  double\r\n",
      "        y           1x1                          8  double\r\n",
      "        z           1x1                          8  double\r\n",
      "\r\n",
      "Total is 22 elements using 43 bytes\r\n",
      "\r\n"
     ]
    }
   ],
   "source": [
    "whos"
   ]
  },
  {
   "cell_type": "markdown",
   "metadata": {},
   "source": [
    "* zmienne liczbowe są macierzami 1x1\n",
    "* napisy są wektorem znaków (`char`) 1xN"
   ]
  },
  {
   "cell_type": "markdown",
   "metadata": {
    "slideshow": {
     "slide_type": "slide"
    }
   },
   "source": [
    "## Zmienna `ans`\n",
    "\n",
    "* zmienna `ans` przechowuje ostatni wynik (answer)"
   ]
  },
  {
   "cell_type": "code",
   "execution_count": 18,
   "metadata": {},
   "outputs": [
    {
     "name": "stdout",
     "output_type": "stream",
     "text": [
      "ans =  1.4142\r\n"
     ]
    }
   ],
   "source": [
    "sqrt(2)"
   ]
  },
  {
   "cell_type": "code",
   "execution_count": 19,
   "metadata": {},
   "outputs": [
    {
     "name": "stdout",
     "output_type": "stream",
     "text": [
      "x =  6.4142\r\n"
     ]
    }
   ],
   "source": [
    "x = ans + 5"
   ]
  },
  {
   "cell_type": "markdown",
   "metadata": {
    "slideshow": {
     "slide_type": "slide"
    }
   },
   "source": [
    "## Typy danych\n",
    "\n",
    "* typy: całkowity `int32`, liczby rzeczywiste `double`, typ logiczny `logical`, typ znakowy `char`\n"
   ]
  },
  {
   "cell_type": "code",
   "execution_count": 50,
   "metadata": {},
   "outputs": [
    {
     "name": "stdout",
     "output_type": "stream",
     "text": [
      "Variables in the current scope:\n",
      "\n",
      "   Attr Name        Size                     Bytes  Class\n",
      "   ==== ====        ====                     =====  ===== \n",
      "        ans         1x1                          1  char\n",
      "        i           1x1                          8  double\n",
      "        napis       1x14                        14  char\n",
      "        x           1x1                          8  double\n",
      "   c    y           1x1                         16  double\n",
      "        z           1x1                          8  double\n",
      "\n",
      "Total is 19 elements using 55 bytes\n",
      "\n",
      "i =  1\n"
     ]
    }
   ],
   "source": [
    "i = 1\n",
    "x = 1\n",
    "whos"
   ]
  },
  {
   "cell_type": "markdown",
   "metadata": {
    "slideshow": {
     "slide_type": "slide"
    }
   },
   "source": [
    "## Wektory"
   ]
  },
  {
   "cell_type": "code",
   "execution_count": 63,
   "metadata": {
    "scrolled": true
   },
   "outputs": [
    {
     "name": "stdout",
     "output_type": "stream",
     "text": [
      "   1   2   3\r\n"
     ]
    }
   ],
   "source": [
    "x = [ 1  2  3]"
   ]
  },
  {
   "cell_type": "code",
   "execution_count": 68,
   "metadata": {},
   "outputs": [
    {
     "name": "stdout",
     "output_type": "stream",
     "text": [
      "x =\r\n",
      "\r\n",
      "   1   2   3\r\n",
      "\r\n"
     ]
    }
   ],
   "source": [
    "x = [ 1,  2,  3]"
   ]
  },
  {
   "cell_type": "code",
   "execution_count": 69,
   "metadata": {},
   "outputs": [
    {
     "name": "stdout",
     "output_type": "stream",
     "text": [
      "x =\r\n",
      "\r\n",
      "   1   2   3\r\n",
      "\r\n"
     ]
    }
   ],
   "source": [
    "x = 1:10"
   ]
  },
  {
   "cell_type": "code",
   "execution_count": 71,
   "metadata": {},
   "outputs": [
    {
     "name": "stdout",
     "output_type": "stream",
     "text": [
      "x =\r\n",
      "\r\n",
      "   1\r\n",
      "   2\r\n",
      "   3\r\n",
      "   4\r\n",
      "\r\n"
     ]
    }
   ],
   "source": [
    "x = [ 1 ; 2 ; 3 ; 4]"
   ]
  },
  {
   "cell_type": "markdown",
   "metadata": {
    "slideshow": {
     "slide_type": "slide"
    }
   },
   "source": [
    "## Operacje na wektorach"
   ]
  },
  {
   "cell_type": "code",
   "execution_count": 91,
   "metadata": {},
   "outputs": [
    {
     "name": "stdout",
     "output_type": "stream",
     "text": [
      "ans =\r\n",
      "\r\n",
      "   3   4   5   6   7\r\n",
      "\r\n"
     ]
    }
   ],
   "source": [
    "x = [1 2 3 4 5]\n",
    "x + 2"
   ]
  },
  {
   "cell_type": "code",
   "execution_count": 97,
   "metadata": {},
   "outputs": [
    {
     "name": "stdout",
     "output_type": "stream",
     "text": [
      "ans =\r\n",
      "\r\n",
      "   1.0000   1.4142   1.7321   2.0000   2.2361\r\n",
      "\r\n"
     ]
    }
   ],
   "source": [
    "sqrt(x)"
   ]
  },
  {
   "cell_type": "code",
   "execution_count": 100,
   "metadata": {},
   "outputs": [
    {
     "name": "stdout",
     "output_type": "stream",
     "text": [
      "ans =\n",
      "\n",
      "   1.0000   1.4142   1.7321   2.0000   2.2361\n",
      "\n",
      "y =\n",
      "\n",
      "    6    7    8    9   10\n",
      "\n"
     ]
    }
   ],
   "source": [
    "y = [6 7 8 9 10]\n",
    "z = x + y\n",
    "sqrt(x)"
   ]
  },
  {
   "cell_type": "markdown",
   "metadata": {
    "slideshow": {
     "slide_type": "slide"
    }
   },
   "source": [
    "## Wykresy"
   ]
  },
  {
   "cell_type": "code",
   "execution_count": 105,
   "metadata": {},
   "outputs": [
    {
     "name": "stdout",
     "output_type": "stream",
     "text": [
      "error: print: directory /tmp/tmp0qhbdct9 does not exist\r\n",
      "error: called from\r\n",
      "    _make_figures>safe_print at line 125 column 7\r\n",
      "    _make_figures at line 49 column 13\r\n"
     ]
    }
   ],
   "source": [
    "x = 1:10\n",
    "plot(sin(x))"
   ]
  },
  {
   "cell_type": "markdown",
   "metadata": {},
   "source": [
    "## Komendy wbudowane\n",
    "\n",
    "* `cls` \n",
    "* `clear x` usuwa zmienną `x`\n",
    "* `clear` usuwa wszystkie zmienne\n",
    "* `help polecenie` pomoc \n",
    "* `quit` wyjście z Matlab\n",
    "* `who` `whos` "
   ]
  },
  {
   "cell_type": "code",
   "execution_count": 107,
   "metadata": {
    "slideshow": {
     "slide_type": "-"
    }
   },
   "outputs": [
    {
     "name": "stdout",
     "output_type": "stream",
     "text": [
      "'help' is a function from the file /usr/share/octave/5.2.0/m/help/help.m\r\n",
      "\r\n",
      " -- help NAME\r\n",
      " -- help --list\r\n",
      " -- help .\r\n",
      " -- help\r\n",
      "     Display the help text for NAME.\r\n",
      "\r\n",
      "     For example, the command 'help help' prints a short message\r\n",
      "     describing the 'help' command.\r\n",
      "\r\n",
      "     Given the single argument '--list', list all operators, keywords,\r\n",
      "     built-in functions, and loadable functions available in the current\r\n",
      "     session of Octave.\r\n",
      "\r\n",
      "     Given the single argument '.', list all operators available in the\r\n",
      "     current session of Octave.\r\n",
      "\r\n",
      "     If invoked without any arguments, 'help' displays instructions on\r\n",
      "     how to access help from the command line.\r\n",
      "\r\n",
      "     The help command can provide information about most operators, but\r\n",
      "     NAME must be enclosed by single or double quotes to prevent the\r\n",
      "     Octave interpreter from acting on NAME.  For example, 'help \"+\"'\r\n",
      "     displays help on the addition operator.\r\n",
      "\r\n",
      "     See also: doc, lookfor, which, info.\r\n",
      "\r\n",
      "Additional help for built-in functions and operators is\r\n",
      "available in the online version of the manual.  Use the command\r\n",
      "'doc <topic>' to search the manual index.\r\n",
      "\r\n",
      "Help and information about Octave is also available on the WWW\r\n",
      "at https://www.octave.org and via the help@octave.org\r\n",
      "mailing list.\r\n"
     ]
    }
   ],
   "source": [
    "help  help"
   ]
  },
  {
   "cell_type": "markdown",
   "metadata": {},
   "source": [
    "## Skrypty\n",
    "\n",
    "tryby pracy:\n",
    "* interaktywny - w wierszu poleceń\n",
    "* wsadowy - plik `*.m` zawierający ciąg instrukcji staje się poleceniem Matlab "
   ]
  },
  {
   "cell_type": "code",
   "execution_count": 114,
   "metadata": {},
   "outputs": [
    {
     "name": "stdout",
     "output_type": "stream",
     "text": [
      "tekst = Witaj Świecie\r\n",
      "Witaj Świecie\r\n"
     ]
    }
   ],
   "source": [
    "hello"
   ]
  },
  {
   "cell_type": "markdown",
   "metadata": {},
   "source": [
    "* `type nazwa` wyświetla zawartość pliku\n",
    "* `edit nazwa` otwiera edycję pliku "
   ]
  },
  {
   "cell_type": "code",
   "execution_count": 119,
   "metadata": {
    "slideshow": {
     "slide_type": "slide"
    }
   },
   "outputs": [
    {
     "name": "stdout",
     "output_type": "stream",
     "text": [
      "hello is the user-defined function defined from: /home/marek/work/zajecia/2020.zimowy/pp2/github/hello.m\r\n",
      "\r\n",
      "tekst = 'Witaj Świecie'\r\n",
      "\r\n",
      "disp(tekst)\r\n",
      "\r\n"
     ]
    }
   ],
   "source": [
    "type hello"
   ]
  },
  {
   "cell_type": "markdown",
   "metadata": {},
   "source": [
    "## Komendy systemowe\n",
    "\n",
    "* `cd` zmiana katalogu\n",
    "* `date` data\n",
    "* `dir` zawartość katalogu\n",
    "* `pwd` bieżący katalog\n",
    "* `save` zapis zmiennych, `load` odczytanie zmiennych\n"
   ]
  },
  {
   "cell_type": "code",
   "execution_count": 123,
   "metadata": {
    "slideshow": {
     "slide_type": "slide"
    }
   },
   "outputs": [
    {
     "name": "stdout",
     "output_type": "stream",
     "text": [
      "'type' is a function from the file /usr/share/octave/5.2.0/m/help/type.m\r\n",
      "\r\n",
      " -- type NAME ...\r\n",
      " -- type -q NAME ...\r\n",
      " -- text = type (\"NAME\", ...)\r\n",
      "     Display the contents of NAME which may be a file, function\r\n",
      "     (m-file), variable, operator, or keyword.\r\n",
      "\r\n",
      "     'type' normally prepends a header line describing the category of\r\n",
      "     NAME such as function or variable; The '-q' option suppresses this\r\n",
      "     behavior.\r\n",
      "\r\n",
      "     If no output variable is used the contents are displayed on screen.\r\n",
      "     Otherwise, a cell array of strings is returned, where each element\r\n",
      "     corresponds to the contents of each requested function.\r\n",
      "\r\n",
      "Additional help for built-in functions and operators is\r\n",
      "available in the online version of the manual.  Use the command\r\n",
      "'doc <topic>' to search the manual index.\r\n",
      "\r\n",
      "Help and information about Octave is also available on the WWW\r\n",
      "at https://www.octave.org and via the help@octave.org\r\n",
      "mailing list.\r\n"
     ]
    }
   ],
   "source": [
    "help type"
   ]
  },
  {
   "cell_type": "code",
   "execution_count": 125,
   "metadata": {
    "slideshow": {
     "slide_type": "slide"
    }
   },
   "outputs": [
    {
     "name": "stdout",
     "output_type": "stream",
     "text": [
      "x is a variable\r\n",
      "    1    2    3    4    5    6    7    8    9   10\r\n",
      "\r\n"
     ]
    }
   ],
   "source": [
    "type x"
   ]
  },
  {
   "cell_type": "code",
   "execution_count": 127,
   "metadata": {
    "slideshow": {
     "slide_type": "slide"
    }
   },
   "outputs": [
    {
     "name": "stderr",
     "output_type": "stream",
     "text": [
      "\u001b[0;31mInline plot failed, consider trying another graphics toolkit\n",
      "error: print: directory /tmp/tmpa0kl1wno does not exist\r\n",
      "error: called from\r\n",
      "    _make_figures>safe_print at line 125 column 7\r\n",
      "    _make_figures at line 49 column 13\r\n",
      "\n",
      "\u001b[0m"
     ]
    }
   ],
   "source": [
    "bar([1,2,3])"
   ]
  },
  {
   "cell_type": "markdown",
   "metadata": {
    "heading_collapsed": true,
    "slideshow": {
     "slide_type": "slide"
    }
   },
   "source": [
    "## Zadanie\n",
    "\n",
    "Napisz skrypt o nazwie `zad1.m`, który wykona nastepujące instrukcje:\n",
    "* wypisze Twoje imię i numer indeksu\n",
    "* wypisze wartość $f(x)$ w punkcie $x=3$\n",
    "$$ f(x) = \\frac{1}{\\sqrt{2\\pi}}cos(x) \\cdot e^{-2 x}$$\n",
    "* wyrysuje wykres $f(x)$  "
   ]
  }
 ],
 "metadata": {
  "celltoolbar": "Slideshow",
  "kernelspec": {
   "display_name": "Octave",
   "language": "octave",
   "name": "octave"
  },
  "language_info": {
   "file_extension": ".m",
   "help_links": [
    {
     "text": "GNU Octave",
     "url": "https://www.gnu.org/software/octave/support.html"
    },
    {
     "text": "Octave Kernel",
     "url": "https://github.com/Calysto/octave_kernel"
    },
    {
     "text": "MetaKernel Magics",
     "url": "https://metakernel.readthedocs.io/en/latest/source/README.html"
    }
   ],
   "mimetype": "text/x-octave",
   "name": "octave",
   "version": "5.2.0"
  },
  "toc": {
   "base_numbering": 1,
   "nav_menu": {},
   "number_sections": true,
   "sideBar": true,
   "skip_h1_title": false,
   "title_cell": "Table of Contents",
   "title_sidebar": "Contents",
   "toc_cell": false,
   "toc_position": {},
   "toc_section_display": true,
   "toc_window_display": false
  },
  "varInspector": {
   "cols": {
    "lenName": 16,
    "lenType": 16,
    "lenVar": 40
   },
   "kernels_config": {
    "python": {
     "delete_cmd_postfix": "",
     "delete_cmd_prefix": "del ",
     "library": "var_list.py",
     "varRefreshCmd": "print(var_dic_list())"
    },
    "r": {
     "delete_cmd_postfix": ") ",
     "delete_cmd_prefix": "rm(",
     "library": "var_list.r",
     "varRefreshCmd": "cat(var_dic_list()) "
    }
   },
   "types_to_exclude": [
    "module",
    "function",
    "builtin_function_or_method",
    "instance",
    "_Feature"
   ],
   "window_display": false
  }
 },
 "nbformat": 4,
 "nbformat_minor": 4
}
