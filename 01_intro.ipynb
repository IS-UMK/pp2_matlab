{
 "cells": [
  {
   "cell_type": "markdown",
   "metadata": {
    "slideshow": {
     "slide_type": "slide"
    }
   },
   "source": [
    "# Matlab\n",
    "\n",
    "* język wysokiego poziomu do obliczeń numerycznych, wizualizacji i tworzenia aplikacji\n",
    "* interaktywne środowisko do eksploracji, projektowania i rozwiązywania problemów\n",
    "* obszerna biblioteka funkcji matematycznych dla algebry liniowej, statystyki, analizy Fouriera, filtrowania, optymalizacji, całkowania numerycznego i rozwiązywania zwykłych równań różniczkowych\n",
    "*  wizualizacja danych\n",
    "*  narzędzia programistyczne: edytor, debbuger, profiler, ... \n",
    "*  narzędzia do tworzenia aplikacji z interfejsami graficznymi\n",
    "*  integracja algorytmów z zewnętrznymi aplikacjami (np. MS Excel) i językami (C, Java, .NET, ...)\n",
    "*  ToolBox-y\n"
   ]
  },
  {
   "cell_type": "markdown",
   "metadata": {
    "slideshow": {
     "slide_type": "slide"
    }
   },
   "source": [
    "## Środowisko graficzne\n",
    "\n",
    "![](https://ch.mathworks.com/help/matlab/learn_matlab/desktop.png\")\n",
    "\n",
    "* **Current Folder**  - katalog bieżący\n",
    "* **Command Window**  - linia komend \n",
    "* **Workspace**  - podgląd zmiennych i danych w projekcie \n",
    "* **Command History** - historia komend\n",
    "\n"
   ]
  },
  {
   "cell_type": "markdown",
   "metadata": {
    "slideshow": {
     "slide_type": "slide"
    }
   },
   "source": [
    "## Matlab jako kalkulator\n",
    "\n",
    "**Operacje arytmetyczne** `+` dodawnie, `-` odejmowanie, `*` mnożenie, `/` dzielenie, `^` potęgowanie"
   ]
  },
  {
   "cell_type": "code",
   "execution_count": 1,
   "metadata": {
    "ExecuteTime": {
     "end_time": "2020-10-29T17:58:30.253834Z",
     "start_time": "2020-10-29T17:58:30.231643Z"
    },
    "slideshow": {
     "slide_type": "-"
    }
   },
   "outputs": [
    {
     "name": "stdout",
     "output_type": "stream",
     "text": [
      "ans =  10\r\n"
     ]
    }
   ],
   "source": [
    "5 + 5"
   ]
  },
  {
   "cell_type": "code",
   "execution_count": 2,
   "metadata": {
    "ExecuteTime": {
     "end_time": "2020-10-29T17:41:33.997960Z",
     "start_time": "2020-10-29T17:41:33.953518Z"
    },
    "slideshow": {
     "slide_type": "-"
    }
   },
   "outputs": [
    {
     "name": "stdout",
     "output_type": "stream",
     "text": [
      "ans = -8.6000\r\n"
     ]
    }
   ],
   "source": [
    "-2 * 4.3"
   ]
  },
  {
   "cell_type": "code",
   "execution_count": 3,
   "metadata": {},
   "outputs": [
    {
     "name": "stdout",
     "output_type": "stream",
     "text": [
      "ans =  1024\r\n"
     ]
    }
   ],
   "source": [
    "2 ^ 10"
   ]
  },
  {
   "cell_type": "code",
   "execution_count": 4,
   "metadata": {
    "ExecuteTime": {
     "end_time": "2020-10-29T17:53:49.547804Z",
     "start_time": "2020-10-29T17:53:49.526388Z"
    }
   },
   "outputs": [
    {
     "name": "stdout",
     "output_type": "stream",
     "text": [
      "ans =  0.60000\r\n"
     ]
    }
   ],
   "source": [
    "3 / 5"
   ]
  },
  {
   "cell_type": "code",
   "execution_count": 5,
   "metadata": {
    "ExecuteTime": {
     "end_time": "2020-10-29T17:53:59.197329Z",
     "start_time": "2020-10-29T17:53:59.179150Z"
    }
   },
   "outputs": [
    {
     "name": "stdout",
     "output_type": "stream",
     "text": [
      "warning: division by zero\r\n",
      "ans =  Inf\r\n"
     ]
    }
   ],
   "source": [
    "3 / 0 "
   ]
  },
  {
   "cell_type": "markdown",
   "metadata": {},
   "source": [
    "**Ćwiczenie**: oblicz ile wynoisi $\\frac{1.3^{2.2}}{5.3 - 3/13}$"
   ]
  },
  {
   "cell_type": "markdown",
   "metadata": {
    "slideshow": {
     "slide_type": "slide"
    }
   },
   "source": [
    "## Funkcje matematyczne\n",
    "\n",
    "Stałe: `pi` $\\pi$, `inf` $\\infty$, `NaN` not a number, `realmax` największa liczba,  rzeczywista, `eps` dokładność maszynowa\n",
    "\n",
    "Funkcje: `sin()`, `cos()`, `tan`, `cot`, `sinh`, `asin`, `sqrt()`  $\\sqrt{x}$, `exp()` $e^x$, `abs` $|x|$, `log`, `log2`, `log10`, `sign` znak, `mod` reszta z dzielenia\n",
    "\n"
   ]
  },
  {
   "cell_type": "code",
   "execution_count": 6,
   "metadata": {
    "ExecuteTime": {
     "end_time": "2020-10-29T17:58:54.070515Z",
     "start_time": "2020-10-29T17:58:54.053134Z"
    },
    "slideshow": {
     "slide_type": "-"
    }
   },
   "outputs": [
    {
     "name": "stdout",
     "output_type": "stream",
     "text": [
      "ans =  0.70711\r\n"
     ]
    }
   ],
   "source": [
    "sin( pi / 4 )"
   ]
  },
  {
   "cell_type": "code",
   "execution_count": 7,
   "metadata": {},
   "outputs": [
    {
     "name": "stdout",
     "output_type": "stream",
     "text": [
      "ans =   1.7977e+308\n",
      "ans =    2.2204e-16\n"
     ]
    }
   ],
   "source": [
    "realmax\n",
    "eps"
   ]
  },
  {
   "cell_type": "code",
   "execution_count": 8,
   "metadata": {
    "ExecuteTime": {
     "end_time": "2020-10-29T17:57:44.293449Z",
     "start_time": "2020-10-29T17:57:44.285824Z"
    }
   },
   "outputs": [
    {
     "name": "stdout",
     "output_type": "stream",
     "text": [
      "ans =  4\r\n"
     ]
    }
   ],
   "source": [
    "sqrt(16)"
   ]
  },
  {
   "cell_type": "code",
   "execution_count": 9,
   "metadata": {
    "ExecuteTime": {
     "end_time": "2020-10-29T17:57:41.241861Z",
     "start_time": "2020-10-29T17:57:41.235207Z"
    }
   },
   "outputs": [
    {
     "name": "stdout",
     "output_type": "stream",
     "text": [
      "ans =  0 + 1i\r\n"
     ]
    }
   ],
   "source": [
    "sqrt(-1)"
   ]
  },
  {
   "cell_type": "markdown",
   "metadata": {},
   "source": [
    "**Ćwiczenie**: oblicz ile wynosi $\\sqrt{\\sin(0.3\\pi) \\cdot e^{-0.1}} $"
   ]
  },
  {
   "cell_type": "markdown",
   "metadata": {
    "slideshow": {
     "slide_type": "slide"
    }
   },
   "source": [
    "## Wyjście poleceń\n",
    "\n",
    "* średnik na końcu instrukcji (;) wyłacza wyjście\n",
    "* `disp()` wypisywanie zmiennych \n",
    "* `fprintf()` wypisywanie formatowanych komunikatów zgodnie z funkcją `printf` z C"
   ]
  },
  {
   "cell_type": "code",
   "execution_count": 10,
   "metadata": {
    "ExecuteTime": {
     "end_time": "2020-10-29T17:59:03.934165Z",
     "start_time": "2020-10-29T17:59:03.927189Z"
    },
    "slideshow": {
     "slide_type": "-"
    }
   },
   "outputs": [],
   "source": [
    "sin(5) + 3;"
   ]
  },
  {
   "cell_type": "code",
   "execution_count": 11,
   "metadata": {
    "ExecuteTime": {
     "end_time": "2020-10-29T17:59:32.806269Z",
     "start_time": "2020-10-29T17:59:32.784208Z"
    },
    "slideshow": {
     "slide_type": "-"
    }
   },
   "outputs": [
    {
     "name": "stdout",
     "output_type": "stream",
     "text": [
      " 2.0411\n",
      "Witaj świecie\n"
     ]
    }
   ],
   "source": [
    "disp(sin(5) + 3);\n",
    "disp('Witaj świecie')"
   ]
  },
  {
   "cell_type": "code",
   "execution_count": 12,
   "metadata": {},
   "outputs": [
    {
     "name": "stdout",
     "output_type": "stream",
     "text": [
      "Witaj ściecie!\n",
      "sin(2) = 0.909297\n"
     ]
    }
   ],
   "source": [
    "fprintf('Witaj ściecie!\\n')\n",
    "fprintf('sin(%d) = %f\\n', 2, sin(2))"
   ]
  },
  {
   "cell_type": "markdown",
   "metadata": {
    "slideshow": {
     "slide_type": "slide"
    }
   },
   "source": [
    "Formatowanie `printf`:\n",
    "* liczby rzeczywiste: `%f`, `%e` notacja naukowa, `%g` krótka format \n",
    " * `%.3f` precyzja\n",
    " * `%10f` szerokośc okna\n",
    " * `%-10f` wyrówanie do lewej\n",
    "* `%d` liczby całkowite\n",
    "* `%x` liczby całkowite (szesnastkowo)\n",
    "* `%s` napis (ciąg znaków)\n",
    "* `%c` znak"
   ]
  },
  {
   "cell_type": "code",
   "execution_count": 13,
   "metadata": {},
   "outputs": [
    {
     "name": "stdout",
     "output_type": "stream",
     "text": [
      "3.141593\n",
      "3.141593e+00\n",
      "3.14159\n",
      "3.1415926536\n",
      "  3.141593\n",
      "      3.14\n",
      "3.14      \n",
      "42 2a *\n",
      "Liczba pi wynosi 3.141593"
     ]
    }
   ],
   "source": [
    "fprintf('%f\\n', pi)\n",
    "fprintf('%e\\n', pi)\n",
    "fprintf('%g\\n', pi)\n",
    "fprintf('%.10f\\n', pi)\n",
    "fprintf('%10f\\n', pi)\n",
    "fprintf('%10.2f\\n', pi)\n",
    "fprintf('%-10.2f\\n', pi)\n",
    "fprintf('%d %x %c\\n', 42, 42, 42)\n",
    "fprintf('Liczba %s wynosi %f', 'pi', pi)"
   ]
  },
  {
   "cell_type": "markdown",
   "metadata": {
    "slideshow": {
     "slide_type": "slide"
    }
   },
   "source": [
    "## Zmienne\n",
    "    \n",
    "* definicja i inicjalizacja zmiennych \n",
    "* operator `=` przypisania wartości <br>  `zmienna = wyrażenie`\n",
    "* nazwy zmiennych `A-Za-z0-9_`, małe/wielkie litery rozróżniane"
   ]
  },
  {
   "cell_type": "code",
   "execution_count": 14,
   "metadata": {
    "slideshow": {
     "slide_type": "-"
    },
    "solution": "shown",
    "solution_first": true
   },
   "outputs": [
    {
     "name": "stdout",
     "output_type": "stream",
     "text": [
      "x =  16\n",
      "y =  4\n",
      "z =  19.712\n",
      "napis = Witaj Świecie\n"
     ]
    }
   ],
   "source": [
    "x = 16 \n",
    "y = sqrt(x)\n",
    "z = x + y + sin(x) \n",
    "napis = 'Witaj Świecie'"
   ]
  },
  {
   "cell_type": "code",
   "execution_count": 15,
   "metadata": {},
   "outputs": [
    {
     "name": "stdout",
     "output_type": "stream",
     "text": [
      "x =  17\r\n"
     ]
    }
   ],
   "source": [
    "x = x + 1"
   ]
  },
  {
   "cell_type": "markdown",
   "metadata": {},
   "source": [
    "błędne przypisanie"
   ]
  },
  {
   "cell_type": "code",
   "execution_count": 16,
   "metadata": {},
   "outputs": [
    {
     "name": "stdout",
     "output_type": "stream",
     "text": [
      "parse error:\r\n",
      "\r\n",
      "  invalid constant left hand side of assignment\r\n",
      "\r\n",
      ">>> 1 = x\r\n",
      "      ^\r\n",
      "\r\n"
     ]
    }
   ],
   "source": [
    "1 = x"
   ]
  },
  {
   "cell_type": "markdown",
   "metadata": {
    "slideshow": {
     "slide_type": "slide"
    }
   },
   "source": [
    "* `who` - lista zmiennych \n",
    "* `whos` - lista zmiennych wraz informacją o typie\n",
    "* `clear` - usuwanie zmiennych"
   ]
  },
  {
   "cell_type": "code",
   "execution_count": 17,
   "metadata": {
    "slideshow": {
     "slide_type": "-"
    },
    "solution": "shown"
   },
   "outputs": [
    {
     "name": "stdout",
     "output_type": "stream",
     "text": [
      "Variables in the current scope:\r\n",
      "\r\n",
      "ans    napis  x      y      z\r\n",
      "\r\n"
     ]
    }
   ],
   "source": [
    "who"
   ]
  },
  {
   "cell_type": "code",
   "execution_count": 18,
   "metadata": {
    "slideshow": {
     "slide_type": "-"
    }
   },
   "outputs": [
    {
     "name": "stdout",
     "output_type": "stream",
     "text": [
      "Variables in the current scope:\r\n",
      "\r\n",
      "   Attr Name        Size                     Bytes  Class\r\n",
      "   ==== ====        ====                     =====  ===== \r\n",
      "        ans         1x1                          8  double\r\n",
      "        napis       1x14                        14  char\r\n",
      "        x           1x1                          8  double\r\n",
      "        y           1x1                          8  double\r\n",
      "        z           1x1                          8  double\r\n",
      "\r\n",
      "Total is 18 elements using 46 bytes\r\n",
      "\r\n"
     ]
    }
   ],
   "source": [
    "whos"
   ]
  },
  {
   "cell_type": "markdown",
   "metadata": {},
   "source": [
    "* zmienne są macierzami, liczby to macierze 1x1\n",
    "* napisy są wektorem znaków (`char`) 1xN"
   ]
  },
  {
   "cell_type": "markdown",
   "metadata": {
    "slideshow": {
     "slide_type": "slide"
    }
   },
   "source": [
    "## Zmienna `ans`\n",
    "\n",
    "* zmienna `ans` przechowuje ostatni wynik (answer)"
   ]
  },
  {
   "cell_type": "code",
   "execution_count": 19,
   "metadata": {},
   "outputs": [
    {
     "name": "stdout",
     "output_type": "stream",
     "text": [
      "ans =  1.4142\r\n"
     ]
    }
   ],
   "source": [
    "sqrt(2)"
   ]
  },
  {
   "cell_type": "code",
   "execution_count": 20,
   "metadata": {},
   "outputs": [
    {
     "name": "stdout",
     "output_type": "stream",
     "text": [
      "x =  6.4142\r\n"
     ]
    }
   ],
   "source": [
    "x = ans + 5"
   ]
  },
  {
   "cell_type": "markdown",
   "metadata": {
    "slideshow": {
     "slide_type": "slide"
    }
   },
   "source": [
    "## Typy danych\n",
    "\n",
    "* typ `double` domyślny dla warlości liczbowych\n",
    "* typ logiczny `logical`, wartości: `true`, `false`\n",
    "* typ znakowy `char`, napis to macierz (wektor) znaków\n",
    "* typ całkowity `int32` po rzutowaniu `int32()`\n"
   ]
  },
  {
   "cell_type": "code",
   "execution_count": 21,
   "metadata": {},
   "outputs": [
    {
     "name": "stdout",
     "output_type": "stream",
     "text": [
      "Variables in the current scope:\r\n",
      "\r\n",
      "   Attr Name        Size                     Bytes  Class\r\n",
      "   ==== ====        ====                     =====  ===== \r\n",
      "        ans         1x1                          8  double\r\n",
      "        d           1x3                          3  char\r\n",
      "        napis       1x14                        14  char\r\n",
      "        x           1x1                          8  double\r\n",
      "        y           1x1                          1  logical\r\n",
      "        z           1x1                          4  int32\r\n",
      "\r\n",
      "Total is 21 elements using 38 bytes\r\n",
      "\r\n"
     ]
    }
   ],
   "source": [
    "x = 1;\n",
    "y = true;\n",
    "z = int32(x);\n",
    "d = 'abc';\n",
    "whos"
   ]
  },
  {
   "cell_type": "markdown",
   "metadata": {
    "slideshow": {
     "slide_type": "slide"
    }
   },
   "source": [
    "## Wektory"
   ]
  },
  {
   "cell_type": "code",
   "execution_count": 22,
   "metadata": {
    "scrolled": true
   },
   "outputs": [
    {
     "name": "stdout",
     "output_type": "stream",
     "text": [
      "x =\r\n",
      "\r\n",
      "   1   2   3\r\n",
      "\r\n"
     ]
    }
   ],
   "source": [
    "x = [ 1  2  3]"
   ]
  },
  {
   "cell_type": "code",
   "execution_count": 23,
   "metadata": {},
   "outputs": [
    {
     "name": "stdout",
     "output_type": "stream",
     "text": [
      "x =\r\n",
      "\r\n",
      "   1   2   3\r\n",
      "\r\n"
     ]
    }
   ],
   "source": [
    "x = [ 1,  2,  3]"
   ]
  },
  {
   "cell_type": "code",
   "execution_count": 24,
   "metadata": {},
   "outputs": [
    {
     "name": "stdout",
     "output_type": "stream",
     "text": [
      "x =\r\n",
      "\r\n",
      "    1    2    3    4    5    6    7    8    9   10\r\n",
      "\r\n"
     ]
    }
   ],
   "source": [
    "x = 1:10"
   ]
  },
  {
   "cell_type": "code",
   "execution_count": 25,
   "metadata": {},
   "outputs": [
    {
     "name": "stdout",
     "output_type": "stream",
     "text": [
      "y =\r\n",
      "\r\n",
      "   1\r\n",
      "   2\r\n",
      "   3\r\n",
      "   4\r\n",
      "\r\n"
     ]
    }
   ],
   "source": [
    "y = [ 1 ; 2 ; 3 ; 4]"
   ]
  },
  {
   "cell_type": "markdown",
   "metadata": {
    "slideshow": {
     "slide_type": "slide"
    }
   },
   "source": [
    "## Operacje na wektorach"
   ]
  },
  {
   "cell_type": "code",
   "execution_count": 26,
   "metadata": {},
   "outputs": [
    {
     "name": "stdout",
     "output_type": "stream",
     "text": [
      "x =\n",
      "\n",
      "   1   2   3   4   5\n",
      "\n",
      "ans =\n",
      "\n",
      "   3   4   5   6   7\n",
      "\n"
     ]
    }
   ],
   "source": [
    "x = [1 2 3 4 5]\n",
    "x + 2"
   ]
  },
  {
   "cell_type": "code",
   "execution_count": 27,
   "metadata": {},
   "outputs": [
    {
     "name": "stdout",
     "output_type": "stream",
     "text": [
      "ans =\r\n",
      "\r\n",
      "   1.0000   1.4142   1.7321   2.0000   2.2361\r\n",
      "\r\n"
     ]
    }
   ],
   "source": [
    "sqrt(x)"
   ]
  },
  {
   "cell_type": "code",
   "execution_count": 28,
   "metadata": {},
   "outputs": [
    {
     "name": "stdout",
     "output_type": "stream",
     "text": [
      "y =\n",
      "\n",
      "    6    7    8    9   10\n",
      "\n",
      "z =\n",
      "\n",
      "    7    9   11   13   15\n",
      "\n",
      "ans =\n",
      "\n",
      "   1.0000   1.4142   1.7321   2.0000   2.2361\n",
      "\n"
     ]
    }
   ],
   "source": [
    "y = [6 7 8 9 10]\n",
    "z = x + y\n",
    "sqrt(x)"
   ]
  },
  {
   "cell_type": "markdown",
   "metadata": {},
   "source": [
    "**Ćwiczenie**: oblicz wartość wyrażenia $\\begin{bmatrix} \n",
    "1 & 2 & 3 \\\\\n",
    "\\end{bmatrix} \\cdot\n",
    "\\begin{bmatrix} \n",
    "1 \\\\\n",
    "2\\\\\n",
    "3 \\\\\n",
    "\\end{bmatrix}$"
   ]
  },
  {
   "cell_type": "markdown",
   "metadata": {
    "slideshow": {
     "slide_type": "slide"
    }
   },
   "source": [
    "## Komendy wbudowane\n",
    "\n",
    "* `clc` czyszczenie wiersza poleceń \n",
    "* `who` `whos` lista zmiennych\n",
    "* `clear` usuwa wszystkie zmienne\n",
    "* `clear x` usuwa zmienną `x`\n",
    "* `help polecenie` pomoc \n",
    "* `quit` wyjście z Matlab"
   ]
  },
  {
   "cell_type": "code",
   "execution_count": 29,
   "metadata": {},
   "outputs": [
    {
     "name": "stdout",
     "output_type": "stream",
     "text": [
      "'sin' is a built-in function from the file libinterp/corefcn/mappers.cc\r\n",
      "\r\n",
      " -- sin (X)\r\n",
      "     Compute the sine for each element of X in radians.\r\n",
      "\r\n",
      "     See also: asin, sind, sinh.\r\n",
      "\r\n",
      "Additional help for built-in functions and operators is\r\n",
      "available in the online version of the manual.  Use the command\r\n",
      "'doc <topic>' to search the manual index.\r\n",
      "\r\n",
      "Help and information about Octave is also available on the WWW\r\n",
      "at https://www.octave.org and via the help@octave.org\r\n",
      "mailing list.\r\n"
     ]
    }
   ],
   "source": [
    "help sin"
   ]
  },
  {
   "cell_type": "markdown",
   "metadata": {
    "slideshow": {
     "slide_type": "slide"
    }
   },
   "source": [
    "## Pomoc\n",
    "\n",
    "* `help polecenie` pomoc dotycząca polecenia\n",
    "  * `help elfun` elementarne funkcje matematyczne\n",
    "  * `help elmat` elementarne funkcje macierzowe\n",
    "* `doc polecenie` strona dokumentacji dotycząca polecenia\n",
    "* `lookfor wyrażenie` lista poleceń dotyczacych wyrażenia\n",
    "*  `F1`pomoc dotycząca zaznacznej funkcji"
   ]
  },
  {
   "cell_type": "code",
   "execution_count": 30,
   "metadata": {},
   "outputs": [
    {
     "name": "stdout",
     "output_type": "stream",
     "text": [
      "acos                Compute the inverse cosine in radians for each element of X\r\n",
      "                    .\r\n",
      "acosh               Compute the inverse hyperbolic cosine for each element of X\r\n",
      "                    .\r\n",
      "cos                 Compute the cosine for each element of X in radians.\r\n",
      "cosh                Compute the hyperbolic cosine for each element of X.\r\n",
      "acosd               Compute the inverse cosine in degrees for each element of X\r\n",
      "                    .\r\n",
      "cosd                Compute the cosine for each element of X in degrees.\r\n",
      "cosint              Compute the cosine integral function:\r\n"
     ]
    }
   ],
   "source": [
    "lookfor cosine"
   ]
  },
  {
   "cell_type": "markdown",
   "metadata": {},
   "source": [
    "**Ćwiczenie**: zobacz pomoc dla polecenia `format`. Porównaj wyniki wyświetlania liczby $\\pi$ w róznych formatach, np.: `short`, `long`, `rat`, `bin`"
   ]
  },
  {
   "cell_type": "markdown",
   "metadata": {
    "slideshow": {
     "slide_type": "slide"
    }
   },
   "source": [
    "## Wykresy"
   ]
  },
  {
   "cell_type": "code",
   "execution_count": 31,
   "metadata": {
    "scrolled": true
   },
   "outputs": [
    {
     "data": {
      "image/png": "[encoded data removed]",
      "text/plain": [
       "<IPython.core.display.Image object>"
      ]
     },
     "metadata": {},
     "output_type": "display_data"
    }
   ],
   "source": [
    "x = -pi:pi;\n",
    "plot(x, sin(x));"
   ]
  },
  {
   "cell_type": "code",
   "execution_count": 32,
   "metadata": {},
   "outputs": [
    {
     "data": {
      "image/png": "[encoded data removed]",
      "text/plain": [
       "<IPython.core.display.Image object>"
      ]
     },
     "metadata": {},
     "output_type": "display_data"
    }
   ],
   "source": [
    "plot(x, cos(x), 'o')"
   ]
  },
  {
   "cell_type": "markdown",
   "metadata": {
    "slideshow": {
     "slide_type": "slide"
    }
   },
   "source": [
    "## Inne przydatne komendy\n",
    "\n",
    "* `cd` zmiana katalogu\n",
    "* `dir` zawartość katalogu\n",
    "* `pwd` bieżący katalog\n",
    "* `save nazwa` zapis zmiennych, `load nazwa` odczytanie zmiennych\n",
    "* `date` data\n",
    "* `clc` czyszcenie wiersza poleceń\n",
    "* `quit` wyjście z Matlab\n"
   ]
  },
  {
   "cell_type": "code",
   "execution_count": 33,
   "metadata": {
    "slideshow": {
     "slide_type": "-"
    }
   },
   "outputs": [
    {
     "name": "stdout",
     "output_type": "stream",
     "text": [
      "ans = /home/marek/work/zajecia/2020.zimowy/pp2/github\n",
      "ans = 03-Nov-2020\n"
     ]
    }
   ],
   "source": [
    "pwd\n",
    "date"
   ]
  },
  {
   "cell_type": "markdown",
   "metadata": {
    "slideshow": {
     "slide_type": "subslide"
    }
   },
   "source": [
    "**Ćwiczenie**: wykonaj nastepujące kroki:\n",
    "1. usuń wszystkie zmienne i wyczyść wiersz poleceń\n",
    "2. utwóż zmienne $x=\\pi$ i $y = [1, 2, 3, 4, 5, 6, 7, 8, 9, 10]$\n",
    "3. zapisz zmienne w pliku o nazwie `dane`\n",
    "4. usuń zmienne $x$ i $y$\n",
    "5. wczytaj zmienne z pliku `dane` i wypisz ich wartości\n"
   ]
  },
  {
   "cell_type": "markdown",
   "metadata": {
    "slideshow": {
     "slide_type": "slide"
    }
   },
   "source": [
    "## Skrypty\n",
    "\n",
    "Tryby pracy Matlab:\n",
    "* interaktywny - w wierszu poleceń\n",
    "* wsadowy - plik `*.m` (M-pliki) zawierający ciąg instrukcji staje się poleceniem Matlab. Nazwa pliku staje się poleceniem Matlaba\n",
    "\n",
    "Przykład: uruchomienie pliku [hello.m](https://raw.githubusercontent.com/IS-UMK/pp2_matlab/master/hello.m)"
   ]
  },
  {
   "cell_type": "code",
   "execution_count": 34,
   "metadata": {},
   "outputs": [
    {
     "name": "stdout",
     "output_type": "stream",
     "text": [
      "Witaj Świecie\r\n"
     ]
    }
   ],
   "source": [
    "hello"
   ]
  },
  {
   "cell_type": "markdown",
   "metadata": {},
   "source": [
    "* `type nazwa` wyświetla zawartość pliku\n",
    "* `edit nazwa` otwiera edycję pliku "
   ]
  },
  {
   "cell_type": "code",
   "execution_count": 35,
   "metadata": {
    "slideshow": {
     "slide_type": "-"
    }
   },
   "outputs": [
    {
     "name": "stdout",
     "output_type": "stream",
     "text": [
      "hello is the user-defined function defined from: /home/marek/work/zajecia/2020.zimowy/pp2/github/hello.m\r\n",
      "\r\n",
      "% To jest pierwszy progeam w Matlab\r\n",
      "\r\n",
      "tekst = 'Witaj Świecie';\r\n",
      "\r\n",
      "disp(tekst)\r\n",
      "\r\n"
     ]
    }
   ],
   "source": [
    "type hello"
   ]
  },
  {
   "cell_type": "code",
   "execution_count": 36,
   "metadata": {},
   "outputs": [
    {
     "name": "stdout",
     "output_type": "stream",
     "text": [
      "'hello' is a script from the file /home/marek/work/zajecia/2020.zimowy/pp2/github/hello.m\r\n",
      "\r\n",
      " To jest pierwszy progeam w Matlab\r\n",
      "\r\n",
      "\r\n",
      "Additional help for built-in functions and operators is\r\n",
      "available in the online version of the manual.  Use the command\r\n",
      "'doc <topic>' to search the manual index.\r\n",
      "\r\n",
      "Help and information about Octave is also available on the WWW\r\n",
      "at https://www.octave.org and via the help@octave.org\r\n",
      "mailing list.\r\n"
     ]
    }
   ],
   "source": [
    "help hello"
   ]
  },
  {
   "cell_type": "markdown",
   "metadata": {
    "slideshow": {
     "slide_type": "slide"
    }
   },
   "source": [
    "## Zadanie\n",
    "\n",
    "Napisz skrypt o nazwie `zad1.m`, który wykona nastepujące instrukcje:\n",
    "* wypisze Twoje imię i numer indeksu\n",
    "* wypisze wartość funkcji $$f(x) = \\frac{1}{ \\sqrt{2 \\pi}} e^{-x^2}$$ w punkcie $x=1$ z dokładnościa do 3 miejsc po przecinku\n",
    "* wyrysuje wykres $$ f(x) =  cos(2x) + e^{-0.01 x}$$  na odcinku $[-100, 100]$"
   ]
  }
 ],
 "metadata": {
  "celltoolbar": "Slideshow",
  "kernelspec": {
   "display_name": "Octave",
   "language": "octave",
   "name": "octave"
  },
  "language_info": {
   "file_extension": ".m",
   "help_links": [
    {
     "text": "GNU Octave",
     "url": "https://www.gnu.org/software/octave/support.html"
    },
    {
     "text": "Octave Kernel",
     "url": "https://github.com/Calysto/octave_kernel"
    },
    {
     "text": "MetaKernel Magics",
     "url": "https://metakernel.readthedocs.io/en/latest/source/README.html"
    }
   ],
   "mimetype": "text/x-octave",
   "name": "octave",
   "version": "5.2.0"
  },
  "toc": {
   "base_numbering": 1,
   "nav_menu": {},
   "number_sections": true,
   "sideBar": true,
   "skip_h1_title": false,
   "title_cell": "Table of Contents",
   "title_sidebar": "Contents",
   "toc_cell": false,
   "toc_position": {},
   "toc_section_display": true,
   "toc_window_display": false
  },
  "varInspector": {
   "cols": {
    "lenName": 16,
    "lenType": 16,
    "lenVar": 40
   },
   "kernels_config": {
    "python": {
     "delete_cmd_postfix": "",
     "delete_cmd_prefix": "del ",
     "library": "var_list.py",
     "varRefreshCmd": "print(var_dic_list())"
    },
    "r": {
     "delete_cmd_postfix": ") ",
     "delete_cmd_prefix": "rm(",
     "library": "var_list.r",
     "varRefreshCmd": "cat(var_dic_list()) "
    }
   },
   "types_to_exclude": [
    "module",
    "function",
    "builtin_function_or_method",
    "instance",
    "_Feature"
   ],
   "window_display": false
  }
 },
 "nbformat": 4,
 "nbformat_minor": 4
}
