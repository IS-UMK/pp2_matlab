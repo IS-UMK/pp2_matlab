{
 "cells": [
  {
   "cell_type": "markdown",
   "metadata": {
    "slideshow": {
     "slide_type": "slide"
    }
   },
   "source": [
    "# Funkcje, skrypty i instrukcje sterujące\n",
    "\n",
    "\n",
    "* skrypt `plik.m` jest programem, który możemy uruchomić w linii komend Matlaba, operuje na danych zdefiniowanych w przestrzeni roboczej (`workspace`)\n",
    "* skrypt może realizoać funkcję, czyli dla danych argumentów wzraca wartość wyjściową. Zmienne wewnętrzne funkcji są zmiennymi lokalnymi\n",
    "* podstawowe instrukcje sterujące Matlab\n",
    "  * instrukcja warunkowa `if`\n",
    "  * pętla `while`\n",
    " "
   ]
  },
  {
   "cell_type": "markdown",
   "metadata": {
    "slideshow": {
     "slide_type": "slide"
    }
   },
   "source": [
    "## Skrypt \n",
    "\n",
    "* nazwa skryptu staje się poleceniem\n",
    "* znak `%` rozpoczyna komentarz. Komentarz umieszczony na poczatku skryptu wyświtlaby jest przez polecenie `help`\n",
    "\n",
    "Przykład: skrypt `pole_kola.m`\n"
   ]
  },
  {
   "cell_type": "code",
   "execution_count": 1,
   "metadata": {},
   "outputs": [
    {
     "name": "stdout",
     "output_type": "stream",
     "text": [
      "pole_kola is the user-defined function defined from: /home/marek/work/zajecia/2020.zimowy/pp2/github/pole_kola.m\r\n",
      "\r\n",
      "% Skrypt wyznacza pole koła o promieniu 5\r\n",
      "\r\n",
      "% wartość promienia\r\n",
      "r = 5\r\n",
      "\r\n",
      "% wzór na pole koła\r\n",
      "pole = pi * r^2\r\n",
      "\r\n",
      "\r\n"
     ]
    }
   ],
   "source": [
    "type pole_kola"
   ]
  },
  {
   "cell_type": "code",
   "execution_count": 3,
   "metadata": {},
   "outputs": [
    {
     "name": "stdout",
     "output_type": "stream",
     "text": [
      "'pole_kola' is a script from the file /home/marek/work/zajecia/2020.zimowy/pp2/github/pole_kola.m\r\n",
      "\r\n",
      " Skrypt wyznacza pole koła o promieniu 5\r\n",
      "\r\n",
      "\r\n",
      "Additional help for built-in functions and operators is\r\n",
      "available in the online version of the manual.  Use the command\r\n",
      "'doc <topic>' to search the manual index.\r\n",
      "\r\n",
      "Help and information about Octave is also available on the WWW\r\n",
      "at https://www.octave.org and via the help@octave.org\r\n",
      "mailing list.\r\n"
     ]
    }
   ],
   "source": [
    "help pole_kola"
   ]
  },
  {
   "cell_type": "code",
   "execution_count": 4,
   "metadata": {},
   "outputs": [
    {
     "name": "stdout",
     "output_type": "stream",
     "text": [
      "r =  5\r\n",
      "pole =  78.540\r\n"
     ]
    }
   ],
   "source": [
    "pole_kola"
   ]
  },
  {
   "cell_type": "code",
   "execution_count": 6,
   "metadata": {},
   "outputs": [
    {
     "name": "stdout",
     "output_type": "stream",
     "text": [
      "Variables in the current scope:\r\n",
      "\r\n",
      "   Attr Name        Size                     Bytes  Class\r\n",
      "   ==== ====        ====                     =====  ===== \r\n",
      "        ans         1x1                          8  double\r\n",
      "        pole        1x1                          8  double\r\n",
      "        r           1x1                          8  double\r\n",
      "\r\n",
      "Total is 3 elements using 24 bytes\r\n",
      "\r\n"
     ]
    }
   ],
   "source": [
    "whos"
   ]
  },
  {
   "cell_type": "markdown",
   "metadata": {
    "slideshow": {
     "slide_type": "slide"
    }
   },
   "source": [
    "## Definicja funkcji\n",
    "\n",
    "**function** *argumenty_wyjściowe* **=** *nazwa_funkcji* **(** *argumenty_wejściowe* **)**  \n",
    "**%** Komentarz stanowiący pomoc funkcji  \n",
    "\n",
    "&nbsp;&nbsp;&nbsp;instrukcje skryptu  \n",
    "\n",
    "**end**\n",
    "\n",
    "---\n",
    "* nazwa funkcji musi byc taka sama jak nazwa pliku\n",
    "* zwracane są wartości przypisane do _argumentów wyjściowych_\n",
    "\n",
    "Przykład: `pole_kola2.m`"
   ]
  },
  {
   "cell_type": "code",
   "execution_count": 13,
   "metadata": {},
   "outputs": [],
   "source": [
    "function pole = pole_kola2(r)\n",
    "% Skrypt wyznacza pole koła o promieniu r\n",
    "\n",
    "pole = pi * r^2;\n",
    "\n",
    "end"
   ]
  },
  {
   "cell_type": "code",
   "execution_count": 10,
   "metadata": {
    "ExecuteTime": {
     "end_time": "2020-10-29T17:58:30.253834Z",
     "start_time": "2020-10-29T17:58:30.231643Z"
    },
    "slideshow": {
     "slide_type": "-"
    }
   },
   "outputs": [
    {
     "name": "stdout",
     "output_type": "stream",
     "text": [
      "ans =  78.540\r\n"
     ]
    }
   ],
   "source": [
    "pole_kola2(5)"
   ]
  },
  {
   "cell_type": "markdown",
   "metadata": {},
   "source": [
    "podstawienie wyniku z funkcji"
   ]
  },
  {
   "cell_type": "code",
   "execution_count": 12,
   "metadata": {
    "ExecuteTime": {
     "end_time": "2020-10-29T17:41:33.997960Z",
     "start_time": "2020-10-29T17:41:33.953518Z"
    },
    "slideshow": {
     "slide_type": "-"
    }
   },
   "outputs": [
    {
     "name": "stdout",
     "output_type": "stream",
     "text": [
      "Pole koła o promieniu 3 wynosi 28.274334\r\n"
     ]
    }
   ],
   "source": [
    "pole = pole_kola2( 3 );\n",
    "printf('Pole koła o promieniu 3 wynosi %f\\n', pole);"
   ]
  },
  {
   "attachments": {
    "image.png": {
     "image/png": "[encoded data removed]"
    }
   },
   "cell_type": "markdown",
   "metadata": {},
   "source": [
    "Skrypt lub funkcja mogą byc uruchamiane wewnątrz innych skryptów i funkcji\n",
    "\n",
    "Przykład: funkcja `objetosc_stozka.m` wyznacza wartość: \n",
    "$$ V = \\frac{1}{3} \\pi r^2 h $$\n",
    "gdzie argumentami skryptu są wartości: $r$ promień podstawy, $h$ wysokość stożka.\n",
    "\n",
    "![image.png](attachment:image.png)\n"
   ]
  },
  {
   "cell_type": "code",
   "execution_count": 17,
   "metadata": {},
   "outputs": [
    {
     "name": "stdout",
     "output_type": "stream",
     "text": [
      "ans =  3.1416\r\n"
     ]
    }
   ],
   "source": [
    "objetosc_stozka(1, 3)"
   ]
  },
  {
   "cell_type": "markdown",
   "metadata": {},
   "source": [
    "**Ćwiczenie:**\n",
    "\n",
    "Napisz funkcję, która wyznacza TODO"
   ]
  },
  {
   "cell_type": "markdown",
   "metadata": {
    "slideshow": {
     "slide_type": "slide"
    }
   },
   "source": [
    "## Instrukcja warunkowa `if`\n",
    "\n",
    "**if** warunek  \n",
    "&nbsp;&nbsp;&nbsp; instrukcje  \n",
    "**end**\n",
    "\n",
    "* operatory relacji do porównywania wartości\n",
    "* podobnie jak w C mozna uzywac liczb całkowitych w roli wartości logicznych: fałsz to 0, prawda to 1\n",
    "\n",
    "\n"
   ]
  },
  {
   "cell_type": "code",
   "execution_count": 29,
   "metadata": {},
   "outputs": [
    {
     "name": "stdout",
     "output_type": "stream",
     "text": [
      "x =  2\r\n"
     ]
    }
   ],
   "source": [
    "x = 2\n",
    "if x < 0\n",
    "    printf('Wartość %f jest mniejsza od zera', x);\n",
    "end"
   ]
  },
  {
   "cell_type": "markdown",
   "metadata": {
    "slideshow": {
     "slide_type": "slide"
    }
   },
   "source": [
    "## Operatory relacji\n",
    "\n",
    "\n",
    "**Uwaga**: `=` to operator przypisania a `==` to operator porównania\n"
   ]
  },
  {
   "cell_type": "code",
   "execution_count": 23,
   "metadata": {},
   "outputs": [
    {
     "name": "stdout",
     "output_type": "stream",
     "text": [
      "ans = 0\n",
      "ans = 1\n",
      "ans = 0\n"
     ]
    }
   ],
   "source": [
    "5 < 3       % porównywanie liczb\n",
    "4 == 3 + 1\n",
    "'z' < 'a'   % porównywanie znaków"
   ]
  },
  {
   "cell_type": "markdown",
   "metadata": {},
   "source": [
    "## Operatory logiczne"
   ]
  },
  {
   "cell_type": "code",
   "execution_count": 24,
   "metadata": {},
   "outputs": [
    {
     "name": "stdout",
     "output_type": "stream",
     "text": [
      "ans = 0\n",
      "ans = 1\n",
      "ans = 0\n"
     ]
    }
   ],
   "source": [
    "x = 2;\n",
    "y = 3;\n",
    "x < y && y > 5\n",
    "x > y || y - 1 == x \n",
    "xor(x > y, 'b' < 'a')"
   ]
  },
  {
   "cell_type": "markdown",
   "metadata": {},
   "source": [
    "## Instrukcja if else\n"
   ]
  },
  {
   "cell_type": "code",
   "execution_count": 33,
   "metadata": {},
   "outputs": [
    {
     "name": "stdout",
     "output_type": "stream",
     "text": [
      "x =  42\n",
      "Liczba  42 jest parzysta"
     ]
    }
   ],
   "source": [
    "x = 42\n",
    "\n",
    "if x % 2 == 0\n",
    "    printf('Liczba  %d jest parzysta', x);\n",
    "else\n",
    "    printf('Liczba %d jest nieparzysta', x);\n",
    "end"
   ]
  },
  {
   "cell_type": "markdown",
   "metadata": {},
   "source": [
    "## Instrukcja if elseif else\n"
   ]
  },
  {
   "cell_type": "code",
   "execution_count": 34,
   "metadata": {},
   "outputs": [
    {
     "name": "stdout",
     "output_type": "stream",
     "text": [
      "x =  42\n",
      "Liczba 42 jest wieksza lub równa 10"
     ]
    }
   ],
   "source": [
    "x = 42\n",
    "\n",
    "if x < 0\n",
    "    printf('Liczba  jest mniejsza od zera', x);\n",
    "elseif x < 10\n",
    "    printf('Liczba %d jest dodatnia i mniejsza od 10', x);\n",
    "else\n",
    "    printf('Liczba %d jest wieksza lub równa 10', x);\n",
    "end"
   ]
  },
  {
   "cell_type": "markdown",
   "metadata": {},
   "source": [
    "## Pętla for"
   ]
  },
  {
   "cell_type": "code",
   "execution_count": 35,
   "metadata": {},
   "outputs": [
    {
     "name": "stdout",
     "output_type": "stream",
     "text": [
      "Pole koła o promieniu 3.000000 wynosi 28.274334\r\n",
      "Pole koła o promieniu 5.000000 wynosi 78.539816\r\n",
      "Pole koła o promieniu 7.000000 wynosi 153.938040\r\n"
     ]
    }
   ],
   "source": [
    "for i=[3 5 7]\n",
    "    printf('Pole koła o promieniu %f wynosi %f\\n', i, pole_kola2(i));\n",
    "end"
   ]
  },
  {
   "cell_type": "code",
   "execution_count": 40,
   "metadata": {},
   "outputs": [
    {
     "name": "stdout",
     "output_type": "stream",
     "text": [
      "  1   2   3   4   5   6   7   8   9  10 \r\n",
      "  2   4   6   8  10  12  14  16  18  20 \r\n",
      "  3   6   9  12  15  18  21  24  27  30 \r\n",
      "  4   8  12  16  20  24  28  32  36  40 \r\n",
      "  5  10  15  20  25  30  35  40  45  50 \r\n",
      "  6  12  18  24  30  36  42  48  54  60 \r\n",
      "  7  14  21  28  35  42  49  56  63  70 \r\n",
      "  8  16  24  32  40  48  56  64  72  80 \r\n",
      "  9  18  27  36  45  54  63  72  81  90 \r\n",
      " 10  20  30  40  50  60  70  80  90 100 \r\n"
     ]
    }
   ],
   "source": [
    "% tabliczka mnożenia\n",
    "for i=1:10\n",
    "    for j=1:10\n",
    "        printf('%3d ', i*j);\n",
    "    end\n",
    "    printf('\\n');\n",
    "end\n"
   ]
  }
 ],
 "metadata": {
  "celltoolbar": "Slideshow",
  "kernelspec": {
   "display_name": "Octave",
   "language": "octave",
   "name": "octave"
  },
  "language_info": {
   "file_extension": ".m",
   "help_links": [
    {
     "text": "GNU Octave",
     "url": "https://www.gnu.org/software/octave/support.html"
    },
    {
     "text": "Octave Kernel",
     "url": "https://github.com/Calysto/octave_kernel"
    },
    {
     "text": "MetaKernel Magics",
     "url": "https://metakernel.readthedocs.io/en/latest/source/README.html"
    }
   ],
   "mimetype": "text/x-octave",
   "name": "octave",
   "version": "5.2.0"
  },
  "toc": {
   "base_numbering": 1,
   "nav_menu": {},
   "number_sections": true,
   "sideBar": true,
   "skip_h1_title": false,
   "title_cell": "Table of Contents",
   "title_sidebar": "Contents",
   "toc_cell": false,
   "toc_position": {},
   "toc_section_display": true,
   "toc_window_display": false
  },
  "varInspector": {
   "cols": {
    "lenName": 16,
    "lenType": 16,
    "lenVar": 40
   },
   "kernels_config": {
    "python": {
     "delete_cmd_postfix": "",
     "delete_cmd_prefix": "del ",
     "library": "var_list.py",
     "varRefreshCmd": "print(var_dic_list())"
    },
    "r": {
     "delete_cmd_postfix": ") ",
     "delete_cmd_prefix": "rm(",
     "library": "var_list.r",
     "varRefreshCmd": "cat(var_dic_list()) "
    }
   },
   "types_to_exclude": [
    "module",
    "function",
    "builtin_function_or_method",
    "instance",
    "_Feature"
   ],
   "window_display": false
  }
 },
 "nbformat": 4,
 "nbformat_minor": 4
}
