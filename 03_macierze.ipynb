{
 "cells": [
  {
   "attachments": {
    "image.png": {
     "image/png": "[encoded data removed]"
    }
   },
   "cell_type": "markdown",
   "metadata": {
    "slideshow": {
     "slide_type": "slide"
    }
   },
   "source": [
    "# Wektory i macierze\n",
    "\n",
    "* zmienne: skalary, wektory, macierze\n",
    "* operacje wektorowe (wektoryzacja), operacje wykonywane na elementach macierzy bez konieczności uzywania pętli\n",
    "\n",
    "![image.png](attachment:image.png)"
   ]
  },
  {
   "cell_type": "code",
   "execution_count": 5,
   "metadata": {
    "scrolled": true,
    "slideshow": {
     "slide_type": "slide"
    }
   },
   "outputs": [
    {
     "name": "stdout",
     "output_type": "stream",
     "text": [
      "s =  5\n",
      "v1 =\n",
      "\n",
      "    5   88    3   11\n",
      "\n",
      "v2 =\n",
      "\n",
      "   3\n",
      "   7\n",
      "   4\n",
      "\n",
      "m =\n",
      "\n",
      "   9   6   3\n",
      "   5   7   2\n",
      "\n",
      "Variables in the current scope:\n",
      "\n",
      "   Attr Name        Size                     Bytes  Class\n",
      "   ==== ====        ====                     =====  ===== \n",
      "        ans         1x5                          5  char\n",
      "        m           2x3                         48  double\n",
      "        s           1x1                          8  double\n",
      "        v1          1x4                         32  double\n",
      "        v2          3x1                         24  double\n",
      "\n",
      "Total is 19 elements using 117 bytes\n",
      "\n"
     ]
    }
   ],
   "source": [
    "s = 5                 % skalar\n",
    "v1 = [5, 88, 3, 11]   % wektor \"wierszowy\"\n",
    "v2 = [3; 7; 4]        % wektor \"kolumnowy\"\n",
    "m = [9 6 3; 5 7 2]    % macierz\n",
    "whos"
   ]
  },
  {
   "cell_type": "markdown",
   "metadata": {
    "slideshow": {
     "slide_type": "slide"
    }
   },
   "source": [
    "## Tworzenie wektorów\n",
    "* operator `:` \n",
    " * `N:M`wartości całkowite od `N` do `M`\n",
    " * `N:K:M` wartości załkowite od `N` do `M` z krokiem `K`\n",
    "* funkcja `linspace(N, M, K)` - wektor zawierający `K` rónoodległych punktów na odcinnku od `N` do `M`"
   ]
  },
  {
   "cell_type": "code",
   "execution_count": 7,
   "metadata": {},
   "outputs": [
    {
     "name": "stdout",
     "output_type": "stream",
     "text": [
      "v1 =\n",
      "\n",
      "   1   2   3   4\n",
      "\n",
      "v2 =\n",
      "\n",
      "    1.0000    1.5000    2.0000    2.5000    3.0000    3.5000    4.0000\n",
      "\n",
      "v3 =\n",
      "\n",
      "   1.0000   1.2500   1.5000   1.7500   2.0000\n",
      "\n"
     ]
    }
   ],
   "source": [
    "v1 = 1:4\n",
    "v2 = 1:0.5:4\n",
    "v3 = linspace(1, 2, 5)"
   ]
  },
  {
   "cell_type": "markdown",
   "metadata": {},
   "source": [
    "**Ćwiczenie**: za pomocą operatora `:` wygeneruj wektor `[9 7 5 3 1]`"
   ]
  },
  {
   "cell_type": "markdown",
   "metadata": {
    "slideshow": {
     "slide_type": "slide"
    }
   },
   "source": [
    "## Dostęp do elementów wektora\n",
    "\n",
    "* elementy indeksowane od `1` za pomocą operatora `()`\n",
    "* indeksowanie liniowe `v(i)` lub macierzowe `v(i,j)`"
   ]
  },
  {
   "cell_type": "code",
   "execution_count": 23,
   "metadata": {},
   "outputs": [
    {
     "name": "stdout",
     "output_type": "stream",
     "text": [
      "v =\n",
      "\n",
      "  -5  -4  -3  -2  -1   0   1   2   3   4   5\n",
      "\n",
      "a = -5\n",
      "ans = -5\n",
      "b = -4\n",
      "c =\n",
      "\n",
      "  -5  -4  -3\n",
      "\n",
      "d =\n",
      "\n",
      "  -5  -3  -1   1   3\n",
      "\n"
     ]
    }
   ],
   "source": [
    "v = -5:5\n",
    "a = v(1)\n",
    "b = v(2)\n",
    "c = v(1:3)       % indeksowanie zakresem \n",
    "ind = 1:2:10;\n",
    "d = v(ind)       % indeksowanie innym wektorem zawierającym indeksy"
   ]
  },
  {
   "cell_type": "markdown",
   "metadata": {
    "slideshow": {
     "slide_type": "slide"
    }
   },
   "source": [
    "* `end` oznacza indekst ostatniego elementu\n",
    "* `1:end` indeksy wsztskich elementów\n",
    "* `(:)` wszystkie elementy (wektor wierszowy bedzie wypisany jako kolumnowy)  "
   ]
  },
  {
   "cell_type": "code",
   "execution_count": 29,
   "metadata": {
    "slideshow": {
     "slide_type": "-"
    }
   },
   "outputs": [
    {
     "name": "stdout",
     "output_type": "stream",
     "text": [
      "ans =  5\n",
      "ans =\n",
      "\n",
      "  -5  -4  -3  -2  -1   0   1   2   3   4   5\n",
      "\n",
      "ans =\n",
      "\n",
      "  -5\n",
      "  -4\n",
      "  -3\n",
      "  -2\n",
      "  -1\n",
      "   0\n",
      "   1\n",
      "   2\n",
      "   3\n",
      "   4\n",
      "   5\n",
      "\n"
     ]
    }
   ],
   "source": [
    "v(end)   % ostatni element\n",
    "v(1:end)\n",
    "v(:)    % wszystkie elementy\n"
   ]
  },
  {
   "cell_type": "code",
   "execution_count": 36,
   "metadata": {
    "collapsed": true,
    "slideshow": {
     "slide_type": "slide"
    }
   },
   "outputs": [
    {
     "name": "stdout",
     "output_type": "stream",
     "text": [
      "v =\r\n",
      "\r\n",
      "    42  -200  -300   333   333   333   333     2     3     4   222\r\n",
      "\r\n"
     ]
    }
   ],
   "source": [
    "% modyfikownie elementów \n",
    "v(1) = 42;\n",
    "v"
   ]
  },
  {
   "cell_type": "code",
   "execution_count": 39,
   "metadata": {},
   "outputs": [
    {
     "name": "stdout",
     "output_type": "stream",
     "text": [
      "v =\n",
      "\n",
      "   222  -200   222   333   333   333   333     2     3     4   222\n",
      "\n",
      "v =\n",
      "\n",
      "   222  -200   222   333   333   333   333     2     3     4   222\n",
      "\n",
      "v =\n",
      "\n",
      "  -100  -200  -300   333   333   333   333     2     3     4   222\n",
      "\n",
      "v =\n",
      "\n",
      "   222     4     3     2   333   333   333   333  -300  -200  -100\n",
      "\n"
     ]
    }
   ],
   "source": [
    "% modyfikowanie zakresu wartości\n",
    "v([1 3 end]) = 222\n",
    "\n",
    "v(4:7) = 333\n",
    "    \n",
    "v(1:3) = [ -100 -200 -300]\n",
    "\n",
    "v(:) = v(end:-1:1)"
   ]
  },
  {
   "cell_type": "markdown",
   "metadata": {
    "slideshow": {
     "slide_type": "slide"
    }
   },
   "source": [
    "* wstawienie elementu poza zakresem spowoduje rozszeszenie wektora\n",
    "* brakujące elementy wypełnione zerami\n",
    "* rozszerzenie nieefektywne - zalecane jest wstępne alokowanie wektora/macierzy o docelowym rozmiarze"
   ]
  },
  {
   "cell_type": "code",
   "execution_count": 26,
   "metadata": {
    "slideshow": {
     "slide_type": "-"
    }
   },
   "outputs": [
    {
     "name": "stdout",
     "output_type": "stream",
     "text": [
      "v =\r\n",
      "\r\n",
      "   1   2   3   0   0   0   0   0   0   5\r\n",
      "\r\n"
     ]
    }
   ],
   "source": [
    "# referencja do elementu poza zakresem\n",
    "v = [1 2 3];\n",
    "v(10) = 5;\n",
    "\n",
    "v"
   ]
  },
  {
   "cell_type": "markdown",
   "metadata": {
    "slideshow": {
     "slide_type": "slide"
    }
   },
   "source": [
    "## Transpozycja\n",
    "\n",
    "* operator `'` realizuje transpozycję wektora (macierzy)"
   ]
  },
  {
   "cell_type": "code",
   "execution_count": 31,
   "metadata": {},
   "outputs": [
    {
     "name": "stdout",
     "output_type": "stream",
     "text": [
      "v2 =\n",
      "\n",
      "   1\n",
      "   2\n",
      "   3\n",
      "   4\n",
      "   5\n",
      "\n",
      "v2 =\n",
      "\n",
      "    1\n",
      "   42\n",
      "    3\n",
      "    4\n",
      "    5\n",
      "\n"
     ]
    }
   ],
   "source": [
    "v = 1:5;\n",
    "v2 = v'\n",
    "\n",
    "v2(2) = 42;\n",
    "v2\n"
   ]
  },
  {
   "cell_type": "markdown",
   "metadata": {
    "slideshow": {
     "slide_type": "slide"
    }
   },
   "source": [
    "## Łączenie wektorów\n",
    "* `[A B]` łączenie poziome (rozszerzanie wiersza)\n",
    "* `[A; B]` łaczenie pionowe (rozszerenie kolumny)"
   ]
  },
  {
   "cell_type": "code",
   "execution_count": 50,
   "metadata": {
    "collapsed": true
   },
   "outputs": [
    {
     "name": "stdout",
     "output_type": "stream",
     "text": [
      "a =\n",
      "\n",
      "     1     2     3   101   102   103\n",
      "\n",
      "b =\n",
      "\n",
      "     1   101\n",
      "     2   102\n",
      "     3   103\n",
      "\n"
     ]
    }
   ],
   "source": [
    "v1 = 1:3;\n",
    "v2 = 101:103;\n",
    "\n",
    "a = [v1   v2 ] % sklejanie wierszy\n",
    "b = [v1'  v2'] "
   ]
  },
  {
   "cell_type": "code",
   "execution_count": 51,
   "metadata": {},
   "outputs": [
    {
     "name": "stdout",
     "output_type": "stream",
     "text": [
      "c =\n",
      "\n",
      "     1     2     3\n",
      "   101   102   103\n",
      "\n",
      "d =\n",
      "\n",
      "     1\n",
      "     2\n",
      "     3\n",
      "   101\n",
      "   102\n",
      "   103\n",
      "\n"
     ]
    }
   ],
   "source": [
    "c = [v1 ; v2 ]    % rozszerzenie kolumn\n",
    "d = [v1'; v2']"
   ]
  },
  {
   "cell_type": "markdown",
   "metadata": {
    "ExecuteTime": {
     "end_time": "2020-10-29T17:58:30.253834Z",
     "start_time": "2020-10-29T17:58:30.231643Z"
    },
    "slideshow": {
     "slide_type": "slide"
    }
   },
   "source": [
    "## Macierze\n",
    "\n"
   ]
  },
  {
   "cell_type": "code",
   "execution_count": 48,
   "metadata": {},
   "outputs": [
    {
     "name": "stdout",
     "output_type": "stream",
     "text": [
      "m1 =\n",
      "\n",
      "   1   2   3\n",
      "   4   5   6\n",
      "\n",
      "m2 =\n",
      "\n",
      "    5    6    7    8\n",
      "   10   11   12   13\n",
      "\n"
     ]
    }
   ],
   "source": [
    "m1 = [1 2 3; 4 5 6]\n",
    "m2 = [5:8 ; 10:13]"
   ]
  },
  {
   "cell_type": "markdown",
   "metadata": {
    "slideshow": {
     "slide_type": "slide"
    }
   },
   "source": [
    "## Funkcje tworzące macierze\n",
    "* `rand(n,m)` losowe wartośc z przediału $[0, 1]$\n",
    "* `zeros(n,m)` macierz zerowa\n",
    "* `ones(n,m)`  macierz zawierająca jedynki\n",
    "* `eye(n,m)`     macierz jednostkowa (jedynki na diagonali)"
   ]
  },
  {
   "cell_type": "code",
   "execution_count": 56,
   "metadata": {
    "collapsed": true
   },
   "outputs": [
    {
     "name": "stdout",
     "output_type": "stream",
     "text": [
      "a =\n",
      "\n",
      "   0.857732   0.762687   0.182540\n",
      "   0.924703   0.434912   0.860971\n",
      "   0.091105   0.663658   0.324743\n",
      "\n",
      "b =\n",
      "\n",
      "   0.17477   0.83209\n",
      "   0.69167   0.47131\n",
      "   0.86891   0.97530\n",
      "\n"
     ]
    }
   ],
   "source": [
    "a = rand(3)\n",
    "b = rand(3, 2)"
   ]
  },
  {
   "cell_type": "code",
   "execution_count": null,
   "metadata": {},
   "outputs": [],
   "source": [
    "c = zeros(5)\n",
    "d = ones(2,5)"
   ]
  },
  {
   "cell_type": "code",
   "execution_count": 58,
   "metadata": {},
   "outputs": [
    {
     "name": "stdout",
     "output_type": "stream",
     "text": [
      "e =\r\n",
      "\r\n",
      "Diagonal Matrix\r\n",
      "\r\n",
      "   1   0   0   0\r\n",
      "   0   1   0   0\r\n",
      "   0   0   1   0\r\n",
      "   0   0   0   1\r\n",
      "\r\n"
     ]
    }
   ],
   "source": [
    "e = eye(4)"
   ]
  },
  {
   "cell_type": "markdown",
   "metadata": {
    "slideshow": {
     "slide_type": "slide"
    }
   },
   "source": [
    "## Indeksowanie macierzy\n",
    "* indeksowanie 2 wymiarów macierzy `(N,M)` od `1` do `end` \n",
    "* indeksowanie liniowe `(N)` od `1` do `end` po elementach kolejnych kolumn"
   ]
  },
  {
   "cell_type": "code",
   "execution_count": 63,
   "metadata": {
    "collapsed": true
   },
   "outputs": [
    {
     "name": "stdout",
     "output_type": "stream",
     "text": [
      "m =\n",
      "\n",
      "   1   2   3\n",
      "   4   5   6\n",
      "\n",
      "a =  2\n",
      "b =\n",
      "\n",
      "   1   2\n",
      "   4   5\n",
      "\n",
      "c =\n",
      "\n",
      "   1\n",
      "   4\n",
      "\n",
      "d =\n",
      "\n",
      "   1   2   3\n",
      "\n"
     ]
    }
   ],
   "source": [
    "m = [1, 2, 3; 4, 5, 6]\n",
    "a = m(1,2)\n",
    "b = m(1:2, 1:2)\n",
    "c = m(:, 1)        % cała kolumna\n",
    "d = m(1, :)        % cały wiersz"
   ]
  },
  {
   "cell_type": "code",
   "execution_count": 64,
   "metadata": {},
   "outputs": [
    {
     "name": "stdout",
     "output_type": "stream",
     "text": [
      "a =  1\n",
      "b =  6\n",
      "c =\n",
      "\n",
      "   1   4   2   5   3   6\n",
      "\n"
     ]
    }
   ],
   "source": [
    "% indeksowanie liniowe\n",
    "a = m(1)\n",
    "b = m(end)\n",
    "c = m(1:end)"
   ]
  },
  {
   "cell_type": "markdown",
   "metadata": {
    "slideshow": {
     "slide_type": "slide"
    }
   },
   "source": [
    "# Rozmiary wektorów i macierzy\n",
    "\n",
    "* `length(w)`  ilość elementów wektora lub najdłuzszy wymiar macierzy \n",
    "* `size(m)`    zwraca ilość wierszy i kolumn\n",
    "* `numel(m)`   ilość elementów"
   ]
  },
  {
   "cell_type": "code",
   "execution_count": 65,
   "metadata": {
    "collapsed": true
   },
   "outputs": [
    {
     "name": "stdout",
     "output_type": "stream",
     "text": [
      "a =  100\n",
      "b =\n",
      "\n",
      "     1   100\n",
      "\n",
      "c =  100\n"
     ]
    }
   ],
   "source": [
    "w = 1:100;\n",
    "a = length(w)\n",
    "b = size(w)\n",
    "c = numel(w)"
   ]
  },
  {
   "cell_type": "code",
   "execution_count": 66,
   "metadata": {},
   "outputs": [
    {
     "name": "stdout",
     "output_type": "stream",
     "text": [
      "a =  100\n",
      "b =\n",
      "\n",
      "    13   100\n",
      "\n",
      "c =  1300\n"
     ]
    }
   ],
   "source": [
    "m = rand(13, 100);\n",
    "a = length(m)\n",
    "b = size(m)\n",
    "c = numel(m)"
   ]
  },
  {
   "cell_type": "markdown",
   "metadata": {
    "ExecuteTime": {
     "end_time": "2020-10-29T17:41:33.997960Z",
     "start_time": "2020-10-29T17:41:33.953518Z"
    },
    "slideshow": {
     "slide_type": "slide"
    }
   },
   "source": [
    "## Zmiana rozmiaru macierzy\n",
    "\n",
    "* `reshape(A, M, N)` lub `reshape(A, [M N])` zmienia kształt macierzy na `MxN` (elementy ukladane kolumnami)\n",
    "* `fliplr(m)` , `flipup(m)`, `rot90()`  odbicie lewo-prawo, góra-dół i obrót 90 stopni"
   ]
  },
  {
   "cell_type": "code",
   "execution_count": 69,
   "metadata": {
    "collapsed": true
   },
   "outputs": [
    {
     "name": "stdout",
     "output_type": "stream",
     "text": [
      "a =\n",
      "\n",
      "    1    4    7   10\n",
      "    2    5    8   11\n",
      "    3    6    9   12\n",
      "\n",
      "a1 =\n",
      "\n",
      "    1    3    5    7    9   11\n",
      "    2    4    6    8   10   12\n",
      "\n"
     ]
    }
   ],
   "source": [
    "w = 1:12; \n",
    "\n",
    "a = reshape(w, 3, 4)\n",
    "a1 = reshape(a, [2 6])"
   ]
  },
  {
   "cell_type": "code",
   "execution_count": 70,
   "metadata": {},
   "outputs": [
    {
     "name": "stdout",
     "output_type": "stream",
     "text": [
      "b =\n",
      "\n",
      "   10    7    4    1\n",
      "   11    8    5    2\n",
      "   12    9    6    3\n",
      "\n",
      "c =\n",
      "\n",
      "    3    6    9   12\n",
      "    2    5    8   11\n",
      "    1    4    7   10\n",
      "\n",
      "d =\n",
      "\n",
      "   10   11   12\n",
      "    7    8    9\n",
      "    4    5    6\n",
      "    1    2    3\n",
      "\n"
     ]
    }
   ],
   "source": [
    "b = fliplr(a)\n",
    "c = flipud(a)\n",
    "d = rot90(a)"
   ]
  },
  {
   "cell_type": "markdown",
   "metadata": {
    "slideshow": {
     "slide_type": "slide"
    }
   },
   "source": [
    "## Macierze i funkcje"
   ]
  },
  {
   "cell_type": "code",
   "execution_count": 82,
   "metadata": {},
   "outputs": [
    {
     "name": "stdout",
     "output_type": "stream",
     "text": [
      "w =\n",
      "\n",
      "    1    2    3    4    5    6    7    8    9   10   11   12\n",
      "\n",
      "m =\n",
      "\n",
      "    1    4    7   10\n",
      "    2    5    8   11\n",
      "    3    6    9   12\n",
      "\n",
      "a =\n",
      "\n",
      " Columns 1 through 8:\n",
      "\n",
      "   0.84147   0.90930   0.14112  -0.75680  -0.95892  -0.27942   0.65699   0.98936\n",
      "\n",
      " Columns 9 through 12:\n",
      "\n",
      "   0.41212  -0.54402  -0.99999  -0.53657\n",
      "\n",
      "b =\n",
      "\n",
      "   0.5403023  -0.6536436   0.7539023  -0.8390715\n",
      "  -0.4161468   0.2836622  -0.1455000   0.0044257\n",
      "  -0.9899925   0.9601703  -0.9111303   0.8438540\n",
      "\n"
     ]
    }
   ],
   "source": [
    "w = 1:12\n",
    "m = reshape(w, 3, 4)\n",
    "a = sin(w)\n",
    "b = cos(m)"
   ]
  },
  {
   "cell_type": "markdown",
   "metadata": {
    "slideshow": {
     "slide_type": "slide"
    }
   },
   "source": [
    "## Puste macierze\n"
   ]
  },
  {
   "cell_type": "code",
   "execution_count": 94,
   "metadata": {},
   "outputs": [
    {
     "name": "stdout",
     "output_type": "stream",
     "text": [
      "ans =\n",
      "\n",
      "   0   0\n",
      "\n",
      "m =  1\n",
      "ans =\n",
      "\n",
      "   1   1\n",
      "\n"
     ]
    }
   ],
   "source": [
    "m = [];\n",
    "size(m)\n",
    "m = [m 1]\n",
    "size(m)\n"
   ]
  },
  {
   "cell_type": "markdown",
   "metadata": {
    "slideshow": {
     "slide_type": "slide"
    }
   },
   "source": [
    "## Usuwanie elementów \n",
    "\n",
    "* dla wektorów można usuwać dowolne elementy\n",
    "* dla macierzy można usuwac tylko całe wiersze lub całe kolumny"
   ]
  },
  {
   "cell_type": "code",
   "execution_count": 102,
   "metadata": {
    "scrolled": true
   },
   "outputs": [
    {
     "name": "stdout",
     "output_type": "stream",
     "text": [
      "w =\n",
      "\n",
      "    1    2    3    4    5    6    7    8    9   10   11   12\n",
      "\n",
      "m =\n",
      "\n",
      "    1    4    7   10\n",
      "    2    5    8   11\n",
      "    3    6    9   12\n",
      "\n",
      "w =\n",
      "\n",
      "    2    3    4    5    6    7    8    9   10   11   12\n",
      "\n",
      "w =\n",
      "\n",
      "    2    3    5    6    8    9   10   11   12\n",
      "\n",
      "w =\n",
      "\n",
      "   2   3   5   6   8\n",
      "\n",
      "m =\n",
      "\n",
      "    2    5    8   11\n",
      "    3    6    9   12\n",
      "\n",
      "m =\n",
      "\n",
      "    2    8   11\n",
      "    3    9   12\n",
      "\n"
     ]
    }
   ],
   "source": [
    "w = 1:12\n",
    "m = reshape(w, 3, 4)\n",
    "\n",
    "w(1) = []   % usuwanie elementu\n",
    "w([3 6]) = []\n",
    "w(6:end) = []\n",
    "\n",
    "m(1, :) = []\n",
    "m(:, 2) = []"
   ]
  },
  {
   "cell_type": "markdown",
   "metadata": {
    "slideshow": {
     "slide_type": "slide"
    }
   },
   "source": [
    "## Zadanie 4\n",
    "\n",
    "TODO"
   ]
  }
 ],
 "metadata": {
  "celltoolbar": "Slideshow",
  "kernelspec": {
   "display_name": "Octave",
   "language": "octave",
   "name": "octave"
  },
  "language_info": {
   "file_extension": ".m",
   "help_links": [
    {
     "text": "GNU Octave",
     "url": "https://www.gnu.org/software/octave/support.html"
    },
    {
     "text": "Octave Kernel",
     "url": "https://github.com/Calysto/octave_kernel"
    },
    {
     "text": "MetaKernel Magics",
     "url": "https://metakernel.readthedocs.io/en/latest/source/README.html"
    }
   ],
   "mimetype": "text/x-octave",
   "name": "octave",
   "version": "5.2.0"
  },
  "toc": {
   "base_numbering": 1,
   "nav_menu": {},
   "number_sections": true,
   "sideBar": true,
   "skip_h1_title": false,
   "title_cell": "Table of Contents",
   "title_sidebar": "Contents",
   "toc_cell": false,
   "toc_position": {},
   "toc_section_display": true,
   "toc_window_display": false
  },
  "varInspector": {
   "cols": {
    "lenName": 16,
    "lenType": 16,
    "lenVar": 40
   },
   "kernels_config": {
    "python": {
     "delete_cmd_postfix": "",
     "delete_cmd_prefix": "del ",
     "library": "var_list.py",
     "varRefreshCmd": "print(var_dic_list())"
    },
    "r": {
     "delete_cmd_postfix": ") ",
     "delete_cmd_prefix": "rm(",
     "library": "var_list.r",
     "varRefreshCmd": "cat(var_dic_list()) "
    }
   },
   "types_to_exclude": [
    "module",
    "function",
    "builtin_function_or_method",
    "instance",
    "_Feature"
   ],
   "window_display": false
  }
 },
 "nbformat": 4,
 "nbformat_minor": 4
}
