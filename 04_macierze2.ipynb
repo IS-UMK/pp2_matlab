{
 "cells": [
  {
   "attachments": {},
   "cell_type": "markdown",
   "metadata": {
    "slideshow": {
     "slide_type": "slide"
    }
   },
   "source": [
    "# Macierze c.d.\n",
    "\n"
   ]
  },
  {
   "cell_type": "markdown",
   "metadata": {
    "ExecuteTime": {
     "end_time": "2020-10-29T17:58:30.253834Z",
     "start_time": "2020-10-29T17:58:30.231643Z"
    },
    "slideshow": {
     "slide_type": "slide"
    }
   },
   "source": [
    "## Macierze\n",
    "\n",
    "* macierze również mozna tworzyć za pomoca operatora `:`\n",
    "* ilość elementów w wierszach musi być jednakowa\n"
   ]
  },
  {
   "cell_type": "code",
   "execution_count": null,
   "metadata": {},
   "outputs": [],
   "source": [
    "m1 = [1 2 3; 4 5 6]\n",
    "m2 = [5:8 ; 10:13]"
   ]
  },
  {
   "cell_type": "markdown",
   "metadata": {
    "slideshow": {
     "slide_type": "slide"
    }
   },
   "source": [
    "## Funkcje tworzące macierze\n",
    "* `rand(n,m)` losowe wartość z przedziału $[0, 1]$\n",
    "* `zeros(n,m)` macierz zerowa\n",
    "* `ones(n,m)`  macierz zawierająca jedynki\n",
    "* `eye(n,m)`     macierz jednostkowa (jedynki na diagonali)"
   ]
  },
  {
   "cell_type": "code",
   "execution_count": null,
   "metadata": {},
   "outputs": [],
   "source": [
    "a = rand(3)\n",
    "b = rand(3, 2)"
   ]
  },
  {
   "cell_type": "code",
   "execution_count": null,
   "metadata": {},
   "outputs": [],
   "source": [
    "c = zeros(5)\n",
    "d = ones(2,5)"
   ]
  },
  {
   "cell_type": "code",
   "execution_count": null,
   "metadata": {},
   "outputs": [],
   "source": [
    "e = eye(4, 6)"
   ]
  },
  {
   "cell_type": "markdown",
   "metadata": {},
   "source": [
    "**Ćwiczenie** utwórz macierz o wymiarach 100x100, która posiada wartości 1 w pierwszej i czwartej ćwiartce oraz wartości 0 w pozostałych miejscach, zgodnie z poniższym przykładem macierzy 4x4   \n",
    "`\n",
    "1 1 0 0\n",
    "1 1 0 0\n",
    "0 0 1 1\n",
    "0 0 1 1 \n",
    "`"
   ]
  },
  {
   "cell_type": "markdown",
   "metadata": {
    "slideshow": {
     "slide_type": "slide"
    }
   },
   "source": [
    "## Indeksowanie macierzy\n",
    "* indeksowanie 2 wymiarów macierzy `(N,M)` od `1` do `end` \n",
    "* indeksowanie liniowe `(N)` od `1` do `end` po elementach kolejnych kolumn"
   ]
  },
  {
   "cell_type": "code",
   "execution_count": null,
   "metadata": {},
   "outputs": [],
   "source": [
    "m = [1, 2, 3; 4, 5, 6]\n",
    "\n",
    "a = m(1,2)\n",
    "b = m(1:2, 1:2)\n",
    "c = m(:, 1)        % cała kolumna\n",
    "d = m(end, :)        % cały wiersz"
   ]
  },
  {
   "cell_type": "code",
   "execution_count": null,
   "metadata": {},
   "outputs": [],
   "source": [
    "% indeksowanie liniowe\n",
    "a = m(1)\n",
    "b = m(end)\n",
    "c = m(1:end)"
   ]
  },
  {
   "cell_type": "markdown",
   "metadata": {
    "slideshow": {
     "slide_type": "slide"
    }
   },
   "source": [
    "## Rozmiary wektorów i macierzy\n",
    "\n",
    "* `length(w)`  ilość elementów wektora lub najdłuższy wymiar macierzy \n",
    "* `size(m)`    zwraca ilość wierszy i kolumn\n",
    "* `numel(m)`   ilość elementów"
   ]
  },
  {
   "cell_type": "code",
   "execution_count": null,
   "metadata": {},
   "outputs": [],
   "source": [
    "w = 1:100;\n",
    "a = length(w)\n",
    "b = size(w)\n",
    "c = numel(w)"
   ]
  },
  {
   "cell_type": "code",
   "execution_count": null,
   "metadata": {},
   "outputs": [],
   "source": [
    "m = rand(13, 100);\n",
    "a = length(m)\n",
    "b = size(m)\n",
    "c = numel(m)"
   ]
  },
  {
   "cell_type": "markdown",
   "metadata": {
    "slideshow": {
     "slide_type": "slide"
    }
   },
   "source": [
    "**Ćwiczene** napisz funkcję `suma`, która wyznaczy sumę wszystkich elementów macierzy podanej w argumencie. Ćwiczenie wykonaj z użyciem instrukcji pętli, iterując po wszystkich elementach macierzy.  \n",
    "\n",
    "W jaki sposób osiągnąć to samo za pomocą wunkcji `sum`?"
   ]
  },
  {
   "cell_type": "markdown",
   "metadata": {
    "ExecuteTime": {
     "end_time": "2020-10-29T17:41:33.997960Z",
     "start_time": "2020-10-29T17:41:33.953518Z"
    },
    "slideshow": {
     "slide_type": "slide"
    }
   },
   "source": [
    "## Zmiana rozmiaru macierzy\n",
    "\n",
    "* `reshape(A, M, N)` lub `reshape(A, [M N])` zmienia kształt macierzy na `MxN` (elementy układane kolumnami)\n",
    "* `fliplr(m)` , `flipup(m)`, `rot90()`  odbicie lewo-prawo, góra-dół i obrót 90 stopni"
   ]
  },
  {
   "cell_type": "code",
   "execution_count": null,
   "metadata": {},
   "outputs": [],
   "source": [
    "w = 1:12; \n",
    "\n",
    "a = reshape(w, 3, 4)\n",
    "a1 = reshape(a, [2 6])"
   ]
  },
  {
   "cell_type": "code",
   "execution_count": null,
   "metadata": {},
   "outputs": [],
   "source": [
    "b = fliplr(a)\n",
    "c = flipud(a)\n",
    "d = rot90(a)"
   ]
  },
  {
   "cell_type": "markdown",
   "metadata": {},
   "source": [
    "**Ćwiczenie** wygeneruj maicerz 10x10 zawieającą liczby od 1 do 100 umieszczone w losowej kolejności."
   ]
  },
  {
   "cell_type": "markdown",
   "metadata": {
    "slideshow": {
     "slide_type": "slide"
    }
   },
   "source": [
    "## Macierze i funkcje\n",
    "\n",
    "Wiele funkcji Matlaba jest przystosowana do działania na macierzach o dowolnych kształtach\n"
   ]
  },
  {
   "cell_type": "code",
   "execution_count": null,
   "metadata": {},
   "outputs": [],
   "source": [
    "w = 1:12\n",
    "m = reshape(w, 3, 4)\n",
    "a = sin(w)\n",
    "b = cos(m)"
   ]
  },
  {
   "cell_type": "markdown",
   "metadata": {
    "slideshow": {
     "slide_type": "slide"
    }
   },
   "source": [
    "## Puste macierze\n"
   ]
  },
  {
   "cell_type": "code",
   "execution_count": null,
   "metadata": {},
   "outputs": [],
   "source": [
    "m = [];\n",
    "size(m)\n",
    "length(m)\n",
    "numel(m)\n",
    "\n",
    "m = [m 1]\n",
    "size(m)\n"
   ]
  },
  {
   "cell_type": "markdown",
   "metadata": {
    "slideshow": {
     "slide_type": "slide"
    }
   },
   "source": [
    "## Usuwanie elementów macierzy\n",
    "\n",
    "* dla wektorów można usuwać dowolne elementy\n",
    "* dla macierzy można usuwać tylko całe wiersze lub całe kolumny"
   ]
  },
  {
   "cell_type": "code",
   "execution_count": null,
   "metadata": {
    "scrolled": true
   },
   "outputs": [],
   "source": [
    "w = 1:12\n",
    "m = reshape(w, 3, 4)\n",
    "\n",
    "w(1) = []   % usuwanie elementu\n",
    "w([3 6]) = []\n",
    "w(6:end) = []\n",
    "\n",
    "% m(1,1) = []\n",
    "m(1, :) = []\n",
    "m(:, 2) = []"
   ]
  }
 ],
 "metadata": {
  "celltoolbar": "Slideshow",
  "kernelspec": {
   "display_name": "Octave",
   "language": "octave",
   "name": "octave"
  },
  "language_info": {
   "file_extension": ".m",
   "help_links": [
    {
     "text": "GNU Octave",
     "url": "https://www.gnu.org/software/octave/support.html"
    },
    {
     "text": "Octave Kernel",
     "url": "https://github.com/Calysto/octave_kernel"
    },
    {
     "text": "MetaKernel Magics",
     "url": "https://metakernel.readthedocs.io/en/latest/source/README.html"
    }
   ],
   "mimetype": "text/x-octave",
   "name": "octave",
   "version": "5.2.0"
  },
  "toc": {
   "base_numbering": 1,
   "nav_menu": {},
   "number_sections": true,
   "sideBar": true,
   "skip_h1_title": false,
   "title_cell": "Table of Contents",
   "title_sidebar": "Contents",
   "toc_cell": false,
   "toc_position": {},
   "toc_section_display": true,
   "toc_window_display": false
  },
  "varInspector": {
   "cols": {
    "lenName": 16,
    "lenType": 16,
    "lenVar": 40
   },
   "kernels_config": {
    "python": {
     "delete_cmd_postfix": "",
     "delete_cmd_prefix": "del ",
     "library": "var_list.py",
     "varRefreshCmd": "print(var_dic_list())"
    },
    "r": {
     "delete_cmd_postfix": ") ",
     "delete_cmd_prefix": "rm(",
     "library": "var_list.r",
     "varRefreshCmd": "cat(var_dic_list()) "
    }
   },
   "types_to_exclude": [
    "module",
    "function",
    "builtin_function_or_method",
    "instance",
    "_Feature"
   ],
   "window_display": false
  }
 },
 "nbformat": 4,
 "nbformat_minor": 4
}
