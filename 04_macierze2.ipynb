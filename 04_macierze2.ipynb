{
 "cells": [
  {
   "cell_type": "markdown",
   "metadata": {
    "slideshow": {
     "slide_type": "slide"
    }
   },
   "source": [
    "# Macierze c.d.\n",
    "\n"
   ]
  },
  {
   "cell_type": "markdown",
   "metadata": {
    "ExecuteTime": {
     "end_time": "2020-10-29T17:58:30.253834Z",
     "start_time": "2020-10-29T17:58:30.231643Z"
    },
    "slideshow": {
     "slide_type": "slide"
    }
   },
   "source": [
    "## Macierze\n",
    "\n",
    "* macierze można tworzyć za pomoca operatora indeksowania `:`\n",
    "* ilość elementów w wierszach musi być jednakowa\n"
   ]
  },
  {
   "cell_type": "code",
   "execution_count": null,
   "metadata": {},
   "outputs": [],
   "source": [
    "m1 = [1 2 3; 4 5 6]\n",
    "m2 = [5:8 ; 10:13]"
   ]
  },
  {
   "cell_type": "markdown",
   "metadata": {
    "slideshow": {
     "slide_type": "slide"
    }
   },
   "source": [
    "## Funkcje tworzące macierze\n",
    "* `rand(n,m)` losowe wartość z przedziału $[0, 1]$\n",
    "* `zeros(n,m)` macierz zerowa\n",
    "* `ones(n,m)`  macierz zawierająca jedynki\n",
    "* `eye(n,m)`     macierz jednostkowa (jedynki na diagonali)"
   ]
  },
  {
   "cell_type": "code",
   "execution_count": 40,
   "metadata": {},
   "outputs": [
    {
     "name": "stdout",
     "output_type": "stream",
     "text": [
      "a =\n",
      "\n",
      "   0.796061   0.979161   0.558283\n",
      "   0.088599   0.863898   0.180321\n",
      "   0.279279   0.639994   0.467708\n",
      "\n",
      "b =\n",
      "\n",
      "   0.059812   0.920950\n",
      "   0.210448   0.974198\n",
      "   0.651543   0.578771\n",
      "\n"
     ]
    }
   ],
   "source": [
    "a = rand(3)\n",
    "b = rand(3, 2)"
   ]
  },
  {
   "cell_type": "code",
   "execution_count": null,
   "metadata": {},
   "outputs": [],
   "source": [
    "c = zeros(5)\n",
    "d = ones(2,5)"
   ]
  },
  {
   "cell_type": "code",
   "execution_count": null,
   "metadata": {},
   "outputs": [],
   "source": [
    "e = eye(4, 6)"
   ]
  },
  {
   "cell_type": "markdown",
   "metadata": {},
   "source": [
    "**Ćwiczenie** utwórz macierz o wymiarach 100x100, która posiada wartości 1 w pierwszej i czwartej ćwiartce oraz wartości 0 w pozostałych miejscach, zgodnie z poniższym przykładem macierzy 4x4   \n",
    "`\n",
    "1 1 0 0\n",
    "1 1 0 0\n",
    "0 0 1 1\n",
    "0 0 1 1 \n",
    "`"
   ]
  },
  {
   "cell_type": "markdown",
   "metadata": {
    "slideshow": {
     "slide_type": "slide"
    }
   },
   "source": [
    "## Indeksowanie macierzy\n",
    "* indeksowanie 2 wymiarów macierzy `(N,M)` od `1` do `end` \n",
    "* indeksowanie liniowe `(N)` od `1` do `end` po elementach kolejnych kolumn"
   ]
  },
  {
   "cell_type": "code",
   "execution_count": null,
   "metadata": {},
   "outputs": [],
   "source": [
    "m = [1, 2, 3; 4, 5, 6]\n",
    "\n",
    "% indeksowanie 2-wymiarowe\n",
    "a = m(1,2)\n",
    "b = m(1:2, 1:2)\n",
    "c = m(:, 1)        % cała kolumna\n",
    "d = m(end, :)        % cały wiersz"
   ]
  },
  {
   "cell_type": "code",
   "execution_count": null,
   "metadata": {},
   "outputs": [],
   "source": [
    "% indeksowanie liniowe\n",
    "a = m(1)\n",
    "b = m(end)\n",
    "c = m(1:end)"
   ]
  },
  {
   "cell_type": "markdown",
   "metadata": {
    "slideshow": {
     "slide_type": "slide"
    }
   },
   "source": [
    "## Rozmiary wektorów i macierzy\n",
    "\n",
    "* `length(w)`  ilość elementów wektora lub najdłuższy wymiar macierzy \n",
    "* `size(m)`    zwraca ilość wierszy i kolumn\n",
    "* `numel(m)`   ilość elementów"
   ]
  },
  {
   "cell_type": "code",
   "execution_count": null,
   "metadata": {},
   "outputs": [],
   "source": [
    "w = 1:100;\n",
    "a = length(w)\n",
    "b = size(w)\n",
    "c = numel(w)"
   ]
  },
  {
   "cell_type": "code",
   "execution_count": null,
   "metadata": {},
   "outputs": [],
   "source": [
    "m = rand(13, 100);\n",
    "a = length(m)\n",
    "b = size(m)\n",
    "c = numel(m)"
   ]
  },
  {
   "cell_type": "markdown",
   "metadata": {
    "slideshow": {
     "slide_type": "slide"
    }
   },
   "source": [
    "## Iteracja po elementach \n",
    "\n",
    "* W wielu przypadkach iteracja po elementach macierzy za pomocą pętli nie jest konieczna\n",
    "* Indeksowanie za pomocą `:`, opearatory macierzowe `*`, `+`, itd oraz funnkcje dedykowane do obliczeń na macierzach (np. `sum(X)`) będą z reguły wydajniejsz od pętli "
   ]
  },
  {
   "cell_type": "code",
   "execution_count": 5,
   "metadata": {
    "collapsed": true,
    "slideshow": {
     "slide_type": "slide"
    }
   },
   "outputs": [
    {
     "name": "stdout",
     "output_type": "stream",
     "text": [
      "Element 1 wektora = 0.178003\r\n",
      "Element 2 wektora = 0.469310\r\n",
      "Element 3 wektora = 0.422952\r\n",
      "Element 4 wektora = 0.716477\r\n",
      "Element 5 wektora = 0.577869\r\n",
      "Element 6 wektora = 0.804720\r\n",
      "Element 7 wektora = 0.263538\r\n",
      "Element 8 wektora = 0.442442\r\n",
      "Element 9 wektora = 0.077731\r\n",
      "Element 10 wektora = 0.870150\r\n"
     ]
    }
   ],
   "source": [
    "% Iterowanie po elementach macierzy\n",
    "w = rand(1, 10);\n",
    "for i=1:length(w)\n",
    "    fprintf('Element %d wektora = %f\\n', i, w(i))\n",
    "end"
   ]
  },
  {
   "cell_type": "code",
   "execution_count": 9,
   "metadata": {},
   "outputs": [
    {
     "name": "stdout",
     "output_type": "stream",
     "text": [
      "Element (1,1) macierzy = 0.837467\r\n",
      "Element (1,2) macierzy = 0.460088\r\n",
      "Element (1,3) macierzy = 0.175470\r\n",
      "Element (2,1) macierzy = 0.778103\r\n",
      "Element (2,2) macierzy = 0.692372\r\n",
      "Element (2,3) macierzy = 0.243207\r\n"
     ]
    }
   ],
   "source": [
    "% Iterowanie po elementach macierzy\n",
    "m = rand(2 ,3);\n",
    "[w k] = size(m);\n",
    "for i=1:w\n",
    "    for j=1:k\n",
    "        fprintf('Element (%d,%d) macierzy = %f\\n', i, j, m(i, j))\n",
    "    end\n",
    "end"
   ]
  },
  {
   "cell_type": "markdown",
   "metadata": {
    "slideshow": {
     "slide_type": "slide"
    }
   },
   "source": [
    "**Ćwiczene** napisz funkcję `suma`, która wyznaczy sumę wszystkich elementów macierzy podanej w argumencie. Ćwiczenie wykonaj z użyciem instrukcji pętli, iterując po wszystkich elementach macierzy.  \n",
    "\n",
    "W jaki sposób osiągnąć to samo za pomocą funkcji matlabowej `sum`?"
   ]
  },
  {
   "cell_type": "markdown",
   "metadata": {},
   "source": [
    "**Ćwiczenie** napisz skrypt/funkcję o nazwie `suma2.m`, która uruchamia operację sumowania z poprzdniego ćwiczenia wielokrotnie (np. n=10000) dla macierzy 100x100 o losowych wartościach i mierzy czas wykonania tej operacji. Tą samą operację powtórz za pomocą funkcji `sum` i porównaj czasy obliczeń z obu podejść.   \n",
    "\n",
    "Czas wykonywania operacji mozna wyznaczyć za pomoca polecen `tic` i `toc`, przykład:\n",
    "```\n",
    "tic\n",
    "sum(x)\n",
    "toc\n",
    "```\n",
    "\n",
    "Elementy macierzy można również zsumować za pomocą iloczynu z macierzami jedynkowymi:\n",
    "\n",
    "$$\n",
    "\\left[\\begin{array}{ccc}\n",
    "1 & 1 & 1 \\\\\n",
    "\\end{array}\\right] \\cdot\\left[\\begin{array}{ll}\n",
    "3 & 1 \\\\\n",
    "2 & 1 \\\\\n",
    "1 & 0\n",
    "\\end{array}\\right]\n",
    "\\cdot\\left[\\begin{array}{ll}\n",
    " 1 \\\\\n",
    " 1 \\\\\n",
    "\\end{array}\\right]\n",
    "$$\n",
    "\n",
    "Sprawdź również szybkość obliczeń sumy tą metodą."
   ]
  },
  {
   "cell_type": "markdown",
   "metadata": {
    "ExecuteTime": {
     "end_time": "2020-10-29T17:41:33.997960Z",
     "start_time": "2020-10-29T17:41:33.953518Z"
    },
    "slideshow": {
     "slide_type": "slide"
    }
   },
   "source": [
    "## Zmiana rozmiaru macierzy\n",
    "\n",
    "* `reshape(A, M, N)` lub `reshape(A, [M N])` zmienia kształt macierzy na `MxN` (elementy układane kolumnami)\n",
    "* `fliplr(m)` , `flipup(m)`, `rot90()`  odbicie lewo-prawo, góra-dół i obrót 90 stopni"
   ]
  },
  {
   "cell_type": "code",
   "execution_count": null,
   "metadata": {},
   "outputs": [],
   "source": [
    "w = 1:12; \n",
    "\n",
    "a = reshape(w, 3, 4)\n",
    "a1 = reshape(a, [2 6])"
   ]
  },
  {
   "cell_type": "code",
   "execution_count": null,
   "metadata": {},
   "outputs": [],
   "source": [
    "b = fliplr(a)\n",
    "c = flipud(a)\n",
    "d = rot90(a)"
   ]
  },
  {
   "cell_type": "markdown",
   "metadata": {},
   "source": [
    "**Ćwiczenie** korzystając z funkcji `randperm` wygeneruj maicerz 10x10 zawieającą liczby od 1 do 100 umieszczone w losowej kolejności."
   ]
  },
  {
   "cell_type": "markdown",
   "metadata": {
    "slideshow": {
     "slide_type": "slide"
    }
   },
   "source": [
    "## Puste macierze\n"
   ]
  },
  {
   "cell_type": "code",
   "execution_count": null,
   "metadata": {},
   "outputs": [],
   "source": [
    "m = [];\n",
    "size(m)\n",
    "length(m)\n",
    "numel(m)\n",
    "\n",
    "m = [m 1]\n",
    "size(m)"
   ]
  },
  {
   "cell_type": "markdown",
   "metadata": {
    "slideshow": {
     "slide_type": "slide"
    }
   },
   "source": [
    "## Usuwanie elementów macierzy\n",
    "\n",
    "* dla wektorów można usuwać dowolne elementy\n",
    "* dla macierzy można usuwać tylko całe wiersze lub całe kolumny"
   ]
  },
  {
   "cell_type": "code",
   "execution_count": null,
   "metadata": {
    "scrolled": true
   },
   "outputs": [],
   "source": [
    "w = 1:12\n",
    "m = reshape(w, 3, 4)\n",
    "\n",
    "w(1) = []   % usuwanie elementu\n",
    "w([3 6]) = []\n",
    "w(6:end) = []\n",
    "\n",
    "% m(1,1) = []\n",
    "m(1, :) = []\n",
    "m(:, 2) = []"
   ]
  },
  {
   "cell_type": "markdown",
   "metadata": {
    "slideshow": {
     "slide_type": "slide"
    }
   },
   "source": [
    "## Operacje na macierzach\n",
    "\n",
    "* operacje skalarne na elementach macierzy:  `+`, `-`, `*`, `/`, `.^`, `.\\`"
   ]
  },
  {
   "cell_type": "code",
   "execution_count": 42,
   "metadata": {},
   "outputs": [
    {
     "name": "stdout",
     "output_type": "stream",
     "text": [
      "m =\r\n",
      "\r\n",
      "   1   2   3\r\n",
      "   4   5   6\r\n",
      "\r\n"
     ]
    }
   ],
   "source": [
    "m = [1 2 3; 4 5 6]"
   ]
  },
  {
   "cell_type": "code",
   "execution_count": 43,
   "metadata": {
    "collapsed": true
   },
   "outputs": [
    {
     "name": "stdout",
     "output_type": "stream",
     "text": [
      "a =\n",
      "\n",
      "   4   5   6\n",
      "   7   8   9\n",
      "\n",
      "b =\n",
      "\n",
      "    5   10   15\n",
      "   20   25   30\n",
      "\n",
      "c =\n",
      "\n",
      "   0.20000   0.40000   0.60000\n",
      "   0.80000   1.00000   1.20000\n",
      "\n"
     ]
    }
   ],
   "source": [
    "a = m + 3     # to samo co m .+ 3\n",
    "b = m * 5     # to samo co m .* 5\n",
    "c = m / 5     # to samo co m ./ 5"
   ]
  },
  {
   "cell_type": "code",
   "execution_count": 44,
   "metadata": {},
   "outputs": [
    {
     "name": "stdout",
     "output_type": "stream",
     "text": [
      "d =\n",
      "\n",
      "    1    4    9\n",
      "   16   25   36\n",
      "\n",
      "e =\n",
      "\n",
      "   5.00000   2.50000   1.66667\n",
      "   1.25000   1.00000   0.83333\n",
      "\n"
     ]
    }
   ],
   "source": [
    "d = m .^ 2     \n",
    "e = m .\\ 5    # to samo co 5 ./ m"
   ]
  },
  {
   "cell_type": "markdown",
   "metadata": {
    "slideshow": {
     "slide_type": "slide"
    }
   },
   "source": [
    "* operacje macierzowe: `*`, `/`, `\\`\n",
    " * `A * B` iloczyn macierzy (iloczyn skalarny dla wektorów) \n",
    " * `A / B` dzielenie macierzy, wynikiem jest `X` takie, że `X * B = A`\n",
    " * `A \\ B`  dzielenie macierzy, wynikiem jest `X` takie, że `A * X = B`\n",
    " * potęgowanie `A^n` tylko dla macierzy `A` kwadratowych"
   ]
  },
  {
   "cell_type": "code",
   "execution_count": 62,
   "metadata": {
    "collapsed": true
   },
   "outputs": [
    {
     "name": "stdout",
     "output_type": "stream",
     "text": [
      "a =\n",
      "\n",
      "   14   32\n",
      "   32   77\n",
      "\n",
      "b =\n",
      "\n",
      "   1.0000e+00   4.7673e-16\n",
      "   2.2979e-16   1.0000e+00\n",
      "\n",
      "c =\n",
      "\n",
      "   0.83333   0.33333  -0.16667\n",
      "   0.33333   0.33333   0.33333\n",
      "  -0.16667   0.33333   0.83333\n",
      "\n"
     ]
    }
   ],
   "source": [
    "A = [1 2 3; 4 5 6];\n",
    "B = [1 2 3; 4 5 6];\n",
    "\n",
    "a = A * B'  # ilość wierszy A == ilość kolumn B\n",
    "b = A / B   # wymiary A i B takie same\n",
    "c = A \\ B   # wymiary A i B takie same"
   ]
  },
  {
   "cell_type": "code",
   "execution_count": 63,
   "metadata": {},
   "outputs": [
    {
     "name": "stdout",
     "output_type": "stream",
     "text": [
      "d =\r\n",
      "\r\n",
      "    9   12\r\n",
      "   24   33\r\n",
      "\r\n"
     ]
    }
   ],
   "source": [
    "d = A(1:2,1:2)^2 "
   ]
  },
  {
   "cell_type": "markdown",
   "metadata": {
    "slideshow": {
     "slide_type": "slide"
    }
   },
   "source": [
    "* opearcje macierzowe element po elemencie: `+`, `-`, `.*`, `./`, `.^`, `.\\`\n",
    "* wymiary macierzy muszą się zgadzać"
   ]
  },
  {
   "cell_type": "code",
   "execution_count": 74,
   "metadata": {},
   "outputs": [
    {
     "name": "stdout",
     "output_type": "stream",
     "text": [
      "a =\n",
      "\n",
      "   4   6   9\n",
      "   7   9   9\n",
      "\n",
      "b =\n",
      "\n",
      "    3    8   18\n",
      "   12   20   18\n",
      "\n",
      "c =\n",
      "\n",
      "   0.33333   0.50000   0.50000\n",
      "   1.33333   1.25000   2.00000\n",
      "\n"
     ]
    }
   ],
   "source": [
    "A = [ 1 2 3; 4 5 6 ]; \n",
    "B = [ 3 4 6; 3 4 3 ];\n",
    "\n",
    "a = A + B    # to samo co A .+ B\n",
    "b = A .* B\n",
    "c = A ./ B"
   ]
  },
  {
   "cell_type": "code",
   "execution_count": 76,
   "metadata": {},
   "outputs": [
    {
     "name": "stdout",
     "output_type": "stream",
     "text": [
      "d =\n",
      "\n",
      "     1    16   729\n",
      "    64   625   216\n",
      "\n",
      "e =\n",
      "\n",
      "   3.00000   2.00000   2.00000\n",
      "   0.75000   0.80000   0.50000\n",
      "\n"
     ]
    }
   ],
   "source": [
    "d = A .^ B\n",
    "e = A .\\ B  # to samo co B ./ A"
   ]
  },
  {
   "cell_type": "markdown",
   "metadata": {
    "slideshow": {
     "slide_type": "slide"
    }
   },
   "source": [
    "* operacje macierzy i wektora element po elemencie powielane wzdłóż pasującego wymiaru"
   ]
  },
  {
   "cell_type": "code",
   "execution_count": 89,
   "metadata": {},
   "outputs": [
    {
     "name": "stdout",
     "output_type": "stream",
     "text": [
      "A =\n",
      "\n",
      "   2   2   2\n",
      "   2   2   2\n",
      "\n",
      "w1 =\n",
      "\n",
      "   1   2   3\n",
      "\n",
      "w2 =\n",
      "\n",
      "   1\n",
      "   2\n",
      "\n"
     ]
    }
   ],
   "source": [
    "A = ones(2, 3) + 1\n",
    "w1 = [1 2 3]\n",
    "w2 = [1; 2]"
   ]
  },
  {
   "cell_type": "code",
   "execution_count": 90,
   "metadata": {},
   "outputs": [
    {
     "name": "stdout",
     "output_type": "stream",
     "text": [
      "a =\n",
      "\n",
      "   3   4   5\n",
      "   3   4   5\n",
      "\n",
      "b =\n",
      "\n",
      "   3   3   3\n",
      "   4   4   4\n",
      "\n"
     ]
    }
   ],
   "source": [
    "a = A + w1    # sumowanie elementów w wierszach macierzy\n",
    "b = A + w2    # sumowanie elementów w kolumnach macierzy "
   ]
  },
  {
   "cell_type": "code",
   "execution_count": 92,
   "metadata": {},
   "outputs": [
    {
     "name": "stdout",
     "output_type": "stream",
     "text": [
      "a =\n",
      "\n",
      "   2   4   6\n",
      "   2   4   6\n",
      "\n",
      "b =\n",
      "\n",
      "   2   2   2\n",
      "   4   4   4\n",
      "\n"
     ]
    }
   ],
   "source": [
    "a = A .* w1    \n",
    "b = A .* w2"
   ]
  },
  {
   "cell_type": "markdown",
   "metadata": {
    "slideshow": {
     "slide_type": "slide"
    }
   },
   "source": [
    "## Macierze i funkcje\n",
    "\n",
    "Wiele funkcji Matlaba jest przystosowana do działania na macierzach o dowolnych kształtach\n"
   ]
  },
  {
   "cell_type": "code",
   "execution_count": 94,
   "metadata": {},
   "outputs": [
    {
     "name": "stdout",
     "output_type": "stream",
     "text": [
      "w =\n",
      "\n",
      "   1   2   3   4   5   6\n",
      "\n",
      "X =\n",
      "\n",
      "   1   3   5\n",
      "   2   4   6\n",
      "\n",
      "a =\n",
      "\n",
      "   0.84147   0.90930   0.14112  -0.75680  -0.95892  -0.27942\n",
      "\n",
      "b =\n",
      "\n",
      "   0.54030  -0.98999   0.28366\n",
      "  -0.41615  -0.65364   0.96017\n",
      "\n"
     ]
    }
   ],
   "source": [
    "w = 1:6\n",
    "X = reshape(w, 2, 3)\n",
    "\n",
    "a = sin(w)\n",
    "b = cos(X)"
   ]
  },
  {
   "cell_type": "markdown",
   "metadata": {
    "slideshow": {
     "slide_type": "-"
    }
   },
   "source": [
    "**Ćwiczenie** popraw program `pole_kola.m` tak aby funkcja zwracała poprawny wynik dla argumentu macierzowego. Wynikiem funkcji będzie macierz zawierająca w kazdym z elementów  $P_{ij}$ wartość pola dla promienia $R_{ij}$.\n",
    "Postaraj się nie korzystać z instrukcji pętli. "
   ]
  },
  {
   "cell_type": "markdown",
   "metadata": {},
   "source": [
    "**Ćwiczenie** zmierz czas wykonywania poniższych instrukcji.\n",
    "* porównaj szybkość działania przy zastosowaniu prealokowanego wektora `x`\n",
    "* przyśpiesz działanie stosując wektoryzację (pozbądź się instrukcji pętli)"
   ]
  },
  {
   "cell_type": "code",
   "execution_count": 149,
   "metadata": {},
   "outputs": [
    {
     "name": "stdout",
     "output_type": "stream",
     "text": [
      "n =  100000\n",
      "Elapsed time is 0.810982 seconds.\n",
      "ans =  21082008.97392\n"
     ]
    }
   ],
   "source": [
    "n=100000\n",
    "tic\n",
    "for i=1:n\n",
    "    x(i) = sqrt(i);\n",
    "end\n",
    "toc\n",
    "sum(x)"
   ]
  },
  {
   "cell_type": "markdown",
   "metadata": {
    "slideshow": {
     "slide_type": "slide"
    }
   },
   "source": [
    "## Wektory i macierze logiczne\n",
    "\n",
    "* macierze zawierające wartości logiczne (typ `logical`), wartość `0` to fałsz, wartość `1` (lub niezerowa) to prawda\n",
    "* indesowanie macierzy za pomocą macierzy logicznych\n",
    "* funkcje `false()` i `true()` pozwalają tworzyc macierze logiczne\n",
    "* funkcja `logical()` zamienia macierz liczbową na logiczną"
   ]
  },
  {
   "cell_type": "code",
   "execution_count": 99,
   "metadata": {},
   "outputs": [
    {
     "name": "stdout",
     "output_type": "stream",
     "text": [
      "ind =\n",
      "\n",
      "  0  1  0\n",
      "  1  0  1\n",
      "\n",
      "Variables in the current scope:\n",
      "\n",
      "   Attr Name        Size                     Bytes  Class\n",
      "   ==== ====        ====                     =====  ===== \n",
      "        ind         2x3                          6  logical\n",
      "\n",
      "Total is 6 elements using 6 bytes\n",
      "\n"
     ]
    }
   ],
   "source": [
    "X = [1 , -5, 7 ; -1, 42, -12];\n",
    "ind = X < 0\n",
    "whos ind"
   ]
  },
  {
   "cell_type": "code",
   "execution_count": 103,
   "metadata": {},
   "outputs": [
    {
     "name": "stdout",
     "output_type": "stream",
     "text": [
      "a =\n",
      "\n",
      "   -1\n",
      "   -5\n",
      "  -12\n",
      "\n",
      "b =\n",
      "\n",
      "   111\n",
      "   111\n",
      "   111\n",
      "\n",
      "X =\n",
      "\n",
      "   111    -5   111\n",
      "    -1   111   -12\n",
      "\n"
     ]
    }
   ],
   "source": [
    "# indeksowanie macierzą logiczną\n",
    "a = X(ind)    \n",
    "b = X( X > 0)\n",
    "X( X > 0) = 111"
   ]
  },
  {
   "cell_type": "code",
   "execution_count": 105,
   "metadata": {
    "slideshow": {
     "slide_type": "slide"
    }
   },
   "outputs": [
    {
     "name": "stdout",
     "output_type": "stream",
     "text": [
      "A =\n",
      "\n",
      "  1  1\n",
      "  1  1\n",
      "\n",
      "B =\n",
      "\n",
      "  0  0  0\n",
      "  0  0  0\n",
      "\n",
      "Variables in the current scope:\n",
      "\n",
      "   Attr Name        Size                     Bytes  Class\n",
      "   ==== ====        ====                     =====  ===== \n",
      "        A           2x2                          4  logical\n",
      "        B           2x3                          6  logical\n",
      "\n",
      "Total is 10 elements using 10 bytes\n",
      "\n"
     ]
    }
   ],
   "source": [
    "A = true(2)\n",
    "B = false(2, 3)\n",
    "whos A B"
   ]
  },
  {
   "cell_type": "code",
   "execution_count": 106,
   "metadata": {},
   "outputs": [
    {
     "name": "stdout",
     "output_type": "stream",
     "text": [
      "C =\n",
      "\n",
      "   2   2\n",
      "   2   2\n",
      "\n",
      "Variables in the current scope:\n",
      "\n",
      "   Attr Name        Size                     Bytes  Class\n",
      "   ==== ====        ====                     =====  ===== \n",
      "        A           2x2                          4  logical\n",
      "        C           2x2                         32  double\n",
      "\n",
      "Total is 8 elements using 36 bytes\n",
      "\n"
     ]
    }
   ],
   "source": [
    "# wartości logiczne moga być traktowane jak liczby całkowite\n",
    "C = A + 1\n",
    "whos A C"
   ]
  },
  {
   "cell_type": "markdown",
   "metadata": {
    "slideshow": {
     "slide_type": "slide"
    }
   },
   "source": [
    "**Ćwiczenie** dlaczego poniższe wyrażenie nie działa? Spróbuj to naprawić."
   ]
  },
  {
   "cell_type": "code",
   "execution_count": 111,
   "metadata": {},
   "outputs": [
    {
     "name": "stdout",
     "output_type": "stream",
     "text": [
      "error: w(0): subscripts must be either integers 1 to (2^63)-1 or logicals\r\n"
     ]
    }
   ],
   "source": [
    "w = 1:5;\n",
    "w([1 0 1 0 1]) = -1"
   ]
  },
  {
   "cell_type": "code",
   "execution_count": 115,
   "metadata": {},
   "outputs": [
    {
     "name": "stdout",
     "output_type": "stream",
     "text": [
      "'logical' is a built-in function from the file libinterp/octave-value/ov-bool-mat.cc\r\n",
      "\r\n",
      " -- logical (X)\r\n",
      "     Convert the numeric object X to logical type.\r\n",
      "\r\n",
      "     Any nonzero values will be converted to true (1) while zero values\r\n",
      "     will be converted to false (0).  The non-numeric value NaN cannot\r\n",
      "     be converted and will produce an error.\r\n",
      "\r\n",
      "     Compatibility Note: Octave accepts complex values as input, whereas\r\n",
      "     MATLAB issues an error.\r\n",
      "\r\n",
      "     See also: double, single, char.\r\n",
      "\r\n",
      "Additional help for built-in functions and operators is\r\n",
      "available in the online version of the manual.  Use the command\r\n",
      "'doc <topic>' to search the manual index.\r\n",
      "\r\n",
      "Help and information about Octave is also available on the WWW\r\n",
      "at https://www.octave.org and via the help@octave.org\r\n",
      "mailing list.\r\n"
     ]
    }
   ],
   "source": [
    "help logical"
   ]
  },
  {
   "cell_type": "markdown",
   "metadata": {
    "slideshow": {
     "slide_type": "slide"
    }
   },
   "source": [
    "## Przydatne funkcje operujące na wartosciach logicznych\n",
    "\n",
    "* `any()` zwraca 1 dla każdej kolumny posiadającej niezerowy element  \n",
    "* `all()` zwraca 1 dla każdej kolumny której wszystkie elementy są niezerowe\n",
    "* `find()` zwraca indeksy (indeksowanie liniowe) niezerowych elementów\n",
    "* `isequal()` sprawdza czy macierze mają jednakowe elementy\n"
   ]
  },
  {
   "cell_type": "code",
   "execution_count": 117,
   "metadata": {},
   "outputs": [
    {
     "name": "stdout",
     "output_type": "stream",
     "text": [
      "E =\n",
      "\n",
      "   1   0   3   0\n",
      "   2   0   0   3\n",
      "\n",
      "ans =\n",
      "\n",
      "  1  0  0  0\n",
      "\n",
      "ans =\n",
      "\n",
      "  1  0  1  1\n",
      "\n"
     ]
    }
   ],
   "source": [
    "E = [ 1 2 ; 0 0 ; 3 * eye(2)]'\n",
    "all(E)\n",
    "any(E)"
   ]
  },
  {
   "cell_type": "code",
   "execution_count": 16,
   "metadata": {
    "scrolled": true,
    "slideshow": {
     "slide_type": "slide"
    }
   },
   "outputs": [
    {
     "name": "stdout",
     "output_type": "stream",
     "text": [
      "k =\n",
      "\n",
      "   1\n",
      "   2\n",
      "   5\n",
      "   8\n",
      "\n",
      "a =\n",
      "\n",
      "   1\n",
      "   2\n",
      "   3\n",
      "   3\n",
      "\n"
     ]
    }
   ],
   "source": [
    "# indeksy liniowe\n",
    "k = find(E)\n",
    "a = E(k)"
   ]
  },
  {
   "cell_type": "code",
   "execution_count": 30,
   "metadata": {},
   "outputs": [
    {
     "name": "stdout",
     "output_type": "stream",
     "text": [
      "w =\r\n",
      "\r\n",
      "   1\r\n",
      "   2\r\n",
      "   1\r\n",
      "   2\r\n",
      "\r\n",
      "k =\r\n",
      "\r\n",
      "   1\r\n",
      "   1\r\n",
      "   3\r\n",
      "   4\r\n",
      "\r\n"
     ]
    }
   ],
   "source": [
    "# indeksy wierszy i kolumn\n",
    "[w k] = find(E)"
   ]
  },
  {
   "cell_type": "code",
   "execution_count": 31,
   "metadata": {
    "scrolled": true
   },
   "outputs": [
    {
     "name": "stdout",
     "output_type": "stream",
     "text": [
      "k2 =\r\n",
      "\r\n",
      "   3\r\n",
      "   4\r\n",
      "   6\r\n",
      "   7\r\n",
      "\r\n"
     ]
    }
   ],
   "source": [
    "# szukanie zerowych elementów\n",
    "k2 = find(~E)"
   ]
  },
  {
   "cell_type": "code",
   "execution_count": 32,
   "metadata": {},
   "outputs": [
    {
     "name": "stdout",
     "output_type": "stream",
     "text": [
      "k3 =\r\n",
      "\r\n",
      "   5\r\n",
      "   8\r\n",
      "\r\n"
     ]
    }
   ],
   "source": [
    "# szukanie elementów spełniających warunki\n",
    "k3 = find(E > 2)"
   ]
  },
  {
   "cell_type": "code",
   "execution_count": 128,
   "metadata": {
    "slideshow": {
     "slide_type": "slide"
    }
   },
   "outputs": [
    {
     "name": "stdout",
     "output_type": "stream",
     "text": [
      "ans = 1\n",
      "z = 1\n"
     ]
    }
   ],
   "source": [
    "X = E;\n",
    "isequal(E, X)"
   ]
  },
  {
   "cell_type": "markdown",
   "metadata": {
    "slideshow": {
     "slide_type": "slide"
    }
   },
   "source": [
    "## Operatory logiczne\n",
    "\n",
    "* operatory logiczne działajace na elementach: `&` and, `|` or, `~` not"
   ]
  },
  {
   "cell_type": "code",
   "execution_count": 35,
   "metadata": {
    "slideshow": {
     "slide_type": "-"
    }
   },
   "outputs": [
    {
     "name": "stdout",
     "output_type": "stream",
     "text": [
      "X =\n",
      "\n",
      "   17   24    1    8   15\n",
      "   23    5    7   14   16\n",
      "    4    6   13   20   22\n",
      "   10   12   19   21    3\n",
      "   11   18   25    2    9\n",
      "\n",
      "ans =\n",
      "\n",
      "   6\n",
      "   7\n",
      "   8\n",
      "   9\n",
      "\n"
     ]
    }
   ],
   "source": [
    "X = magic(5)\n",
    "X(X > 5 & X < 10)\n"
   ]
  },
  {
   "cell_type": "markdown",
   "metadata": {},
   "source": [
    "**Ćwiczenie** utwórz macierz `X` o wymiarach 10x10 posiadającą losowe wartości z zakresu od -1 do 1. \n",
    "Następnie zamień wszystkie wartości ujemmne macierzy `X` liczbą `0`."
   ]
  },
  {
   "attachments": {
    "image.png": {
     "image/png": "[encoded data removed]"
    }
   },
   "cell_type": "markdown",
   "metadata": {},
   "source": [
    "## Zadanie 5 Monte carlo\n",
    "\n",
    "Napisz funkcję o nazwie `mc_pi`, która wyznaczy przyblizenie wartości liczby $\\pi$ za pomoca całkowania metodą Monte Carlo. Zadanie sprowadza się do wycznaczenia pola koła o promieniu 1.\n",
    "\n",
    "$$ P_{\\circle} = \\pi r^2 = \\pi $$\n",
    "\n",
    "Pole ćwierci koła mozna wyznaczyć licząc stosunek liczby $P$ punktów wewnątrz koła do liczby $N$ ilosci wszystkich wylosowanych punktów w kwadracie o polu 1.\n",
    "\n",
    "$$4 \\cdot \\frac{P}{N} \\approx \\pi $$\n",
    "\n",
    "![image.png](attachment:image.png)\n",
    "\n",
    "Algorytm:\n",
    "1. Wylosuj $N$ losowych punktów $(x, y)$, gdzie $x, y \\in [0, 1]$\n",
    "2. Wyznacz liczbę punktów $P$, która trafiła w tarszę koła, tzn. spełniające warunek  \n",
    "$$\\sqrt{x^2 + y^2} < 1$$\n",
    "3. Wyznacz przybliżenie liczby $\\pi$ równe $4 \\cdot \\frac{P}{N}$\n",
    "\n",
    "Sprubuj wykonać to zadanie, krorzystając wyłacznie z notacji macierzowej Matlaba (bez uzycia instrukcji pętli)\n",
    "\n",
    "Funkcja przyjmuje jeden argument `N` - liczba całkowita określająca ilość losowań.  \n",
    "Gdy argument nie jest podany to używana jest domyślna wartość `N=1000` "
   ]
  }
 ],
 "metadata": {
  "celltoolbar": "Slideshow",
  "kernelspec": {
   "display_name": "Octave",
   "language": "octave",
   "name": "octave"
  },
  "language_info": {
   "file_extension": ".m",
   "help_links": [
    {
     "text": "GNU Octave",
     "url": "https://www.gnu.org/software/octave/support.html"
    },
    {
     "text": "Octave Kernel",
     "url": "https://github.com/Calysto/octave_kernel"
    },
    {
     "text": "MetaKernel Magics",
     "url": "https://metakernel.readthedocs.io/en/latest/source/README.html"
    }
   ],
   "mimetype": "text/x-octave",
   "name": "octave",
   "version": "5.2.0"
  },
  "toc": {
   "base_numbering": 1,
   "nav_menu": {},
   "number_sections": true,
   "sideBar": true,
   "skip_h1_title": false,
   "title_cell": "Table of Contents",
   "title_sidebar": "Contents",
   "toc_cell": false,
   "toc_position": {},
   "toc_section_display": true,
   "toc_window_display": false
  },
  "varInspector": {
   "cols": {
    "lenName": 16,
    "lenType": 16,
    "lenVar": 40
   },
   "kernels_config": {
    "python": {
     "delete_cmd_postfix": "",
     "delete_cmd_prefix": "del ",
     "library": "var_list.py",
     "varRefreshCmd": "print(var_dic_list())"
    },
    "r": {
     "delete_cmd_postfix": ") ",
     "delete_cmd_prefix": "rm(",
     "library": "var_list.r",
     "varRefreshCmd": "cat(var_dic_list()) "
    }
   },
   "types_to_exclude": [
    "module",
    "function",
    "builtin_function_or_method",
    "instance",
    "_Feature"
   ],
   "window_display": false
  }
 },
 "nbformat": 4,
 "nbformat_minor": 4
}
