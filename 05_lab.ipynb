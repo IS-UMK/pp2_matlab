{
 "cells": [
  {
   "cell_type": "markdown",
   "metadata": {
    "slideshow": {
     "slide_type": "slide"
    }
   },
   "source": [
    "# Macierze - podsumowanie\n",
    "\n",
    "* tworzenie macierzy i indeksowanie elementów macierzy\n",
    "* operacje macierzowe i funkcje działające na macierzach\n",
    "* macierze logiczne i operacje na macierzach logicznych\n",
    "* optymalizacja kodu\n",
    " * wektoryzacja - zamiana pętli po elementach na mechanizmy indeksowania\n",
    " * prealokacja - dynamiczne modyfikowanie rozmiarów macierzy jest kosztowne\n",
    "\n"
   ]
  },
  {
   "cell_type": "markdown",
   "metadata": {
    "slideshow": {
     "slide_type": "slide"
    }
   },
   "source": [
    "## Operacje na macierzach\n",
    "\n",
    "\n",
    "Operator | Opis | Operator | Opis | \n",
    ":-|:-|:-|:-|\n",
    "`A + B` | dodawanie| `A .+ B` | dodawnie |\n",
    "`A - B` | odejmowanie| `A .- B` | odejmowanie |\n",
    "`A * B` | iloczyn macierzy| `A .* B` | mnożenie elementów |\n",
    "`A / B` | dzielenie macierzy $A B^{-1}$  (a właściwie $(B^T/A^T)^T)$ | `A ./ B` | dzielenie elementów |\n",
    "`A \\ B` | dzielenie macierzy $A^{-1}B $ (rozwiązanie $Ax=B$) | `A .\\ B` | dzielenie elementów |\n",
    "`A'` | transpozycja (sprzężona)| `A.'` transpozycja | \n",
    "`A ^ n` | potęgowanie macierzy (`A * A * ... * A`)| `A.^B` | potegowanie elementami |\n",
    "\n"
   ]
  },
  {
   "cell_type": "markdown",
   "metadata": {
    "slideshow": {
     "slide_type": "slide"
    }
   },
   "source": [
    "## Funkcje tworzące macierze\n",
    "\n",
    "Funkcja | Opis |\n",
    ":-|:-|\n",
    "`zeros(N, M)` | macierz zerowa |\n",
    "`ones(N, M)` | macierz z jedynkami |\n",
    "`eye(N, M)` | macierz tożsamożsciowa z 1 na diagonali |\n",
    "`rand(N, M)` | macierz z wartościami losowymi z rozkładu jednostajnego $[0,1]$ |\n",
    "`randn(N, M)` | macierz z wartościami losowaymi z rozkladu normalnego $N(0,1)$ |\n",
    "`linspace(A, B, K)` | wektor $K$ puntów na odcinku $[A,B]$ |\n",
    "`magic(N)`          | macierz liczb całkowitych o identycznej sumie w wierszach i kokumnach |\n",
    "\n"
   ]
  },
  {
   "cell_type": "markdown",
   "metadata": {
    "slideshow": {
     "slide_type": "slide"
    }
   },
   "source": [
    "## Funkcje macierzowe\n",
    "\n",
    "\n",
    "Funkcja | Opis |\n",
    ":-|:-|\n",
    "`reshape(A, N, M)` | zmiana wymiarów macierzy |\n",
    "`length(A)`       | ilość elementów wektora lub najdłuższy wymiar macierzy |\n",
    "`size(A)`         | ilość wierszy i kolumn macierzy |\n",
    " `numel(A)`       | ilość elementów |\n",
    "`trace(A)`        | ślad macierzy |\n",
    "`det(A)`          | wyznacznuk macierzy |\n",
    "`rank(A)`         | rząd macierzy |\n",
    "`inv(A)`          | odwrócenie macierzy $A^{-1}$ |\n",
    "\n"
   ]
  },
  {
   "cell_type": "markdown",
   "metadata": {
    "slideshow": {
     "slide_type": "slide"
    }
   },
   "source": [
    "**Ćwiczenie** Rozwiąż układ równań $Ax=b$\n",
    "$$\n",
    "\\left\\{\\begin{array}{l}\n",
    "x+2 y+3 z=1 \\\\\n",
    "4 x+5 y+6 z=1 \\\\\n",
    "7 x+8 y \\quad=1\n",
    "\\end{array}\\right.\n",
    "$$\n",
    "1. rozwiązaując równanie $x = A^{-1}b$\n",
    "2. za pomoca operatora `\\`\n"
   ]
  },
  {
   "cell_type": "markdown",
   "metadata": {
    "slideshow": {
     "slide_type": "slide"
    }
   },
   "source": [
    "## Macierze i funkcje\n",
    "\n",
    "Wiele funkcji Matlaba $f(x)=y$ jest przystosowana do działania na macierzach o dowolnych kształtach\n"
   ]
  },
  {
   "cell_type": "code",
   "execution_count": null,
   "metadata": {},
   "outputs": [],
   "source": [
    "X = reshape(1:24, 4, 6)\n",
    "\n",
    "a = sin(X)\n",
    "b = cos(X) .* sin(a)"
   ]
  },
  {
   "cell_type": "markdown",
   "metadata": {
    "slideshow": {
     "slide_type": "-"
    }
   },
   "source": [
    "**Ćwiczenie** popraw program `pole_kola.m` tak aby funkcja zwracała poprawny wynik dla argumentu macierzowego. Wynikiem funkcji będzie macierz zawierająca w każdym z elementów  $P_{ij}$ wartość pola dla promienia $R_{ij}$.\n",
    "Postaraj się nie korzystać z instrukcji pętli. "
   ]
  },
  {
   "cell_type": "markdown",
   "metadata": {
    "slideshow": {
     "slide_type": "slide"
    }
   },
   "source": [
    "**Ćwiczenie** zmierz czas wykonywania poniższych instrukcji.\n",
    "* porównaj szybkość działania przy zastosowaniu prealokowanego wektora `x`\n",
    "* przyśpiesz działanie stosując wektoryzację (pozbądź się instrukcji pętli)"
   ]
  },
  {
   "cell_type": "code",
   "execution_count": null,
   "metadata": {},
   "outputs": [],
   "source": [
    "n=100000\n",
    "tic\n",
    "for i=1:n\n",
    "    x(i) = sqrt(i);\n",
    "end\n",
    "toc\n",
    "sum(x)"
   ]
  },
  {
   "cell_type": "markdown",
   "metadata": {
    "slideshow": {
     "slide_type": "slide"
    }
   },
   "source": [
    "## Wektory i macierze logiczne\n",
    "\n",
    "* macierze zawierające wartości logiczne (typ `logical`), wartość `0` to fałsz, wartość `1` (lub niezerowa) to prawda\n",
    "* indeksowanie macierzy za pomocą macierzy logicznych\n",
    "* funkcje `false()` i `true()` pozwalają tworzyć macierze logiczne\n",
    "* funkcja `logical()` zamienia macierz liczbową na logiczną"
   ]
  },
  {
   "cell_type": "code",
   "execution_count": null,
   "metadata": {},
   "outputs": [],
   "source": [
    "X = [1 , -5, 7 ; -1, 42, -12]\n",
    "ind = X < 0\n",
    "whos ind"
   ]
  },
  {
   "cell_type": "code",
   "execution_count": null,
   "metadata": {},
   "outputs": [],
   "source": [
    "# indeksowanie macierzą logiczną\n",
    "a = X(ind)    \n",
    "b = X( X > 0 )\n",
    "X( X > 0) = 111"
   ]
  },
  {
   "cell_type": "code",
   "execution_count": null,
   "metadata": {
    "slideshow": {
     "slide_type": "slide"
    }
   },
   "outputs": [],
   "source": [
    "A = true(2)\n",
    "B = false(2, 3)\n",
    "whos A B"
   ]
  },
  {
   "cell_type": "code",
   "execution_count": null,
   "metadata": {},
   "outputs": [],
   "source": [
    "# wartości logiczne mogą być traktowane jak liczby całkowite\n",
    "C = A + 1\n",
    "whos A C"
   ]
  },
  {
   "cell_type": "markdown",
   "metadata": {
    "slideshow": {
     "slide_type": "slide"
    }
   },
   "source": [
    "**Ćwiczenie** dlaczego poniższe wyrażenie nie działa? Spróbuj to naprawić."
   ]
  },
  {
   "cell_type": "code",
   "execution_count": null,
   "metadata": {},
   "outputs": [],
   "source": [
    "w = 1:5;\n",
    "w([1 0 1 0 1]) = -1"
   ]
  },
  {
   "cell_type": "markdown",
   "metadata": {
    "slideshow": {
     "slide_type": "slide"
    }
   },
   "source": [
    "## Przydatne funkcje operujące na wartościach logicznych\n",
    "\n",
    "Funkcja | Opis |\n",
    ":-|:-|\n",
    "`any()` | zwraca 1 gdy wektor posiada niezerowy element |  \n",
    " | dla macierzy zwraca wektor z wartością 1 gdy w kolumnie jest niezerowa wartość   |\n",
    "`all()` | zwraca 1 dla każdej kolumny której wszystkie elementy są niezerowe |\n",
    "`find()` | zwraca indeksy (indeksowanie liniowe) niezerowych elementów |\n",
    "`isequal()` | sprawdza czy macierze mają jednakowe elementy |\n",
    "`isnan()`  | sprawdza czy w macierzy są elementy `NaN`  |\n"
   ]
  },
  {
   "cell_type": "code",
   "execution_count": null,
   "metadata": {},
   "outputs": [],
   "source": [
    "w1 = [ 0 0 1 2 ];\n",
    "w2 = zeros(1,10);\n",
    "\n",
    "a = all(w1)\n",
    "b = any(w1)\n",
    "\n",
    "c = all(w2)\n",
    "d = any(w2)"
   ]
  },
  {
   "cell_type": "code",
   "execution_count": null,
   "metadata": {
    "slideshow": {
     "slide_type": "slide"
    }
   },
   "outputs": [],
   "source": [
    "E = [ 1 2 ; 0 0 ; 3 * eye(2)]'\n",
    "all(E)\n",
    "any(E)"
   ]
  },
  {
   "cell_type": "code",
   "execution_count": null,
   "metadata": {
    "slideshow": {
     "slide_type": "slide"
    }
   },
   "outputs": [],
   "source": [
    "# indeksy liniowe\n",
    "k = find(E)\n",
    "a = E(k)"
   ]
  },
  {
   "cell_type": "code",
   "execution_count": null,
   "metadata": {},
   "outputs": [],
   "source": [
    "# indeksy wierszy i kolumn\n",
    "[w k] = find(E)"
   ]
  },
  {
   "cell_type": "code",
   "execution_count": null,
   "metadata": {},
   "outputs": [],
   "source": [
    "# szukanie zerowych elementów\n",
    "k2 = find(~E)"
   ]
  },
  {
   "cell_type": "code",
   "execution_count": null,
   "metadata": {},
   "outputs": [],
   "source": [
    "# szukanie elementów spełniających okreslone warunki\n",
    "k3 = find(E > 2)"
   ]
  },
  {
   "cell_type": "code",
   "execution_count": null,
   "metadata": {
    "slideshow": {
     "slide_type": "slide"
    }
   },
   "outputs": [],
   "source": [
    "X = E\n",
    "isequal(E, X)"
   ]
  },
  {
   "cell_type": "code",
   "execution_count": null,
   "metadata": {
    "slideshow": {
     "slide_type": "slide"
    }
   },
   "outputs": [],
   "source": [
    "% to samo za pomocą funkcji all()\n",
    "all(all(X == E))   "
   ]
  },
  {
   "cell_type": "code",
   "execution_count": null,
   "metadata": {
    "slideshow": {
     "slide_type": "slide"
    }
   },
   "outputs": [],
   "source": [
    "X(1,1) = 13\n",
    "isequal(E, X)\n",
    "all(all(X == E))   \n",
    "~any(any(X ~= E))"
   ]
  },
  {
   "cell_type": "markdown",
   "metadata": {
    "slideshow": {
     "slide_type": "slide"
    }
   },
   "source": [
    "## Operatory logiczne\n",
    "\n",
    "Operator | Opis |\n",
    ":-|:-|\n",
    "`A < B` | mniejszy niż |\n",
    "`A > B` | większy niż |\n",
    "`A <= B` | mniejszy lub równy |\n",
    "`A >= B` | wiekszy lub równy  |\n",
    "`A == B` | równy sobie |\n",
    "`A ~= B` | rózny od siebie |\n",
    "`A & B` | aperator AND elementami |\n",
    "`A \\| B` | operator OR elementami |\n",
    "`~A `   | Operator NOT |\n",
    "\n"
   ]
  },
  {
   "cell_type": "code",
   "execution_count": null,
   "metadata": {
    "slideshow": {
     "slide_type": "slide"
    }
   },
   "outputs": [],
   "source": [
    "X = magic(5)\n",
    "\n",
    "a = X(X > 5 & X < 10)"
   ]
  },
  {
   "cell_type": "code",
   "execution_count": null,
   "metadata": {
    "slideshow": {
     "slide_type": "-"
    }
   },
   "outputs": [],
   "source": [
    "parzyste = X(mod(X, 2) == 0)"
   ]
  },
  {
   "cell_type": "code",
   "execution_count": null,
   "metadata": {
    "slideshow": {
     "slide_type": "-"
    }
   },
   "outputs": [],
   "source": [
    "c = X(~mod(X, 2) == 0 | X < 5)"
   ]
  },
  {
   "cell_type": "markdown",
   "metadata": {
    "slideshow": {
     "slide_type": "-"
    }
   },
   "source": [
    "**Ćwiczenie** utwórz macierz `X` o wymiarach 10x10 posiadającą losowe wartości z zakresu od -1 do 1.\n",
    "* zastąp wszystkie elementy o wartości ujemnej w macierzy `X` liczbą `0`\n",
    "* wyznacz sumę wszystkich elementów $x > 0.5$  "
   ]
  },
  {
   "cell_type": "markdown",
   "metadata": {
    "slideshow": {
     "slide_type": "slide"
    }
   },
   "source": [
    "## Statystyki opisowe \n",
    "\n",
    "Funkcja | Opis |\n",
    ":-|:-|\n",
    "`min` | minimum (w kolumnach)|\n",
    "`max` | maksimum (w kolumnach) |\n",
    "`mean`\t| wartość średnia |\n",
    "`std`\t| odchylena standardowe |\n",
    "`median` | mediana |\n",
    "`mode` |\twartość modelana |\n",
    "`var` |\twarianscja |\n",
    "`kurtosis` | kurtoza |\n",
    "`skewnes` | skośność |\n"
   ]
  },
  {
   "cell_type": "code",
   "execution_count": null,
   "metadata": {
    "slideshow": {
     "slide_type": "slide"
    }
   },
   "outputs": [],
   "source": [
    "X = randn(3,5)\n",
    "\n",
    "a = min(X)\n",
    "\n",
    "% minimim w wierszach\n",
    "a1 = min(X, [], 2)\n",
    "\n",
    "% minimim parami elementów\n",
    "a2 = min(X, zeros(size(X)))"
   ]
  },
  {
   "cell_type": "code",
   "execution_count": null,
   "metadata": {
    "slideshow": {
     "slide_type": "-"
    }
   },
   "outputs": [],
   "source": [
    "b = mean(X)\n",
    "\n",
    "# ścrednia w wierszach\n",
    "b1 = mean(X, 2)"
   ]
  },
  {
   "cell_type": "code",
   "execution_count": null,
   "metadata": {
    "slideshow": {
     "slide_type": "slide"
    }
   },
   "outputs": [],
   "source": [
    "X = randn(3,5)  \n",
    "c = std(X)"
   ]
  },
  {
   "cell_type": "code",
   "execution_count": null,
   "metadata": {
    "slideshow": {
     "slide_type": "-"
    }
   },
   "outputs": [],
   "source": [
    "d = median(X)"
   ]
  },
  {
   "cell_type": "code",
   "execution_count": null,
   "metadata": {
    "slideshow": {
     "slide_type": "-"
    }
   },
   "outputs": [],
   "source": [
    "X = 1:10;\n",
    "X(2:2:10) = 13\n",
    "e = mode(X)"
   ]
  },
  {
   "cell_type": "markdown",
   "metadata": {
    "slideshow": {
     "slide_type": "slide"
    }
   },
   "source": [
    "**Ćwiczenie** wczytaj dane `carsmall` i wykonaj następujące operacje:\n",
    "* sprawdź, czy zmienne dane zawierają wartości brakujące (oznaczone jako `NaN`) \n",
    "* usuń wartości brakujące ze zminnnej `MPG` i wyznacz jej wartość średnią i odchylenie\n",
    "* wysnacz wartość średnią `MPG` dla samochodów z roku 82 (`Model_year`)\n",
    "* wyznacz najczęsciej występujący rocznik\n",
    "\n",
    "Dane dla OCtave: https://www.fizyka.umk.pl/~grochu/pp2/carsmall.mat"
   ]
  },
  {
   "cell_type": "markdown",
   "metadata": {
    "slideshow": {
     "slide_type": "slide"
    }
   },
   "source": [
    "## Wykresy statystyczne\n",
    "\n",
    "* `plot(x,y)`  liniowy (wykres rozrzutu)\n",
    "* `hist(x)`  histogram\n",
    "* `boxplot(x)` skrzynkowy\n",
    "* `bar(x)` słupkowy\n",
    "* `pie(x)` kołowy"
   ]
  },
  {
   "cell_type": "code",
   "execution_count": null,
   "metadata": {
    "slideshow": {
     "slide_type": "slide"
    }
   },
   "outputs": [],
   "source": [
    "load carsmall\n",
    "whos\n",
    "% plik z danymi (dla OCtave) https://www.fizyka.umk.pl/~grochu/pp2/carsmall.m"
   ]
  },
  {
   "cell_type": "code",
   "execution_count": null,
   "metadata": {},
   "outputs": [],
   "source": [
    "hist(MPG)"
   ]
  },
  {
   "cell_type": "code",
   "execution_count": null,
   "metadata": {
    "slideshow": {
     "slide_type": "slide"
    }
   },
   "outputs": [],
   "source": [
    "boxplot(MPG);\n",
    "% w octave moze byc wymagane dointalowanie pakietu statystycznego\n",
    "% pkg load statistics"
   ]
  },
  {
   "cell_type": "code",
   "execution_count": null,
   "metadata": {},
   "outputs": [],
   "source": [
    "boxplot(Acceleration, Model_Year);"
   ]
  },
  {
   "cell_type": "code",
   "execution_count": null,
   "metadata": {
    "slideshow": {
     "slide_type": "slide"
    }
   },
   "outputs": [],
   "source": [
    "plot(Acceleration, Horsepower, 'o')"
   ]
  },
  {
   "cell_type": "code",
   "execution_count": null,
   "metadata": {
    "slideshow": {
     "slide_type": "slide"
    }
   },
   "outputs": [],
   "source": [
    "unique(Cylinders)\n",
    "\n",
    "plot(Acceleration(Cylinders == 4), Horsepower(Cylinders==4), 'o')\n",
    "hold on \n",
    "plot(Acceleration(Cylinders == 6), Horsepower(Cylinders==6), 'x')\n",
    "plot(Acceleration(Cylinders == 8), Horsepower(Cylinders==8), 's')"
   ]
  },
  {
   "cell_type": "code",
   "execution_count": null,
   "metadata": {
    "slideshow": {
     "slide_type": "slide"
    }
   },
   "outputs": [],
   "source": [
    "bar([sum(Cylinders == 4) sum(Cylinders == 6) sum(Cylinders == 8)])"
   ]
  },
  {
   "cell_type": "code",
   "execution_count": null,
   "metadata": {
    "slideshow": {
     "slide_type": "slide"
    }
   },
   "outputs": [],
   "source": [
    "pie([sum(Cylinders == 4) sum(Cylinders == 6) sum(Cylinders == 8)])"
   ]
  },
  {
   "cell_type": "markdown",
   "metadata": {
    "slideshow": {
     "slide_type": "slide"
    }
   },
   "source": [
    "**Ćwiczenie** wygeneruj wektor zawierający 1000 wartości z roskładu normalengo o średniej 5 i odchyleniu standardowym 10.\n",
    "* narysuj histogram\n",
    "* wysnacz wartość średnią $\\mu$, odchylenie standardowe $\\sigma$\n",
    "* dodaj do wykresu z hostpgramem wykres prezentujący funkcję rozkładu normalnego $N(\\mu, \\sigma) = A \\cdot \\exp \\left(\\frac{-(x-\\mu)^{2}}{2 \\sigma^{2}}\\right)$ (dobierz $A$ tak aby wykres jak najlepiej pokrywał się z histogramem )"
   ]
  },
  {
   "cell_type": "markdown",
   "metadata": {
    "slideshow": {
     "slide_type": "slide"
    }
   },
   "source": [
    "## Zadanie 6 Regresja liniowa\n",
    "\n",
    "Napisz funkcję o nazwie `regresja`, która dla danych werktowów $x$ i $y$ zwróci współczynniki $a$ i $b$ okreslające linię prostą $y = a x + b$ dopasowaną do danych $x$ i $y$ za pomocą metody najmniejszych kwadratów. \n",
    "\n",
    "Dla danych $x_i$ i $y_i$ wspólczyniki $a$ i $b$ wyznacz ze wzoru:\n",
    "\n",
    "$$\n",
    "a=\\frac{\\sum_{i=1}^{n}\\left(x_{i}-\\bar{x}\\right)\\left(y_{i}-\\bar{y}\\right)}{\\sum_{i=1}^{n}\\left(x_{i}-\\bar{x}\\right)^{2}}\n",
    "$$\n",
    "\n",
    "$$\n",
    "b=\\bar{y}-a \\bar{x}\n",
    "$$\n",
    "gdzie $\\bar{x}$ i $\\bar{y}$ to wartości średnie zmiennych.\n",
    "\n",
    "Argumentami funkcji są dwa werktory $x$ i $y$. Jeżeli rozmiary wektorów nie zgadzają się, funkcja zwraca stosowany komunikat błedu oraz przerywa swoje działanie. Jeżeli użytkownik poda za mało lub za dużo argumentów, wówczas funkcja również zwraca odpowiedni komunikat z błędem i konczy swoje działanie. Do wypisania komunikatów z będęm wykorzystaj funkcję `error()`.\n",
    "\n",
    "Przykład działania funkcji:\n"
   ]
  },
  {
   "cell_type": "code",
   "execution_count": null,
   "metadata": {},
   "outputs": [],
   "source": [
    "x = 0:.1:10;\n",
    "y = 2 * x - 10;\n",
    "\n",
    "% dodajemy troche szumu\n",
    "y = y + 3*randn(size(x));\n",
    "\n",
    "[a b] = regresja(x, y)\n",
    "\n",
    "plot(x, y, 'o');\n",
    "hold on\n",
    "plot(x, a*x+b,'-');\n",
    " "
   ]
  }
 ],
 "metadata": {
  "celltoolbar": "Slideshow",
  "kernelspec": {
   "display_name": "Octave",
   "language": "octave",
   "name": "octave"
  },
  "language_info": {
   "file_extension": ".m",
   "help_links": [
    {
     "text": "GNU Octave",
     "url": "https://www.gnu.org/software/octave/support.html"
    },
    {
     "text": "Octave Kernel",
     "url": "https://github.com/Calysto/octave_kernel"
    },
    {
     "text": "MetaKernel Magics",
     "url": "https://metakernel.readthedocs.io/en/latest/source/README.html"
    }
   ],
   "mimetype": "text/x-octave",
   "name": "octave",
   "version": "5.2.0"
  },
  "toc": {
   "base_numbering": 1,
   "nav_menu": {},
   "number_sections": true,
   "sideBar": true,
   "skip_h1_title": false,
   "title_cell": "Table of Contents",
   "title_sidebar": "Contents",
   "toc_cell": false,
   "toc_position": {},
   "toc_section_display": true,
   "toc_window_display": false
  },
  "varInspector": {
   "cols": {
    "lenName": 16,
    "lenType": 16,
    "lenVar": 40
   },
   "kernels_config": {
    "python": {
     "delete_cmd_postfix": "",
     "delete_cmd_prefix": "del ",
     "library": "var_list.py",
     "varRefreshCmd": "print(var_dic_list())"
    },
    "r": {
     "delete_cmd_postfix": ") ",
     "delete_cmd_prefix": "rm(",
     "library": "var_list.r",
     "varRefreshCmd": "cat(var_dic_list()) "
    }
   },
   "types_to_exclude": [
    "module",
    "function",
    "builtin_function_or_method",
    "instance",
    "_Feature"
   ],
   "window_display": false
  }
 },
 "nbformat": 4,
 "nbformat_minor": 4
}
