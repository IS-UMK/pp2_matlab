{
 "cells": [
  {
   "cell_type": "markdown",
   "metadata": {
    "slideshow": {
     "slide_type": "slide"
    }
   },
   "source": [
    "# Macierze - podsumowanie\n",
    "\n",
    "* tworzenie macierzy i indeksowanie elementów macierzy\n",
    "* operacje macierzowe i funkcje działające na macierzach\n",
    "* macierze logiczne i operacje na macierzach logicznych\n",
    "* optymalizacja kodu\n",
    " * wektoryzacja - zamiana pętli po elementach na mechanizmy indeksowania\n",
    " * prealokacja - dynamiczne modyfikowanie rozmiarów macierzy jest kosztowne\n",
    "\n"
   ]
  },
  {
   "cell_type": "markdown",
   "metadata": {
    "slideshow": {
     "slide_type": "slide"
    }
   },
   "source": [
    "## Operacje na macierzach\n",
    "\n",
    "\n",
    "Operator | Opis | Operator | Opis | \n",
    ":-|:-|:-|:-|\n",
    "`A + B` | dodawanie| `A .+ B` | dodawnie |\n",
    "`A - B` | odejmowanie| `A .- B` | odejmowanie |\n",
    "`A * B` | iloczyn macierzy| `A .* B` | mnożenie elementów |\n",
    "`A / B` | dzielenie macierzy $A B^{-1}$  (rozwiązanie $xA=B$)| `A ./ B` | dzielenie elementów |\n",
    "`A \\ B` | dzielenie macierzy $A^{-1}B $ (rozwiązanie $Ax=B$) | `A .\\ B` | dzielenie elementów |\n",
    "`A'` | transpozycja (sprzężona)| `A.'` transpozycja | \n",
    "`A ^ n` | potęgowanie macierzy (`A * A * ... * A`)| `A.^B` | potegowanie elementami |\n",
    "\n"
   ]
  },
  {
   "cell_type": "markdown",
   "metadata": {},
   "source": [
    "## Funkcje tworzące macierze\n",
    "\n",
    "Funkcja | Opis |\n",
    ":-|:-|\n",
    "`zeros(N, M)` | macierz zerowa |\n",
    "`ones(N, M)` | macierz z jedynkami |\n",
    "`eye(N, M)` | macierz tożsamożsciowa z 1 na diagonali |\n",
    "`rand(N, M)` | macierz z wartościami losowymi z rozkładu jednostajnego $[0,1]$ |\n",
    "`randn(N, M)` | macierz z wartościami losowaymi z rozkladu normalnego $N(0,1)$ |\n",
    "`linspace(A, B, K)` | wektor $K$ puntów na odcinku $[A,B]$ |\n",
    "\n"
   ]
  },
  {
   "cell_type": "markdown",
   "metadata": {},
   "source": [
    "## Funkcje macierzowe\n",
    "\n",
    "\n",
    "Funkcja | Opis |\n",
    ":-|:-|\n",
    "`reshape(A, N, M)` | zmiana wymiarów macierzy |\n",
    "`length(A)`       | ilość elementów wektora lub najdłuższy wymiar macierzy |\n",
    "`size(A)`         | ilość wierszy i kolumn macierzy |\n",
    " `numel(A)`       | ilość elementów |\n",
    "`trace(A)`        | ślad macierzy |\n",
    "`det(A)`          | wyznacznuk macierzy |\n",
    "`rank(A)`         | rząd macierzy |\n",
    "`inv(A)`          | odwrócenie macierzy $A^{-1}$ |\n",
    "\n"
   ]
  },
  {
   "cell_type": "markdown",
   "metadata": {},
   "source": [
    "**Ćwiczenie** Rozwiąż układ równań $Ax=b$\n",
    "$$\n",
    "\\left\\{\\begin{array}{l}\n",
    "x+2 y+3 z=1 \\\\\n",
    "4 x+5 y+6 z=1 \\\\\n",
    "7 x+8 y \\quad=1\n",
    "\\end{array}\\right.\n",
    "$$\n",
    "1. rozwiązaując równanie $x = A^{-1}b$\n",
    "2. za pomoca operatora `\\`\n"
   ]
  },
  {
   "cell_type": "markdown",
   "metadata": {
    "slideshow": {
     "slide_type": "slide"
    }
   },
   "source": [
    "## Macierze i funkcje\n",
    "\n",
    "Wiele funkcji Matlaba $f(x)=y$ jest przystosowana do działania na macierzach o dowolnych kształtach\n"
   ]
  },
  {
   "cell_type": "code",
   "execution_count": 1,
   "metadata": {},
   "outputs": [
    {
     "name": "stdout",
     "output_type": "stream",
     "text": [
      "X =\n",
      "\n",
      "    1    5    9   13   17   21\n",
      "    2    6   10   14   18   22\n",
      "    3    7   11   15   19   23\n",
      "    4    8   12   16   20   24\n",
      "\n",
      "a =\n",
      "\n",
      "   0.8414710  -0.9589243   0.4121185   0.4201670  -0.9613975   0.8366556\n",
      "   0.9092974  -0.2794155  -0.5440211   0.9906074  -0.7509872  -0.0088513\n",
      "   0.1411200   0.6569866  -0.9999902   0.6502878   0.1498772  -0.8462204\n",
      "  -0.7568025   0.9893582  -0.5365729  -0.2879033   0.9129453  -0.9055784\n",
      "\n",
      "b =\n",
      "\n",
      "   0.4028624  -0.2321985  -0.3649544   0.3701593   0.2256318  -0.4066379\n",
      "  -0.3283700  -0.2648091   0.4342873   0.1143614  -0.4505742   0.0088508\n",
      "  -0.1392445   0.4604334  -0.0037241  -0.4599269   0.1476301   0.3989750\n",
      "   0.4487919  -0.1215905  -0.4313727   0.2719202   0.3229186  -0.3337365\n",
      "\n"
     ]
    }
   ],
   "source": [
    "X = reshape(1:24, 4, 6)\n",
    "\n",
    "a = sin(X)\n",
    "b = cos(X) .* sin(a)"
   ]
  },
  {
   "cell_type": "markdown",
   "metadata": {
    "slideshow": {
     "slide_type": "-"
    }
   },
   "source": [
    "**Ćwiczenie** popraw program `pole_kola.m` tak aby funkcja zwracała poprawny wynik dla argumentu macierzowego. Wynikiem funkcji będzie macierz zawierająca w każdym z elementów  $P_{ij}$ wartość pola dla promienia $R_{ij}$.\n",
    "Postaraj się nie korzystać z instrukcji pętli. "
   ]
  },
  {
   "cell_type": "markdown",
   "metadata": {},
   "source": [
    "**Ćwiczenie** zmierz czas wykonywania poniższych instrukcji.\n",
    "* porównaj szybkość działania przy zastosowaniu prealokowanego wektora `x`\n",
    "* przyśpiesz działanie stosując wektoryzację (pozbądź się instrukcji pętli)"
   ]
  },
  {
   "cell_type": "code",
   "execution_count": 2,
   "metadata": {},
   "outputs": [
    {
     "name": "stdout",
     "output_type": "stream",
     "text": [
      "n =  100000\n",
      "Elapsed time is 0.449781 seconds.\n",
      "ans =  21082008.97392\n"
     ]
    }
   ],
   "source": [
    "n=100000\n",
    "tic\n",
    "for i=1:n\n",
    "    x(i) = sqrt(i);\n",
    "end\n",
    "toc\n",
    "sum(x)"
   ]
  },
  {
   "cell_type": "markdown",
   "metadata": {
    "slideshow": {
     "slide_type": "slide"
    }
   },
   "source": [
    "## Wektory i macierze logiczne\n",
    "\n",
    "* macierze zawierające wartości logiczne (typ `logical`), wartość `0` to fałsz, wartość `1` (lub niezerowa) to prawda\n",
    "* indeksowanie macierzy za pomocą macierzy logicznych\n",
    "* funkcje `false()` i `true()` pozwalają tworzyć macierze logiczne\n",
    "* funkcja `logical()` zamienia macierz liczbową na logiczną"
   ]
  },
  {
   "cell_type": "code",
   "execution_count": 3,
   "metadata": {},
   "outputs": [
    {
     "name": "stdout",
     "output_type": "stream",
     "text": [
      "X =\n",
      "\n",
      "    1   -5    7\n",
      "   -1   42  -12\n",
      "\n",
      "ind =\n",
      "\n",
      "  0  1  0\n",
      "  1  0  1\n",
      "\n",
      "Variables in the current scope:\n",
      "\n",
      "   Attr Name        Size                     Bytes  Class\n",
      "   ==== ====        ====                     =====  ===== \n",
      "        ind         2x3                          6  logical\n",
      "\n",
      "Total is 6 elements using 6 bytes\n",
      "\n"
     ]
    }
   ],
   "source": [
    "X = [1 , -5, 7 ; -1, 42, -12]\n",
    "ind = X < 0\n",
    "whos ind"
   ]
  },
  {
   "cell_type": "code",
   "execution_count": 4,
   "metadata": {},
   "outputs": [
    {
     "name": "stdout",
     "output_type": "stream",
     "text": [
      "a =\n",
      "\n",
      "   -1\n",
      "   -5\n",
      "  -12\n",
      "\n",
      "b =\n",
      "\n",
      "    1\n",
      "   42\n",
      "    7\n",
      "\n",
      "X =\n",
      "\n",
      "   111    -5   111\n",
      "    -1   111   -12\n",
      "\n"
     ]
    }
   ],
   "source": [
    "# indeksowanie macierzą logiczną\n",
    "a = X(ind)    \n",
    "b = X( X > 0 )\n",
    "X( X > 0) = 111"
   ]
  },
  {
   "cell_type": "code",
   "execution_count": 5,
   "metadata": {
    "slideshow": {
     "slide_type": "slide"
    }
   },
   "outputs": [
    {
     "name": "stdout",
     "output_type": "stream",
     "text": [
      "A =\n",
      "\n",
      "  1  1\n",
      "  1  1\n",
      "\n",
      "B =\n",
      "\n",
      "  0  0  0\n",
      "  0  0  0\n",
      "\n",
      "Variables in the current scope:\n",
      "\n",
      "   Attr Name        Size                     Bytes  Class\n",
      "   ==== ====        ====                     =====  ===== \n",
      "        A           2x2                          4  logical\n",
      "        B           2x3                          6  logical\n",
      "\n",
      "Total is 10 elements using 10 bytes\n",
      "\n"
     ]
    }
   ],
   "source": [
    "A = true(2)\n",
    "B = false(2, 3)\n",
    "whos A B"
   ]
  },
  {
   "cell_type": "code",
   "execution_count": 6,
   "metadata": {},
   "outputs": [
    {
     "name": "stdout",
     "output_type": "stream",
     "text": [
      "C =\n",
      "\n",
      "   2   2\n",
      "   2   2\n",
      "\n",
      "Variables in the current scope:\n",
      "\n",
      "   Attr Name        Size                     Bytes  Class\n",
      "   ==== ====        ====                     =====  ===== \n",
      "        A           2x2                          4  logical\n",
      "        C           2x2                         32  double\n",
      "\n",
      "Total is 8 elements using 36 bytes\n",
      "\n"
     ]
    }
   ],
   "source": [
    "# wartości logiczne mogą być traktowane jak liczby całkowite\n",
    "C = A + 1\n",
    "whos A C"
   ]
  },
  {
   "cell_type": "markdown",
   "metadata": {
    "slideshow": {
     "slide_type": "slide"
    }
   },
   "source": [
    "**Ćwiczenie** dlaczego poniższe wyrażenie nie działa? Spróbuj to naprawić."
   ]
  },
  {
   "cell_type": "code",
   "execution_count": 7,
   "metadata": {},
   "outputs": [
    {
     "name": "stdout",
     "output_type": "stream",
     "text": [
      "error: w(0): subscripts must be either integers 1 to (2^63)-1 or logicals\r\n"
     ]
    }
   ],
   "source": [
    "w = 1:5;\n",
    "w([1 0 1 0 1]) = -1"
   ]
  },
  {
   "cell_type": "markdown",
   "metadata": {
    "slideshow": {
     "slide_type": "slide"
    }
   },
   "source": [
    "## Przydatne funkcje operujące na wartościach logicznych\n",
    "\n",
    "Funkcja | Opis |\n",
    ":-|:-|\n",
    "`any()` | zwraca 1 gdy wektor posiada niezerowy element |  \n",
    " | dla macierzy zwraca wektor z wartością 1 gdy w kolumnie jest niezerowa wartość   |\n",
    "`all()` | zwraca 1 dla każdej kolumny której wszystkie elementy są niezerowe |\n",
    "`find()` | zwraca indeksy (indeksowanie liniowe) niezerowych elementów |\n",
    "`isequal()` | sprawdza czy macierze mają jednakowe elementy |\n",
    "`isnan()`  | sprawdza czy w macierzy są elementy `NaN`  |\n"
   ]
  },
  {
   "cell_type": "code",
   "execution_count": 8,
   "metadata": {},
   "outputs": [
    {
     "name": "stdout",
     "output_type": "stream",
     "text": [
      "a = 0\n",
      "b = 1\n",
      "c = 0\n",
      "d = 0\n"
     ]
    }
   ],
   "source": [
    "w1 = [ 0 0 1 2 ];\n",
    "w2 = zeros(1,10);\n",
    "\n",
    "a = all(w1)\n",
    "b = any(w1)\n",
    "\n",
    "c = all(w2)\n",
    "d = any(w2)"
   ]
  },
  {
   "cell_type": "code",
   "execution_count": 9,
   "metadata": {
    "slideshow": {
     "slide_type": "slide"
    }
   },
   "outputs": [
    {
     "name": "stdout",
     "output_type": "stream",
     "text": [
      "E =\n",
      "\n",
      "   1   0   3   0\n",
      "   2   0   0   3\n",
      "\n",
      "ans =\n",
      "\n",
      "  1  0  0  0\n",
      "\n",
      "ans =\n",
      "\n",
      "  1  0  1  1\n",
      "\n"
     ]
    }
   ],
   "source": [
    "E = [ 1 2 ; 0 0 ; 3 * eye(2)]'\n",
    "all(E)\n",
    "any(E)"
   ]
  },
  {
   "cell_type": "code",
   "execution_count": 10,
   "metadata": {
    "scrolled": true,
    "slideshow": {
     "slide_type": "slide"
    }
   },
   "outputs": [
    {
     "name": "stdout",
     "output_type": "stream",
     "text": [
      "k =\n",
      "\n",
      "   1\n",
      "   2\n",
      "   5\n",
      "   8\n",
      "\n",
      "a =\n",
      "\n",
      "   1\n",
      "   2\n",
      "   3\n",
      "   3\n",
      "\n"
     ]
    }
   ],
   "source": [
    "# indeksy liniowe\n",
    "k = find(E)\n",
    "a = E(k)"
   ]
  },
  {
   "cell_type": "code",
   "execution_count": 11,
   "metadata": {},
   "outputs": [
    {
     "name": "stdout",
     "output_type": "stream",
     "text": [
      "w =\r\n",
      "\r\n",
      "   1\r\n",
      "   2\r\n",
      "   1\r\n",
      "   2\r\n",
      "\r\n",
      "k =\r\n",
      "\r\n",
      "   1\r\n",
      "   1\r\n",
      "   3\r\n",
      "   4\r\n",
      "\r\n"
     ]
    }
   ],
   "source": [
    "# indeksy wierszy i kolumn\n",
    "[w k] = find(E)"
   ]
  },
  {
   "cell_type": "code",
   "execution_count": 12,
   "metadata": {
    "scrolled": true
   },
   "outputs": [
    {
     "name": "stdout",
     "output_type": "stream",
     "text": [
      "k2 =\r\n",
      "\r\n",
      "   3\r\n",
      "   4\r\n",
      "   6\r\n",
      "   7\r\n",
      "\r\n"
     ]
    }
   ],
   "source": [
    "# szukanie zerowych elementów\n",
    "k2 = find(~E)"
   ]
  },
  {
   "cell_type": "code",
   "execution_count": 13,
   "metadata": {},
   "outputs": [
    {
     "name": "stdout",
     "output_type": "stream",
     "text": [
      "k3 =\r\n",
      "\r\n",
      "   5\r\n",
      "   8\r\n",
      "\r\n"
     ]
    }
   ],
   "source": [
    "# szukanie elementów spełniających warunki\n",
    "k3 = find(E > 2)"
   ]
  },
  {
   "cell_type": "code",
   "execution_count": 14,
   "metadata": {
    "slideshow": {
     "slide_type": "slide"
    }
   },
   "outputs": [
    {
     "name": "stdout",
     "output_type": "stream",
     "text": [
      "X =\n",
      "\n",
      "   1   0   3   0\n",
      "   2   0   0   3\n",
      "\n",
      "ans = 1\n",
      "ans = 1\n",
      "X =\n",
      "\n",
      "  -1   0   3   0\n",
      "   2   0   0   3\n",
      "\n",
      "ans = 0\n",
      "ans = 0\n"
     ]
    }
   ],
   "source": [
    "X = E\n",
    "isequal(E, X)\n",
    "\n",
    "% to samo za pomocą funkcji all()\n",
    "all(all(X == E))   \n",
    "\n",
    "X(1,1) = -X(1,1)\n",
    "isequal(E, X)\n",
    "all(all(X == E))   \n"
   ]
  },
  {
   "cell_type": "markdown",
   "metadata": {
    "slideshow": {
     "slide_type": "slide"
    }
   },
   "source": [
    "## Operatory logiczne\n",
    "\n",
    "Operator | Opis |\n",
    ":-|:-|\n",
    "`A < B` | mniejszy niż |\n",
    "`A > B` | większy niż |\n",
    "`A <= B` | mniejszy lub równy |\n",
    "`A >= B` | wiekszy lub równy  |\n",
    "`A == B` | równy sobie |\n",
    "`A ~= B` | rózny od siebie |\n",
    "`A & B` | aperator AND elementami |\n",
    "`A \\| B` | operator OR elementami |\n",
    "`~A `   | Operator NOT |\n",
    "\n"
   ]
  },
  {
   "cell_type": "code",
   "execution_count": 15,
   "metadata": {
    "slideshow": {
     "slide_type": "-"
    }
   },
   "outputs": [
    {
     "name": "stdout",
     "output_type": "stream",
     "text": [
      "X =\n",
      "\n",
      "   17   24    1    8   15\n",
      "   23    5    7   14   16\n",
      "    4    6   13   20   22\n",
      "   10   12   19   21    3\n",
      "   11   18   25    2    9\n",
      "\n",
      "ans =\n",
      "\n",
      "   6\n",
      "   7\n",
      "   8\n",
      "   9\n",
      "\n"
     ]
    }
   ],
   "source": [
    "X = magic(5)\n",
    "X(X > 5 & X < 10)\n"
   ]
  },
  {
   "cell_type": "markdown",
   "metadata": {},
   "source": [
    "**Ćwiczenie** utwórz macierz `X` o wymiarach 10x10 posiadającą losowe wartości z zakresu od -1 do 1. \n",
    "Następnie zastąp wszystkie elementy o wartości ujemnej w macierzy `X` liczbą `0`."
   ]
  },
  {
   "cell_type": "markdown",
   "metadata": {},
   "source": [
    "## Statystyki opisowe\n",
    "\n",
    "Funkcja | Pis |\n",
    ":-|:-|\n",
    "`min` | minimum (w kolumnach)|\n",
    "`max` | maksimum (w kolumnach) |\n",
    "`bounds` | Największy i najmniejszy element |\n",
    "`mean`\t| wartość średnia |\n",
    "`std`\t| odchylena standardowe |\n",
    "`median` | mediana |\n",
    "`mode` |\twartość modelana |\n",
    "`var` |\twarianscja |\n",
    "`kurtosis` | kurtoza |\n",
    "`skewnes` | skośność |\n"
   ]
  },
  {
   "cell_type": "code",
   "execution_count": 96,
   "metadata": {
    "slideshow": {
     "slide_type": "slide"
    }
   },
   "outputs": [
    {
     "name": "stdout",
     "output_type": "stream",
     "text": [
      "X =\n",
      "\n",
      "   1.79888   1.41353  -0.77184  -0.81686   1.31108\n",
      "  -0.91412  -0.22773  -3.07851   0.91659   0.73920\n",
      "  -1.65742  -0.22590  -0.54652  -2.04194   0.56951\n",
      "\n",
      "a =\n",
      "\n",
      "  -1.65742  -0.22773  -3.07851  -2.04194   0.56951\n",
      "\n",
      "a1 =\n",
      "\n",
      "  -0.81686\n",
      "  -3.07851\n",
      "  -2.04194\n",
      "\n",
      "a2 =\n",
      "\n",
      "   0.00000   0.00000  -0.77184  -0.81686   0.00000\n",
      "  -0.91412  -0.22773  -3.07851   0.00000   0.00000\n",
      "  -1.65742  -0.22590  -0.54652  -2.04194   0.00000\n",
      "\n",
      "b =\n",
      "\n",
      "  -0.25755   0.31997  -1.46562  -0.64740   0.87326\n",
      "\n",
      "b1 =\n",
      "\n",
      "   0.58696\n",
      "  -0.51291\n",
      "  -0.78045\n",
      "\n",
      "c =\n",
      "\n",
      "   1.81929   0.94705   1.40134   1.48653   0.38854\n",
      "\n",
      "d =\n",
      "\n",
      "  -0.91412  -0.22590  -0.77184  -0.81686   0.73920\n",
      "\n",
      "e =\n",
      "\n",
      "  -1.65742  -0.22773  -3.07851  -2.04194   0.56951\n",
      "\n"
     ]
    }
   ],
   "source": [
    "X = randn(3,5)\n",
    "\n",
    "a = min(X)\n",
    "\n",
    "% minimim w wierszach\n",
    "a1 = min(X, [], 2)\n",
    "\n",
    "% minimim parami elementów\n",
    "a2 = min(X, zeros(size(X)))\n",
    "\n",
    "b = mean(X)\n",
    "\n",
    "# ścrednia w wierszach\n",
    "b1 = mean(X, 2)\n",
    "\n",
    "c = std(X)\n",
    "d = median(X)\n",
    "e = mode(X)"
   ]
  },
  {
   "cell_type": "markdown",
   "metadata": {},
   "source": [
    "**Ćwiczenie** wczytaj dane `carsmall` i wykonaj następujące operacje:\n",
    "* sprawdź, czy zmienne dane zawierają wartości brakujące (oznaczone jako `NaN`) \n",
    "* usuń wartości brakujące ze zminnnej `MPG` i wyznacz wartość średnią\n",
    "* wysnacz wartość średnią `MPG` dla samochodów z roku 82 (`Model_year`)\n",
    "\n",
    "Dane dla OCtave: https://www.fizyka.umk.pl/~grochu/pp2/carsmall.mat"
   ]
  },
  {
   "cell_type": "markdown",
   "metadata": {},
   "source": [
    "## Wykresy \n",
    "\n",
    "* `plot(x,y)`  liniowy (wykres rozrzutu)\n",
    "* `hist(x)`  histogram\n",
    "* `boxplot(x)` skrzynkowy\n",
    "* `bar(x)` słupkowy\n",
    "* `pie(x)` kołowy"
   ]
  },
  {
   "cell_type": "code",
   "execution_count": 9,
   "metadata": {
    "collapsed": true
   },
   "outputs": [
    {
     "name": "stdout",
     "output_type": "stream",
     "text": [
      "Variables in the current scope:\r\n",
      "\r\n",
      "   Attr Name              Size                     Bytes  Class\r\n",
      "   ==== ====              ====                     =====  ===== \r\n",
      "        Acceleration    100x1                        800  double\r\n",
      "        Cylinders       100x1                        800  double\r\n",
      "        Displacement    100x1                        800  double\r\n",
      "        Horsepower      100x1                        800  double\r\n",
      "        MPG             100x1                        800  double\r\n",
      "        Mfg             100x13                      1300  char\r\n",
      "        Model           100x33                      3300  char\r\n",
      "        Model_Year      100x1                        800  double\r\n",
      "        Origin          100x7                        700  char\r\n",
      "        Weight          100x1                        800  double\r\n",
      "        ans               7x3                        168  double\r\n",
      "\r\n",
      "Total is 6021 elements using 11068 bytes\r\n",
      "\r\n"
     ]
    }
   ],
   "source": [
    "load carsmall\n",
    "whos\n",
    "% plik z danymi (dla OCtave) https://www.fizyka.umk.pl/~grochu/pp2/carsmall.m"
   ]
  },
  {
   "cell_type": "code",
   "execution_count": 10,
   "metadata": {
    "collapsed": true
   },
   "outputs": [
    {
     "data": {
      "image/png": "[encoded data removed]",
      "text/plain": [
       "<IPython.core.display.Image object>"
      ]
     },
     "metadata": {},
     "output_type": "display_data"
    }
   ],
   "source": [
    "hist(MPG)"
   ]
  },
  {
   "cell_type": "code",
   "execution_count": 13,
   "metadata": {},
   "outputs": [
    {
     "data": {
      "image/png": "[encoded data removed]",
      "text/plain": [
       "<IPython.core.display.Image object>"
      ]
     },
     "metadata": {},
     "output_type": "display_data"
    }
   ],
   "source": [
    "boxplot(MPG);\n",
    "% w octave moze byc wymagane dointalowanie pakietu statystycznego\n",
    "% pkg load statistics"
   ]
  },
  {
   "cell_type": "code",
   "execution_count": 12,
   "metadata": {},
   "outputs": [
    {
     "data": {
      "image/png": "[encoded data removed]",
      "text/plain": [
       "<IPython.core.display.Image object>"
      ]
     },
     "metadata": {},
     "output_type": "display_data"
    }
   ],
   "source": [
    "boxplot(Acceleration, Model_Year);"
   ]
  },
  {
   "cell_type": "code",
   "execution_count": 15,
   "metadata": {
    "slideshow": {
     "slide_type": "slide"
    }
   },
   "outputs": [
    {
     "data": {
      "image/png": "[encoded data removed]",
      "text/plain": [
       "<IPython.core.display.Image object>"
      ]
     },
     "metadata": {},
     "output_type": "display_data"
    }
   ],
   "source": [
    "plot(Acceleration, Horsepower, 'o')"
   ]
  },
  {
   "cell_type": "code",
   "execution_count": 28,
   "metadata": {},
   "outputs": [
    {
     "name": "stdout",
     "output_type": "stream",
     "text": [
      "ans =\r\n",
      "\r\n",
      "   4\r\n",
      "   6\r\n",
      "   8\r\n",
      "\r\n"
     ]
    },
    {
     "data": {
      "image/png": "[encoded data removed]",
      "text/plain": [
       "<IPython.core.display.Image object>"
      ]
     },
     "metadata": {},
     "output_type": "display_data"
    }
   ],
   "source": [
    "unique(Cylinders)\n",
    "\n",
    "plot(Acceleration(Cylinders == 4), Horsepower(Cylinders==4), 'o')\n",
    "hold on \n",
    "plot(Acceleration(Cylinders == 6), Horsepower(Cylinders==6), 'x')\n",
    "plot(Acceleration(Cylinders == 8), Horsepower(Cylinders==8), 's')"
   ]
  },
  {
   "cell_type": "code",
   "execution_count": 29,
   "metadata": {},
   "outputs": [
    {
     "data": {
      "image/png": "[encoded data removed]",
      "text/plain": [
       "<IPython.core.display.Image object>"
      ]
     },
     "metadata": {},
     "output_type": "display_data"
    }
   ],
   "source": [
    "bar([sum(Cylinders == 4) sum(Cylinders == 6) sum(Cylinders == 8)])"
   ]
  },
  {
   "cell_type": "code",
   "execution_count": 30,
   "metadata": {},
   "outputs": [
    {
     "data": {
      "image/png": "[encoded data removed]",
      "text/plain": [
       "<IPython.core.display.Image object>"
      ]
     },
     "metadata": {},
     "output_type": "display_data"
    }
   ],
   "source": [
    "pie([sum(Cylinders == 4) sum(Cylinders == 6) sum(Cylinders == 8)])"
   ]
  },
  {
   "cell_type": "markdown",
   "metadata": {},
   "source": [
    "**Ćwiczenie** wygeneruj wektor zawierający 1000 wartości z roskładu normalengo o średniej 5 i odchyleniu standardowym 10.\n",
    "* narysuj histogram\n",
    "* wysnacz wartość średnią $\\mu$, odchylenie standardowe $\\sigma$\n",
    "* dodaj do wykresu z hostpgramem wykres prezentujący funkcję roskładu normalnego $N(\\mu, \\sigma) = A \\cdot \\exp \\left(\\frac{-(x-\\mu)^{2}}{2 \\sigma^{2}}\\right)$"
   ]
  },
  {
   "cell_type": "markdown",
   "metadata": {
    "slideshow": {
     "slide_type": "slide"
    }
   },
   "source": [
    "## Zadanie 6 Regresja liniowa\n",
    "\n",
    "Napisz funkcję o nazwie `regresja`, która dla danych werktowów $x$ i $y$ zwróci współczynniki $a$ i $b$ okreslające linię prostą $y = a x + b$ dopasowaną do danych $x$ i $y$ za pomocą metody najmniejszych kwadratów. \n",
    "\n",
    "Dla danych $x_i$ i $y_i$ wspólczyniki $a$ i $b$ wyznacz ze wzoru:\n",
    "\n",
    "$$\n",
    "a=\\frac{\\sum_{i=1}^{n}\\left(x_{i}-\\bar{x}\\right)\\left(y_{i}-\\bar{y}\\right)}{\\sum_{i=1}^{n}\\left(x_{i}-\\bar{x}\\right)^{2}}\n",
    "$$\n",
    "\n",
    "$$\n",
    "b=\\bar{y}-a \\bar{x}\n",
    "$$\n",
    "gdzie $\\bar{x}$ i $\\bar{y}$ to wartości średnie zmiennych.\n",
    "\n",
    "Argumentami funkcji są dwa werktory $x$ i $y$. Jeżeli rozmiary wektorów nie zgadzają się, funkcja zwraca stosowany komunikat błedu oraz przerywa swoje działanie. Jeżeli użytkownik poda za mało lub za dużo argumentów, wówczas funkcja również zwraca odpowiedni komunikat z błędem i konczy swoje działanie. Do wypisania komunikatów z będęm wykorzystaj funkcję `error()`.\n",
    "\n",
    "Przykład działania funkcji:\n"
   ]
  },
  {
   "cell_type": "code",
   "execution_count": 16,
   "metadata": {},
   "outputs": [
    {
     "name": "stdout",
     "output_type": "stream",
     "text": [
      "a =  2.0188\r\n",
      "b = -9.8962\r\n"
     ]
    },
    {
     "data": {
      "image/png": "[encoded data removed]",
      "text/plain": [
       "<IPython.core.display.Image object>"
      ]
     },
     "metadata": {},
     "output_type": "display_data"
    }
   ],
   "source": [
    "x = 0:.1:10;\n",
    "y = 2 * x - 10;\n",
    "\n",
    "% dodajemy troche szumu\n",
    "y = y + 3*randn(size(x));\n",
    "\n",
    "[a b] = regresja(x, y)\n",
    "\n",
    "plot(x, y, 'o');\n",
    "hold on\n",
    "plot(x, a*x+b,'-');\n",
    " "
   ]
  }
 ],
 "metadata": {
  "celltoolbar": "Slideshow",
  "kernelspec": {
   "display_name": "Octave",
   "language": "octave",
   "name": "octave"
  },
  "language_info": {
   "file_extension": ".m",
   "help_links": [
    {
     "text": "GNU Octave",
     "url": "https://www.gnu.org/software/octave/support.html"
    },
    {
     "text": "Octave Kernel",
     "url": "https://github.com/Calysto/octave_kernel"
    },
    {
     "text": "MetaKernel Magics",
     "url": "https://metakernel.readthedocs.io/en/latest/source/README.html"
    }
   ],
   "mimetype": "text/x-octave",
   "name": "octave",
   "version": "5.2.0"
  },
  "toc": {
   "base_numbering": 1,
   "nav_menu": {},
   "number_sections": true,
   "sideBar": true,
   "skip_h1_title": false,
   "title_cell": "Table of Contents",
   "title_sidebar": "Contents",
   "toc_cell": false,
   "toc_position": {},
   "toc_section_display": true,
   "toc_window_display": false
  },
  "varInspector": {
   "cols": {
    "lenName": 16,
    "lenType": 16,
    "lenVar": 40
   },
   "kernels_config": {
    "python": {
     "delete_cmd_postfix": "",
     "delete_cmd_prefix": "del ",
     "library": "var_list.py",
     "varRefreshCmd": "print(var_dic_list())"
    },
    "r": {
     "delete_cmd_postfix": ") ",
     "delete_cmd_prefix": "rm(",
     "library": "var_list.r",
     "varRefreshCmd": "cat(var_dic_list()) "
    }
   },
   "types_to_exclude": [
    "module",
    "function",
    "builtin_function_or_method",
    "instance",
    "_Feature"
   ],
   "window_display": false
  }
 },
 "nbformat": 4,
 "nbformat_minor": 4
}
