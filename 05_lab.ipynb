{
 "cells": [
  {
   "cell_type": "markdown",
   "metadata": {
    "slideshow": {
     "slide_type": "slide"
    }
   },
   "source": [
    "# Macierze - uzupełnienie\n",
    "\n",
    "* tworzenie macierzy i indeksowanie elementów macierzy\n",
    "* operacje macierzowe i funkcje działające na macierzach\n",
    "* macierze logiczne i operacje na macierzach logicznych\n",
    "* optymalizacja kodu\n",
    " * wektoryzacja - zamiana pętli po elementach na mechanizmy indeksowania\n",
    " * prealokacja - dynamiczne modyfikowanie rozmiarów macierzy jest kosztowne\n",
    "\n"
   ]
  },
  {
   "cell_type": "markdown",
   "metadata": {
    "slideshow": {
     "slide_type": "slide"
    }
   },
   "source": [
    "## Operacje na macierzach\n",
    "\n",
    "TODO zebrac operatory\n",
    "\n",
    "* operacje skalarne na elementach macierzy:  `+`, `-`, `*`, `/`, `.^`, `.\\`"
   ]
  },
  {
   "cell_type": "markdown",
   "metadata": {
    "slideshow": {
     "slide_type": "slide"
    }
   },
   "source": [
    "* operacje macierzowe: `*`, `/`, `\\`\n",
    " * `A * B` iloczyn macierzy (iloczyn skalarny dla wektorów) \n",
    " * `A / B` dzielenie macierzy, wynikiem jest `X` takie, że `X * B = A`\n",
    " * `A \\ B`  dzielenie macierzy, wynikiem jest `X` takie, że `A * X = B`\n",
    " * potęgowanie `A^n` tylko dla macierzy `A` kwadratowych"
   ]
  },
  {
   "cell_type": "markdown",
   "metadata": {
    "slideshow": {
     "slide_type": "slide"
    }
   },
   "source": [
    "* opearcje macierzowe element po elemencie: `+`, `-`, `.*`, `./`, `.^`, `.\\`\n",
    "* wymiary macierzy muszą się zgadzać"
   ]
  },
  {
   "cell_type": "markdown",
   "metadata": {
    "slideshow": {
     "slide_type": "slide"
    }
   },
   "source": [
    "* operacje macierzy i wektora element po elemencie powielane wzdłuż pasującego wymiaru"
   ]
  },
  {
   "cell_type": "markdown",
   "metadata": {},
   "source": [
    "## Funkcje macierzowe\n",
    "\n",
    "* zeros()\n",
    "* inv()\n",
    "itd"
   ]
  },
  {
   "cell_type": "markdown",
   "metadata": {
    "slideshow": {
     "slide_type": "slide"
    }
   },
   "source": [
    "## Macierze i funkcje\n",
    "\n",
    "Wiele funkcji Matlaba jest przystosowana do działania na macierzach o dowolnych kształtach\n"
   ]
  },
  {
   "cell_type": "code",
   "execution_count": null,
   "metadata": {},
   "outputs": [],
   "source": [
    "w = 1:6\n",
    "X = reshape(w, 2, 3)\n",
    "\n",
    "a = sin(w)\n",
    "b = cos(X)"
   ]
  },
  {
   "cell_type": "markdown",
   "metadata": {
    "slideshow": {
     "slide_type": "-"
    }
   },
   "source": [
    "**Ćwiczenie** popraw program `pole_kola.m` tak aby funkcja zwracała poprawny wynik dla argumentu macierzowego. Wynikiem funkcji będzie macierz zawierająca w każdym z elementów  $P_{ij}$ wartość pola dla promienia $R_{ij}$.\n",
    "Postaraj się nie korzystać z instrukcji pętli. "
   ]
  },
  {
   "cell_type": "markdown",
   "metadata": {},
   "source": [
    "**Ćwiczenie** zmierz czas wykonywania poniższych instrukcji.\n",
    "* porównaj szybkość działania przy zastosowaniu prealokowanego wektora `x`\n",
    "* przyśpiesz działanie stosując wektoryzację (pozbądź się instrukcji pętli)"
   ]
  },
  {
   "cell_type": "code",
   "execution_count": null,
   "metadata": {},
   "outputs": [],
   "source": [
    "n=100000\n",
    "tic\n",
    "for i=1:n\n",
    "    x(i) = sqrt(i);\n",
    "end\n",
    "toc\n",
    "sum(x)"
   ]
  },
  {
   "cell_type": "markdown",
   "metadata": {
    "slideshow": {
     "slide_type": "slide"
    }
   },
   "source": [
    "## Wektory i macierze logiczne\n",
    "\n",
    "* macierze zawierające wartości logiczne (typ `logical`), wartość `0` to fałsz, wartość `1` (lub niezerowa) to prawda\n",
    "* indeksowanie macierzy za pomocą macierzy logicznych\n",
    "* funkcje `false()` i `true()` pozwalają tworzyć macierze logiczne\n",
    "* funkcja `logical()` zamienia macierz liczbową na logiczną"
   ]
  },
  {
   "cell_type": "code",
   "execution_count": 85,
   "metadata": {
    "collapsed": true
   },
   "outputs": [
    {
     "name": "stdout",
     "output_type": "stream",
     "text": [
      "X =\n",
      "\n",
      "    1   -5    7\n",
      "   -1   42  -12\n",
      "\n",
      "ind =\n",
      "\n",
      "  0  1  0\n",
      "  1  0  1\n",
      "\n",
      "Variables in the current scope:\n",
      "\n",
      "   Attr Name        Size                     Bytes  Class\n",
      "   ==== ====        ====                     =====  ===== \n",
      "        ind         2x3                          6  logical\n",
      "\n",
      "Total is 6 elements using 6 bytes\n",
      "\n"
     ]
    }
   ],
   "source": [
    "X = [1 , -5, 7 ; -1, 42, -12]\n",
    "ind = X < 0\n",
    "whos ind"
   ]
  },
  {
   "cell_type": "code",
   "execution_count": 84,
   "metadata": {},
   "outputs": [
    {
     "name": "stdout",
     "output_type": "stream",
     "text": [
      "a =\n",
      "\n",
      "   -1\n",
      "   -5\n",
      "  -12\n",
      "\n",
      "b =\n",
      "\n",
      "    1\n",
      "   42\n",
      "    7\n",
      "\n",
      "X =\n",
      "\n",
      "   111    -5   111\n",
      "    -1   111   -12\n",
      "\n"
     ]
    }
   ],
   "source": [
    "# indeksowanie macierzą logiczną\n",
    "a = X(ind)    \n",
    "b = X( X > 0 )\n",
    "X( X > 0) = 111"
   ]
  },
  {
   "cell_type": "code",
   "execution_count": null,
   "metadata": {
    "slideshow": {
     "slide_type": "slide"
    }
   },
   "outputs": [],
   "source": [
    "A = true(2)\n",
    "B = false(2, 3)\n",
    "whos A B"
   ]
  },
  {
   "cell_type": "code",
   "execution_count": null,
   "metadata": {},
   "outputs": [],
   "source": [
    "# wartości logiczne mogą być traktowane jak liczby całkowite\n",
    "C = A + 1\n",
    "whos A C"
   ]
  },
  {
   "cell_type": "markdown",
   "metadata": {
    "slideshow": {
     "slide_type": "slide"
    }
   },
   "source": [
    "**Ćwiczenie** dlaczego poniższe wyrażenie nie działa? Spróbuj to naprawić."
   ]
  },
  {
   "cell_type": "code",
   "execution_count": null,
   "metadata": {},
   "outputs": [],
   "source": [
    "w = 1:5;\n",
    "w([1 0 1 0 1]) = -1"
   ]
  },
  {
   "cell_type": "markdown",
   "metadata": {
    "slideshow": {
     "slide_type": "slide"
    }
   },
   "source": [
    "## Przydatne funkcje operujące na wartościach logicznych\n",
    "\n",
    "* `any()` zwraca 1 gdy wektor posiada niezerowy element,  \n",
    "dla macierzy zwraca wektor z wartością 1 gdy w kolumnie jest niezerowa wartość   \n",
    "* `all()` zwraca 1 dla każdej kolumny której wszystkie elementy są niezerowe\n",
    "* `find()` zwraca indeksy (indeksowanie liniowe) niezerowych elementów\n",
    "* `isequal()` sprawdza czy macierze mają jednakowe elementy\n"
   ]
  },
  {
   "cell_type": "code",
   "execution_count": null,
   "metadata": {},
   "outputs": [],
   "source": [
    "w1 = [ 0 0 1 2 ];\n",
    "w2 = zeros(1,10);\n",
    "\n",
    "a = all(w1)\n",
    "b = any(w1)\n",
    "\n",
    "c = all(w2)\n",
    "d = any(w2)"
   ]
  },
  {
   "cell_type": "code",
   "execution_count": null,
   "metadata": {
    "slideshow": {
     "slide_type": "slide"
    }
   },
   "outputs": [],
   "source": [
    "E = [ 1 2 ; 0 0 ; 3 * eye(2)]'\n",
    "all(E)\n",
    "any(E)"
   ]
  },
  {
   "cell_type": "code",
   "execution_count": null,
   "metadata": {
    "scrolled": true,
    "slideshow": {
     "slide_type": "slide"
    }
   },
   "outputs": [],
   "source": [
    "# indeksy liniowe\n",
    "k = find(E)\n",
    "a = E(k)"
   ]
  },
  {
   "cell_type": "code",
   "execution_count": null,
   "metadata": {},
   "outputs": [],
   "source": [
    "# indeksy wierszy i kolumn\n",
    "[w k] = find(E)"
   ]
  },
  {
   "cell_type": "code",
   "execution_count": null,
   "metadata": {
    "scrolled": true
   },
   "outputs": [],
   "source": [
    "# szukanie zerowych elementów\n",
    "k2 = find(~E)"
   ]
  },
  {
   "cell_type": "code",
   "execution_count": null,
   "metadata": {},
   "outputs": [],
   "source": [
    "# szukanie elementów spełniających warunki\n",
    "k3 = find(E > 2)"
   ]
  },
  {
   "cell_type": "code",
   "execution_count": null,
   "metadata": {
    "slideshow": {
     "slide_type": "slide"
    }
   },
   "outputs": [],
   "source": [
    "X = E\n",
    "isequal(E, X)\n",
    "\n",
    "% to samo za pomocą funkcji all()\n",
    "all(all(X == E))   \n",
    "\n",
    "X(1,1) = -X(1,1)\n",
    "isequal(E, X)\n",
    "all(all(X == E))   \n"
   ]
  },
  {
   "cell_type": "markdown",
   "metadata": {
    "slideshow": {
     "slide_type": "slide"
    }
   },
   "source": [
    "## Operatory logiczne\n",
    "\n",
    "* operatory logiczne działające element po elemencie: `&` and, `|` or, `~` not"
   ]
  },
  {
   "cell_type": "code",
   "execution_count": null,
   "metadata": {
    "slideshow": {
     "slide_type": "-"
    }
   },
   "outputs": [],
   "source": [
    "X = magic(5)\n",
    "X(X > 5 & X < 10)\n"
   ]
  },
  {
   "cell_type": "markdown",
   "metadata": {},
   "source": [
    "**Ćwiczenie** utwórz macierz `X` o wymiarach 10x10 posiadającą losowe wartości z zakresu od -1 do 1. \n",
    "Następnie zastąp wszystkie elementy o wartości ujemnej w macierzy `X` liczbą `0`."
   ]
  },
  {
   "cell_type": "markdown",
   "metadata": {
    "slideshow": {
     "slide_type": "slide"
    }
   },
   "source": [
    "## Zadanie 6 Regresja liniowa\n",
    "\n",
    "Napisz funkcję o nazwie `regresja`, która dla danych werktowów $x$ i $y$ zwróci współczynniki $a$ i $b$ okreslające linię prostą $y = a x + b$ dopasowaną do danych $x$ i $y$ za pomocą metody najmniejszych kwadratów. \n",
    "\n",
    "Dla danych $x_i$ i $y_i$ wspólczyniki $a$ i $b$ wyznacz ze wzoru:\n",
    "\n",
    "$$\n",
    "a=\\frac{\\sum_{i=1}^{n}\\left(x_{i}-\\bar{x}\\right)\\left(y_{i}-\\bar{y}\\right)}{\\sum_{i=1}^{n}\\left(x_{i}-\\bar{x}\\right)^{2}}\n",
    "$$\n",
    "\n",
    "$$\n",
    "b=\\bar{y}-a \\bar{x}\n",
    "$$\n",
    "gdzie $\\bar{x}$ i $\\bar{y}$ to wartości średnie zmiennych.\n",
    "\n",
    "Argumentami funkcji są dwa werktory $x$ i $y$. Jeżeli rozmiary wektorów nie zgadzają się, funkcja zwraca stosowany komunikat błedu oraz przerywa swoje działanie. Jeżeli użytkownik poda za mało lub za dużo argumentów, wówczas funkcja również zwraca odpowiedni komunikat z błędem i konczy swoje działanie. Do wypisania komunikatów z będęm wykorzystaj funkcję `error()`.\n",
    "\n",
    "Przykład działania funkcji:\n"
   ]
  },
  {
   "cell_type": "code",
   "execution_count": 2,
   "metadata": {},
   "outputs": [
    {
     "name": "stdout",
     "output_type": "stream",
     "text": [
      "a =  1.8724\r\n",
      "b = -9.3481\r\n"
     ]
    },
    {
     "data": {
      "image/png": "[encoded data removed]",
      "text/plain": [
       "<IPython.core.display.Image object>"
      ]
     },
     "metadata": {},
     "output_type": "display_data"
    }
   ],
   "source": [
    "x = 0:.1:10;\n",
    "y = 2 * x - 10;\n",
    "\n",
    "% dodajemy troche szumu\n",
    "y = y + 3*randn(size(x));\n",
    "\n",
    "[a b] = regresja(x, y)\n",
    "\n",
    "plot(x, y, 'o');\n",
    "hold on\n",
    "plot(x, a*x+b);\n",
    " "
   ]
  }
 ],
 "metadata": {
  "celltoolbar": "Slideshow",
  "kernelspec": {
   "display_name": "Octave",
   "language": "octave",
   "name": "octave"
  },
  "language_info": {
   "file_extension": ".m",
   "help_links": [
    {
     "text": "GNU Octave",
     "url": "https://www.gnu.org/software/octave/support.html"
    },
    {
     "text": "Octave Kernel",
     "url": "https://github.com/Calysto/octave_kernel"
    },
    {
     "text": "MetaKernel Magics",
     "url": "https://metakernel.readthedocs.io/en/latest/source/README.html"
    }
   ],
   "mimetype": "text/x-octave",
   "name": "octave",
   "version": "5.2.0"
  },
  "toc": {
   "base_numbering": 1,
   "nav_menu": {},
   "number_sections": true,
   "sideBar": true,
   "skip_h1_title": false,
   "title_cell": "Table of Contents",
   "title_sidebar": "Contents",
   "toc_cell": false,
   "toc_position": {},
   "toc_section_display": true,
   "toc_window_display": false
  },
  "varInspector": {
   "cols": {
    "lenName": 16,
    "lenType": 16,
    "lenVar": 40
   },
   "kernels_config": {
    "python": {
     "delete_cmd_postfix": "",
     "delete_cmd_prefix": "del ",
     "library": "var_list.py",
     "varRefreshCmd": "print(var_dic_list())"
    },
    "r": {
     "delete_cmd_postfix": ") ",
     "delete_cmd_prefix": "rm(",
     "library": "var_list.r",
     "varRefreshCmd": "cat(var_dic_list()) "
    }
   },
   "types_to_exclude": [
    "module",
    "function",
    "builtin_function_or_method",
    "instance",
    "_Feature"
   ],
   "window_display": false
  }
 },
 "nbformat": 4,
 "nbformat_minor": 4
}
