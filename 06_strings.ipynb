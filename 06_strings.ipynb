{
 "cells": [
  {
   "cell_type": "markdown",
   "metadata": {
    "slideshow": {
     "slide_type": "slide"
    }
   },
   "source": [
    "# Napisy (łańcuchy znakowe)\n",
    "\n",
    "* napisy to ciąg znaków umieszczony między `'apostrofami'` \n",
    "* napis w Matlab to wektor znaków\n",
    "* macierz znakowa - macierz zawierająca napisy w wierszach, wiersze macierzy posiadają tyle samo elementów, więc krótsze napisy są wypełnione blankami/spacjami\n",
    "* od Matlab R2016 istnieje także obiekt (typ) `string`, który reprezentuje napisy umieszczone w `\"cudzysłowach\"` (ale my zajmiemy się tylko tablicami znaków)\n"
   ]
  },
  {
   "cell_type": "code",
   "execution_count": null,
   "metadata": {
    "slideshow": {
     "slide_type": "-"
    }
   },
   "outputs": [],
   "source": [
    "napis = 'Ala ma kota'\n",
    "a = length(napis)\n",
    "whos napis "
   ]
  },
  {
   "cell_type": "code",
   "execution_count": null,
   "metadata": {
    "slideshow": {
     "slide_type": "-"
    }
   },
   "outputs": [],
   "source": [
    "c = length('')     % pusty napis\n",
    "b = length(' ')    % znak spacji"
   ]
  },
  {
   "cell_type": "markdown",
   "metadata": {
    "slideshow": {
     "slide_type": "slide"
    }
   },
   "source": [
    "## Napis jest wektorem\n",
    "* indeksowanie macierzowe\n",
    "* operacje na macierzach (np. transpozycja)"
   ]
  },
  {
   "cell_type": "code",
   "execution_count": null,
   "metadata": {},
   "outputs": [],
   "source": [
    "napis = 'Ala ma kota';\n",
    "a = napis(1)\n",
    "b = napis(end)\n",
    "c = napis(2:2:end)\n",
    "d = napis(1:5)'"
   ]
  },
  {
   "cell_type": "markdown",
   "metadata": {},
   "source": [
    "**Ćwiczenie** napisz funkcję `anagram(s)`, która dla podanego napisu (wyrazu) zwróci jego anagram (przestawi znaki w losowej kolejności).  \n",
    "Wskazówka: funkcja `randperm()` zwraca losową permutację liczb całkowitych"
   ]
  },
  {
   "cell_type": "markdown",
   "metadata": {
    "slideshow": {
     "slide_type": "slide"
    }
   },
   "source": [
    "## Macierze znaków\n",
    "\n",
    "* macierz zawierająca napis (tablicę znaków) w każdym wierszu\n",
    "* długość wierszy musi być taka sama"
   ]
  },
  {
   "cell_type": "code",
   "execution_count": null,
   "metadata": {},
   "outputs": [],
   "source": [
    "X = [ 'Ala' ; 'Ewa'; 'Jan'] \n",
    "\n",
    "% piwrsza kolumna znaków\n",
    "a = X(:, 1) \n",
    "\n",
    "% transpozycja macierzy\n",
    "b = X'"
   ]
  },
  {
   "cell_type": "markdown",
   "metadata": {},
   "source": [
    "Funkcja `char(s1, s2, ...)` tworzy macierz z napisów `s1`, `s2`, itd. "
   ]
  },
  {
   "cell_type": "code",
   "execution_count": null,
   "metadata": {},
   "outputs": [],
   "source": [
    "X = [ 'Ala' ; 'Zuzanna']  \n",
    "\n",
    "whos\n",
    "% uwaga: w Matlab ta operacja powoduje błąd, nie zgadzają się długości napisów. W Octave pierwszy wiersz jest uzupełniony spacjami\n",
    "% Do tworzenia macierzy znakowej można wykorzystać char(), który uzupełni krótsze linie spacjami\n",
    "\n",
    "X = char('Ala', 'Zuzanna', 'Hermenegilda')"
   ]
  },
  {
   "cell_type": "markdown",
   "metadata": {
    "slideshow": {
     "slide_type": "slide"
    }
   },
   "source": [
    "## Łączenie napisów\n",
    "\n",
    "* łączenie napisów (concatenation)  `[napis1 napis2]` \n",
    "* funkcja `strcat(napis1, napis2)` "
   ]
  },
  {
   "cell_type": "code",
   "execution_count": null,
   "metadata": {},
   "outputs": [],
   "source": [
    "a = 'Ala';\n",
    "b = ' ma kota';\n",
    "x = [a b]\n",
    "y = [x ' a Ewa ma psa']"
   ]
  },
  {
   "cell_type": "code",
   "execution_count": null,
   "metadata": {},
   "outputs": [],
   "source": [
    "z = strcat(a, b, ' a Janek nie')\n",
    "whos a b c"
   ]
  },
  {
   "cell_type": "markdown",
   "metadata": {
    "slideshow": {
     "slide_type": "slide"
    }
   },
   "source": [
    "## Łączenie napisów wertykalnie\n",
    "\n",
    "* łaczenie napisów wertykalne (dodawanie wierszy) `[napis1 ; napis2]`   \n",
    "* funkcja `strvcat(napis1, napis2)`"
   ]
  },
  {
   "cell_type": "code",
   "execution_count": null,
   "metadata": {},
   "outputs": [],
   "source": [
    "a = 'Raz';\n",
    "b = 'Dwa';\n",
    "c = 'Trzy'; \n",
    "\n",
    "% w Matlab problem bo wiersze o różnej długości\n",
    "x = [a ; b; c]     "
   ]
  },
  {
   "cell_type": "code",
   "execution_count": null,
   "metadata": {},
   "outputs": [],
   "source": [
    "% w Matlab działa, krótsze wiersze zostają uzupełnione spacjami \n",
    "y = strvcat(a, b, c)\n",
    "\n",
    "whos a b c x y"
   ]
  },
  {
   "cell_type": "markdown",
   "metadata": {
    "slideshow": {
     "slide_type": "slide"
    }
   },
   "source": [
    "## Typ znakowy\n",
    "\n",
    "* znaki są kodowane za pomocą liczb całkowitych (kod ASCII)\n",
    "* `char(liczba)` zwraca symbol kodowany daną liczbą\n",
    "* `double(znak)` zwraca liczbę kodującą znak"
   ]
  },
  {
   "cell_type": "code",
   "execution_count": null,
   "metadata": {},
   "outputs": [],
   "source": [
    "a = char(65)\n",
    "b = double('A')"
   ]
  },
  {
   "cell_type": "code",
   "execution_count": null,
   "metadata": {},
   "outputs": [],
   "source": [
    "napis = 'Ala ma kota'\n",
    "b = double(napis)\n",
    "b = napis + 1\n",
    "c = char(napis + 3)"
   ]
  },
  {
   "cell_type": "markdown",
   "metadata": {},
   "source": [
    "**Ćwiczenie:** wypisz wartości numeryczne i odpowiadające symbole kodu ASCII dla znaków kodowanych od 1 do 127 "
   ]
  },
  {
   "cell_type": "markdown",
   "metadata": {
    "slideshow": {
     "slide_type": "slide"
    }
   },
   "source": [
    "## Znak nowej linii\n",
    "\n",
    "* `char(10)`\n",
    "* `newline`  (brak w Octave)\n",
    "* `sprintf('\\n')`\n",
    "* uwaga: w Windows na końcu linii są 2 bajty `\\r\\n` \n"
   ]
  },
  {
   "cell_type": "code",
   "execution_count": null,
   "metadata": {},
   "outputs": [],
   "source": [
    "x = ['Ala ' newline 'ma' char(10) 'kota']"
   ]
  },
  {
   "cell_type": "markdown",
   "metadata": {},
   "source": [
    "**Ćwiczenie:** wyświetl wartość liczbową kodu ASCII odpowiadającą znakowi powrotu karetki `\\r`"
   ]
  },
  {
   "cell_type": "markdown",
   "metadata": {
    "slideshow": {
     "slide_type": "slide"
    }
   },
   "source": [
    "## Przydatne funkcje operujące na napisach\n",
    "\n",
    "Funkcja | Opis |\n",
    ":-|:-|\n",
    "`strcat()` `strvcat()`| łączenie napisów |  \n",
    "`blanks(N)` | tworzy napis (wektor) białych znaków (spacji)  |\n",
    "`sprintf()` | tworzenie napisów z formatowanymi wartościami |\n",
    "`strcmp(A, B)` | porównywanie napisów |\n",
    "`strtrim(x)`     | usuwa białe znaki z poczatku i z końca napisu | \n",
    "`lower(x)`       | zamiana znaków na małe litery |\n",
    "`upper(x)`       | zamiana znaków na wielkie litery |\n",
    "`findstr(s1, s2)` | szuka wzorca `s2` w napisie `s1` |\n",
    "`strrep(s, w, x)` | zamiana w napisie `s` wystąpienia wzorca `w` na `x` |\n",
    "`strtok(s, d)`    | dzieli napis `s` na części oddzielone separatorem `d` |\n",
    "\n",
    "W Matlab zobacz `help strfun`"
   ]
  },
  {
   "cell_type": "markdown",
   "metadata": {
    "slideshow": {
     "slide_type": "slide"
    }
   },
   "source": [
    "## blanks"
   ]
  },
  {
   "cell_type": "code",
   "execution_count": null,
   "metadata": {
    "slideshow": {
     "slide_type": "-"
    }
   },
   "outputs": [],
   "source": [
    "a = blanks(10)\n",
    "x = double(a)"
   ]
  },
  {
   "cell_type": "code",
   "execution_count": null,
   "metadata": {},
   "outputs": [],
   "source": [
    "b = ['Ala' blanks(5) 'ma' blanks(5) 'kota']\n",
    "c = ['Ala' ; blanks(5)' ; 'ma' blanks(5) 'kota']\n",
    "\n",
    "% w Matlab raczej to\n",
    "c = char('Ala', blanks(5)','ma',blanks(5), 'kota')"
   ]
  },
  {
   "cell_type": "markdown",
   "metadata": {
    "slideshow": {
     "slide_type": "slide"
    }
   },
   "source": [
    "## sprintf\n",
    "\n",
    "działa identycznie jak `fprintf` ale wynikowy napis jest zwracany (nie wyświetlany)"
   ]
  },
  {
   "cell_type": "code",
   "execution_count": null,
   "metadata": {
    "slideshow": {
     "slide_type": "-"
    }
   },
   "outputs": [],
   "source": [
    "a = sprintf('Liczba PI wynosi %.2f', pi )\n",
    "x = 65\n",
    "b = sprintf('Liczba %d, znak %c\\n\\nliczba %x\\n', x, x, x)"
   ]
  },
  {
   "cell_type": "code",
   "execution_count": null,
   "metadata": {
    "slideshow": {
     "slide_type": "-"
    }
   },
   "outputs": [],
   "source": [
    "% sprintf z macierzami w argumentach\n",
    "x = [1 2 3]\n",
    "a = sprintf('Liczba %d, ', x)\n",
    "a = sprintf('Liczba %d, ', x')\n",
    "x = [1 2 ; 3 4]\n",
    "a = sprintf('Liczba %d, ', x)"
   ]
  },
  {
   "cell_type": "markdown",
   "metadata": {
    "slideshow": {
     "slide_type": "slide"
    }
   },
   "source": [
    "## strtrim\n",
    "\n",
    "usuwa białe znaki z początku i końca napisu"
   ]
  },
  {
   "cell_type": "code",
   "execution_count": null,
   "metadata": {
    "slideshow": {
     "slide_type": "-"
    }
   },
   "outputs": [],
   "source": [
    "X = [ blanks(5) 'matlab' blanks(5) 'jest fajny' blanks(5)]\n",
    "a = strtrim(X)"
   ]
  },
  {
   "cell_type": "markdown",
   "metadata": {
    "slideshow": {
     "slide_type": "slide"
    }
   },
   "source": [
    "## lower, upper"
   ]
  },
  {
   "cell_type": "code",
   "execution_count": null,
   "metadata": {},
   "outputs": [],
   "source": [
    "X = 'Ala ma KoTa 123!@#'\n",
    "a = lower(X)\n",
    "b = upper(X)"
   ]
  },
  {
   "cell_type": "markdown",
   "metadata": {},
   "source": [
    "**Ćwiczcie** zamień w napisie duże litery na małe bez używania funkcji `lower` ?"
   ]
  },
  {
   "cell_type": "markdown",
   "metadata": {
    "slideshow": {
     "slide_type": "slide"
    }
   },
   "source": [
    "## Porównywanie napisów\n",
    "\n",
    "* funkcja `strcmp(S1, S2)` zwraca 1 gdy napisy `s1` i `s2` są identyczne \n",
    "* funkcja `strcmpi(S1, S2)` zwraca 1 gdy napisy `s1` i `s2` różnią sie wyłącznie wielkością liter \n",
    "\n"
   ]
  },
  {
   "cell_type": "code",
   "execution_count": null,
   "metadata": {},
   "outputs": [],
   "source": [
    "\n",
    "x = 'abcd'\n",
    "y = 'abcD'\n",
    "\n",
    "a = x == y \n",
    "b = x < y    % porównywanie wartości liczbowych w macierzach\n",
    "\n",
    "c = strcmp(x, y)\n",
    "\n",
    "d = strcmpi(x, y)\n"
   ]
  },
  {
   "cell_type": "markdown",
   "metadata": {
    "slideshow": {
     "slide_type": "slide"
    }
   },
   "source": [
    "## Wyszukiwanie podciągów\n",
    "\n",
    "* funkcja `strfind(s, w)` zwraca indeksy początku wzorca `w` w napisie `s`\n"
   ]
  },
  {
   "cell_type": "code",
   "execution_count": null,
   "metadata": {},
   "outputs": [],
   "source": [
    "napis = 'Siała baba mak'\n",
    "\n",
    "a = strfind(napis, 'abc')\n",
    "b = strfind(napis, 'mak')\n",
    "c = strfind(napis, 'a')\n",
    "napis(c)"
   ]
  },
  {
   "cell_type": "markdown",
   "metadata": {
    "slideshow": {
     "slide_type": "slide"
    }
   },
   "source": [
    "## Zamiana fragmentow napisów\n",
    "\n",
    "* funkcja `strrep(s, w, x)` zamienia w napisie `s` wystąpienia wzorca `w` na napis `x`"
   ]
  },
  {
   "cell_type": "code",
   "execution_count": null,
   "metadata": {},
   "outputs": [],
   "source": [
    "napis = 'siała baba mak'\n",
    "napis = strrep(napis, 'baba', 'kobieta')"
   ]
  },
  {
   "cell_type": "markdown",
   "metadata": {
    "slideshow": {
     "slide_type": "slide"
    }
   },
   "source": [
    "## Podział napisów względem separaotra\n",
    "\n",
    "* funkcja `strtok(s, d)` dzieli napis `s` na część przed separatorem (token) `d` oraz część pozostałą. Domyślnie separatorem jest spacja."
   ]
  },
  {
   "cell_type": "code",
   "execution_count": null,
   "metadata": {},
   "outputs": [],
   "source": [
    "napis = 'siała baba mak'\n",
    "[token reszta] = strtok(napis)\n",
    "\n",
    "[token reszta] = strtok(napis, 'a')\n",
    "\n",
    "[token reszta] = strtok(napis, 'baba')"
   ]
  },
  {
   "cell_type": "markdown",
   "metadata": {
    "slideshow": {
     "slide_type": "slide"
    }
   },
   "source": [
    "## Funkcje sprawdzające zawartość napisow\n",
    "\n",
    "Funkcja | Opis |\n",
    ":-|:-|\n",
    "`isletter(s)` | czy litera |\n",
    "`isspace(s)` | czy spacja  |\n",
    "`islower(s)` | czy mała litera alfabetu  |\n",
    "`isupper(s)` | czy duża litera alfabetu   |\n",
    "`isdigit(s)` | czy cyfra |\n",
    "`ischar(s)`  | czy napis |\n"
   ]
  },
  {
   "cell_type": "code",
   "execution_count": null,
   "metadata": {
    "slideshow": {
     "slide_type": "slide"
    }
   },
   "outputs": [],
   "source": [
    "napis = 'abc ABC 123\\n!@#'\n",
    "a = isletter(napis)\n",
    "b = isspace(napis)\n",
    "c = islower(napis)\n",
    "d = isupper(napis)\n",
    "e = isdigit(napis)\n",
    "e = ischar(napis)\n",
    "f = ischar([ 1 2 3])"
   ]
  },
  {
   "cell_type": "markdown",
   "metadata": {
    "slideshow": {
     "slide_type": "slide"
    }
   },
   "source": [
    "## Zamiana liczb na napisy \n",
    "\n",
    "Funkcja | Opis |\n",
    ":-|:-|\n",
    "`int2str(x)` | zamiana liczby całkowitej na napis |\n",
    "`num2str(x)` | zamiana liczby na napis  |\n",
    "`sprintf()`  | również pozwala na zmiane liczby na napis |\n",
    "`str2num(s)`  | zamiana napisu na liczbę |`"
   ]
  },
  {
   "cell_type": "code",
   "execution_count": null,
   "metadata": {},
   "outputs": [],
   "source": [
    "a = int2str(65)\n",
    "double(a)     % 54 to cyfra '6', wartość 53 to cyfra '5'\n",
    "printf('%s\\n', a)"
   ]
  },
  {
   "cell_type": "code",
   "execution_count": null,
   "metadata": {},
   "outputs": [],
   "source": [
    "b = num2str(pi)\n",
    "b(1:2)"
   ]
  },
  {
   "cell_type": "code",
   "execution_count": null,
   "metadata": {},
   "outputs": [],
   "source": [
    "c = str2num(b)\n",
    "d = str2num('1 2 3.5')\n",
    "whos a b c d"
   ]
  },
  {
   "cell_type": "markdown",
   "metadata": {
    "slideshow": {
     "slide_type": "slide"
    }
   },
   "source": [
    "## Sortowanie znaków\n",
    "\n",
    "* funkcja `sort()` zwraca znaki w rosnącej kolejności"
   ]
  },
  {
   "cell_type": "code",
   "execution_count": null,
   "metadata": {
    "scrolled": true,
    "slideshow": {
     "slide_type": "-"
    }
   },
   "outputs": [],
   "source": [
    "x = 'Ala ma kota'\n",
    "sort(x)\n",
    "\n",
    "x = ['Ala' ; 'ma ' ; 'psa']\n",
    "sort(x, 2)"
   ]
  },
  {
   "cell_type": "markdown",
   "metadata": {
    "slideshow": {
     "slide_type": "slide"
    }
   },
   "source": [
    "## Zadanie 7. Szyfr\n",
    "\n",
    "Napisz funkcję o nazwe `dekoduj()`, która odszyfruje wiadomość ukrytą w pierwszych literach wyrazów podanego napisu. Dla podanego w argumencie funkcji łańcucha znakowego zawierającego dowolnie długi tekst funkcja zwraca łancuch znakowy zawierający litery początkowe wyrazów. Wynik zawiera wyłacznie małe litery, jeżeli pierwsza litera wejściowego wyrazu była duża to zamieniamy ją na małą. Wyrazem jest dowolny ciąg składający się z liter (dużych lub małych) lub cyfr. Zwróć uwagę na to, że tekst może zawierać wiele innych znaków z kodu ASCII (np. `#$\\_`), które mogą oddzielać wyrazy (ciągi liter i cyfr). W przypadku, gdy użytkownik wywoła funkcję bez podania argumentu wejściowego lub poda więcej argumentów niż 1 wówczas funkcja wyświetli stosowany komunikat błędu za pomocą funkcji `error()`. Komunikat błedu pojawi się również, gdy podany argument nie będzie tablicą znakową.\n"
   ]
  },
  {
   "cell_type": "markdown",
   "metadata": {
    "slideshow": {
     "slide_type": "-"
    }
   },
   "source": [
    "Przykładowo, wywołanie funkcji\n",
    "```\n",
    "dekoduj('Ala ma kota');\n",
    "```\n",
    "zwróci napis `'amk'`\n",
    "\n",
    "Inny przykład, dla danej tablicy `x`\n",
    "```\n",
    "x = '  **mbnv,AaA[(T)]     l123|A||B  '\n",
    "```\n",
    "wywołanie funkcji `dekoduj(x)` zwróci napis `'matlab'`"
   ]
  }
 ],
 "metadata": {
  "celltoolbar": "Slideshow",
  "kernelspec": {
   "display_name": "Octave",
   "language": "octave",
   "name": "octave"
  },
  "language_info": {
   "file_extension": ".m",
   "help_links": [
    {
     "text": "GNU Octave",
     "url": "https://www.gnu.org/software/octave/support.html"
    },
    {
     "text": "Octave Kernel",
     "url": "https://github.com/Calysto/octave_kernel"
    },
    {
     "text": "MetaKernel Magics",
     "url": "https://metakernel.readthedocs.io/en/latest/source/README.html"
    }
   ],
   "mimetype": "text/x-octave",
   "name": "octave",
   "version": "5.2.0"
  },
  "toc": {
   "base_numbering": 1,
   "nav_menu": {},
   "number_sections": true,
   "sideBar": true,
   "skip_h1_title": false,
   "title_cell": "Table of Contents",
   "title_sidebar": "Contents",
   "toc_cell": false,
   "toc_position": {},
   "toc_section_display": true,
   "toc_window_display": false
  },
  "varInspector": {
   "cols": {
    "lenName": 16,
    "lenType": 16,
    "lenVar": 40
   },
   "kernels_config": {
    "python": {
     "delete_cmd_postfix": "",
     "delete_cmd_prefix": "del ",
     "library": "var_list.py",
     "varRefreshCmd": "print(var_dic_list())"
    },
    "r": {
     "delete_cmd_postfix": ") ",
     "delete_cmd_prefix": "rm(",
     "library": "var_list.r",
     "varRefreshCmd": "cat(var_dic_list()) "
    }
   },
   "types_to_exclude": [
    "module",
    "function",
    "builtin_function_or_method",
    "instance",
    "_Feature"
   ],
   "window_display": false
  }
 },
 "nbformat": 4,
 "nbformat_minor": 4
}
