{
 "cells": [
  {
   "cell_type": "markdown",
   "metadata": {
    "slideshow": {
     "slide_type": "slide"
    }
   },
   "source": [
    "# Napisy (łańcuchy znakowe)\n",
    "\n",
    "* napisy to ciąg zanaków umieszczony między `'apostrofami'` \n",
    "* napis w Matlab to wektor znaków\n",
    "* macierz znakowa - macierz zawierająca napisy w wierszach, wiersze macierzy posiadają tyle samo elementów, więc krótsze napisy są wypełnione blankami/spacjami\n",
    "* od Matlab R2016 także obiekt `string` (ale my zajmiemy się wylko tablcami znaków)\n"
   ]
  },
  {
   "cell_type": "code",
   "execution_count": null,
   "metadata": {
    "slideshow": {
     "slide_type": "-"
    }
   },
   "outputs": [],
   "source": [
    "napis = 'Ala ma kota'\n",
    "a = length(napis)\n",
    "whos napis"
   ]
  },
  {
   "cell_type": "code",
   "execution_count": null,
   "metadata": {
    "slideshow": {
     "slide_type": "-"
    }
   },
   "outputs": [],
   "source": [
    "c = length('')     % pusty napis\n",
    "b = length(' ')    % znak spacji"
   ]
  },
  {
   "cell_type": "markdown",
   "metadata": {
    "slideshow": {
     "slide_type": "slide"
    }
   },
   "source": [
    "## Napis jest wektorem\n",
    "* indeksowanie macierzowe\n",
    "* operacje na macierzach (np. transpozycja)"
   ]
  },
  {
   "cell_type": "code",
   "execution_count": null,
   "metadata": {},
   "outputs": [],
   "source": [
    "napis = 'Ala ma kota';\n",
    "a = napis(1)\n",
    "b = napis(end)\n",
    "c = napis(2:2:end)\n",
    "d = napis'"
   ]
  },
  {
   "cell_type": "markdown",
   "metadata": {},
   "source": [
    "**Ćwiczenie** napisz funkcję `anagram(s)`, która dla podanego napisu (wyrazu) zwróci jego anagram (przestawi znaki w losowej kolejności) "
   ]
  },
  {
   "cell_type": "markdown",
   "metadata": {
    "slideshow": {
     "slide_type": "slide"
    }
   },
   "source": [
    "## Macierze napisów"
   ]
  },
  {
   "cell_type": "code",
   "execution_count": null,
   "metadata": {},
   "outputs": [],
   "source": [
    "X = [ 'Ala' ; 'Ewa'; 'Jan'] \n",
    "\n",
    "% piwrsza kolumna znaków\n",
    "a = X(:, 1) \n",
    "\n",
    "% transpozycja macierzy\n",
    "b = X'"
   ]
  },
  {
   "cell_type": "markdown",
   "metadata": {},
   "source": [
    "Funkcja `char(s1, s2, ...)` tworzy macierz z łańcuchów `s1`, `s2`, itd. "
   ]
  },
  {
   "cell_type": "code",
   "execution_count": null,
   "metadata": {},
   "outputs": [],
   "source": [
    "X = [ 'Ala' ; 'Zuzanna']  \n",
    "\n",
    "whos\n",
    "% uwaga: w Matlab ta operacja powoduje bład, nie zgadzają się długości napisów. W Octave pierwszy wiersz jest uzupełniony spacjami\n",
    "% Dotworzenia macierzy znakowej mozna wykorzystać char(), który uzupełni krótsze linie spacjami\n",
    "\n",
    "X = char('Ala', 'Zuzanna', 'Hermenegilda')"
   ]
  },
  {
   "cell_type": "markdown",
   "metadata": {
    "slideshow": {
     "slide_type": "slide"
    }
   },
   "source": [
    "## Łączenie napisow\n",
    "\n",
    "* łączenie napisów (concatenation)  `[napis1 napis2]` \n",
    "* funkcja `strcat(napis1, napis2)`"
   ]
  },
  {
   "cell_type": "code",
   "execution_count": null,
   "metadata": {},
   "outputs": [],
   "source": [
    "a = 'Ala';\n",
    "b = ' ma kota';\n",
    "x = [a b]\n",
    "y = [x ' a Ewa ma psa']"
   ]
  },
  {
   "cell_type": "code",
   "execution_count": null,
   "metadata": {},
   "outputs": [],
   "source": [
    "z = strcat(a, b, ' a Janek nie')\n",
    "whos a b c"
   ]
  },
  {
   "cell_type": "markdown",
   "metadata": {
    "slideshow": {
     "slide_type": "slide"
    }
   },
   "source": [
    "## Łaczenie napisów wertykalne\n",
    "\n",
    "* łaczenie napisów wertykalne (dodawnie wierszy) `[napis1 ; napis2]` \n",
    "* funkcja `strvcat(napis1, napis2)`"
   ]
  },
  {
   "cell_type": "code",
   "execution_count": null,
   "metadata": {},
   "outputs": [],
   "source": [
    "a = 'Raz';\n",
    "b = 'Dwa';\n",
    "c = 'Trzy';\n",
    "x = [a ; b; c]"
   ]
  },
  {
   "cell_type": "code",
   "execution_count": null,
   "metadata": {},
   "outputs": [],
   "source": [
    "y = strvcat(a, b, c)\n",
    "whos a b c x y"
   ]
  },
  {
   "cell_type": "markdown",
   "metadata": {
    "slideshow": {
     "slide_type": "slide"
    }
   },
   "source": [
    "## Typ znakowy\n",
    "\n",
    "* znaki są kodowane za pomoca liczb całkowitych (kod ASCII)\n",
    "* `char(liczba)` zwraca symbol kodowany daną liczbą\n",
    "* `double(znak)` zwraca liczbę kodującą znak"
   ]
  },
  {
   "cell_type": "code",
   "execution_count": null,
   "metadata": {},
   "outputs": [],
   "source": [
    "a = char(65)\n",
    "b = double('A')"
   ]
  },
  {
   "cell_type": "code",
   "execution_count": null,
   "metadata": {},
   "outputs": [],
   "source": [
    "napis = 'Ala ma kota'\n",
    "b = double(napis)\n",
    "b = napis + 1\n",
    "c = char(napis + 3)"
   ]
  },
  {
   "cell_type": "markdown",
   "metadata": {},
   "source": [
    "**Ćwiczenie** wypisz wartości numeryczne i odpowiadjające symbole kodu ASCII dla znaków kodowanych od 1 do 127 "
   ]
  },
  {
   "cell_type": "markdown",
   "metadata": {
    "slideshow": {
     "slide_type": "slide"
    }
   },
   "source": [
    "## Znak nowej linii\n",
    "\n",
    "* `char(10)`\n",
    "* `newline`  (brak w Octave)\n",
    "* `sprintf('\\n')`\n",
    "* uwaga: w Windows na koncu linii są 2 bajty `\\r\\n` \n"
   ]
  },
  {
   "cell_type": "code",
   "execution_count": null,
   "metadata": {},
   "outputs": [],
   "source": [
    "x = ['Ala ' newline 'ma' char(10) 'kota']"
   ]
  },
  {
   "cell_type": "markdown",
   "metadata": {},
   "source": [
    "**Ćwiczenie:** spardź kod ASCII znaku powrotu katerki `\\r`"
   ]
  },
  {
   "cell_type": "markdown",
   "metadata": {
    "slideshow": {
     "slide_type": "slide"
    }
   },
   "source": [
    "## Przydatne funkcje operujące na napisach\n",
    "\n",
    "Funkcja | Opis |\n",
    ":-|:-|\n",
    "`strcat()` `strvcat`| łączenie napisów |  \n",
    "`blanks(N)` | tworzy napis (wektor) białych znaków (spacji)  |\n",
    "`sprintf()` | tworzenie napisów z formatowanymi wartościami |\n",
    "`strcmp(A, B)` | porównywanie napisów |\n",
    "`strtrim(x)`     | usuwa białe znaki z poczatku i z końca napisu | \n",
    "`lower(x)`       | zamiana znakow na małe litery |\n",
    "`upper(x)`       | zamiana znakow na wielkie litery |\n",
    "`findstr(s1, s1)` | szuka wzorca `s2` w napisie `s1` |\n",
    "`strrep(s, w, x)` | zamienia w napisie `s` wystapienia wzorca `w` na `x` |\n",
    "`strtok(s, d)`    | dzieli napis `s` na częsci oddzieone separatorem `d` |"
   ]
  },
  {
   "cell_type": "markdown",
   "metadata": {
    "slideshow": {
     "slide_type": "slide"
    }
   },
   "source": [
    "## blanks"
   ]
  },
  {
   "cell_type": "code",
   "execution_count": null,
   "metadata": {
    "slideshow": {
     "slide_type": "-"
    }
   },
   "outputs": [],
   "source": [
    "a = blanks(10)\n",
    "x = double(a)"
   ]
  },
  {
   "cell_type": "code",
   "execution_count": null,
   "metadata": {},
   "outputs": [],
   "source": [
    "b = ['Ala' blanks(10) 'ma' blanks(10) 'kota']\n",
    "c = ['Ala' ; blanks(10)' ; 'ma' blanks(10) 'kota']"
   ]
  },
  {
   "cell_type": "markdown",
   "metadata": {
    "slideshow": {
     "slide_type": "slide"
    }
   },
   "source": [
    "## sprintf\n",
    "\n",
    "działa identycznie jak `printf` ale wynikowy napis jest zwracany (nie wyswietlany)"
   ]
  },
  {
   "cell_type": "code",
   "execution_count": null,
   "metadata": {
    "slideshow": {
     "slide_type": "-"
    }
   },
   "outputs": [],
   "source": [
    "a = sprintf('Liczba PI wynosi %.2f', pi )\n",
    "x = 65\n",
    "b = sprintf('Liczba %d, znak %c\\n\\nliczba %x\\n', x, x, x)"
   ]
  },
  {
   "cell_type": "code",
   "execution_count": null,
   "metadata": {
    "slideshow": {
     "slide_type": "-"
    }
   },
   "outputs": [],
   "source": [
    "% sprintf z macierzami w argumentach\n",
    "x = [1 2 3]\n",
    "a = sprintf('Liczba %d, ', x)\n",
    "a = sprintf('Liczba %d, ', x')\n",
    "x = [1 2 ; 3 4]\n",
    "a = sprintf('Liczba %d, ', x)"
   ]
  },
  {
   "cell_type": "markdown",
   "metadata": {
    "slideshow": {
     "slide_type": "slide"
    }
   },
   "source": [
    "## strtrim"
   ]
  },
  {
   "cell_type": "code",
   "execution_count": null,
   "metadata": {
    "slideshow": {
     "slide_type": "-"
    }
   },
   "outputs": [],
   "source": [
    "X = [ blanks(5) 'matlab' blanks(5) 'jest fajny' blanks(5)]\n",
    "a = strtrim(X)"
   ]
  },
  {
   "cell_type": "markdown",
   "metadata": {
    "slideshow": {
     "slide_type": "slide"
    }
   },
   "source": [
    "## lower, upper"
   ]
  },
  {
   "cell_type": "code",
   "execution_count": null,
   "metadata": {},
   "outputs": [],
   "source": [
    "X = 'Ala ma KoTa 123!@#'\n",
    "a = lower(X)\n",
    "b = upper(X)"
   ]
  },
  {
   "cell_type": "markdown",
   "metadata": {},
   "source": [
    "**Ćwicznie** jak zamieninić w napisie duże litery na małe bez uzywania funkcji `lower` ?"
   ]
  },
  {
   "cell_type": "markdown",
   "metadata": {
    "slideshow": {
     "slide_type": "slide"
    }
   },
   "source": [
    "## Porównywanie napisów\n",
    "\n",
    "* funkcja `strcmp(S1, S2)` zwraca 1 gdy napisy `s1` i `s2` są identyczne \n",
    "* funkcja `strcmpi(S1, S2)` zwraca 1 gdy napisy `s1` i `s2` są różnią sie wyłacznie wielkością liter \n",
    "\n"
   ]
  },
  {
   "cell_type": "code",
   "execution_count": null,
   "metadata": {},
   "outputs": [],
   "source": [
    "\n",
    "x = 'abcd'\n",
    "y = 'abcD'\n",
    "\n",
    "a = x == y \n",
    "b = x < y\n",
    "\n",
    "c = strcmp(x, y)\n",
    "\n",
    "d = strcmpi(x, y)\n"
   ]
  },
  {
   "cell_type": "markdown",
   "metadata": {
    "slideshow": {
     "slide_type": "slide"
    }
   },
   "source": [
    "## Wyszukiwanie podciągów\n",
    "\n",
    "* funkcja `strfind(s, w)` zwraca indeksy początku wzorca `w` w napisie `s`\n"
   ]
  },
  {
   "cell_type": "code",
   "execution_count": null,
   "metadata": {},
   "outputs": [],
   "source": [
    "napis = 'Siała baba mak'\n",
    "\n",
    "a = strfind(napis, 'abc')\n",
    "b = strfind(napis, 'mak')\n",
    "c = strfind(napis, 'a')\n",
    "napis(c)"
   ]
  },
  {
   "cell_type": "markdown",
   "metadata": {
    "slideshow": {
     "slide_type": "slide"
    }
   },
   "source": [
    "## Zamiana fragmentow napisów\n",
    "\n",
    "* funkcja `strrep(s, w, x)` zamienia w napisie `s` wystąpienia wzorca `w` na napis `x`"
   ]
  },
  {
   "cell_type": "code",
   "execution_count": null,
   "metadata": {},
   "outputs": [],
   "source": [
    "napis = 'siała baba mak'\n",
    "napis = strrep(napis, 'baba', 'kobieta')"
   ]
  },
  {
   "cell_type": "markdown",
   "metadata": {
    "slideshow": {
     "slide_type": "slide"
    }
   },
   "source": [
    "## Podział napisów względem separaotra\n",
    "\n",
    "* funkcja `strtok(s, d)` dzieli napis `s` na część przed separatorem (token) `d` oraz część pozostałą. Domyślnie separatorem jest spacja."
   ]
  },
  {
   "cell_type": "code",
   "execution_count": null,
   "metadata": {},
   "outputs": [],
   "source": [
    "napis = 'siała baba mak'\n",
    "[token reszta] = strtok(napis)\n",
    "\n",
    "[token reszta] = strtok(napis, 'a')\n",
    "\n",
    "[token reszta] = strtok(napis, 'baba')"
   ]
  },
  {
   "cell_type": "markdown",
   "metadata": {
    "slideshow": {
     "slide_type": "slide"
    }
   },
   "source": [
    "## Funkcje sprawdzające zawartość napisow\n",
    "\n",
    "Funkcja | Opis |\n",
    ":-|:-|\n",
    "`isletter(s)` | czy litera |\n",
    "`isspace(s)` | czy spacja  |\n",
    "`islower(s)` | czy mała litera alfabetu  |\n",
    "`isupper(s)` | czy duża litera alfabetu   |\n",
    "`isdigit(s)` | czy cyfra |\n",
    "`ischar(s)`  | czy napis |\n"
   ]
  },
  {
   "cell_type": "code",
   "execution_count": null,
   "metadata": {
    "slideshow": {
     "slide_type": "slide"
    }
   },
   "outputs": [],
   "source": [
    "napis = 'abc ABC 123\\n!@#'\n",
    "a = isletter(napis)\n",
    "b = isspace(napis)\n",
    "c = islower(napis)\n",
    "d = isupper(napis)\n",
    "e = isdigit(napis)\n",
    "e = ischar(napis)\n",
    "f = ischar([ 1 2 3])"
   ]
  },
  {
   "cell_type": "markdown",
   "metadata": {
    "slideshow": {
     "slide_type": "slide"
    }
   },
   "source": [
    "## Zamiana liczb na napisy \n",
    "\n",
    "Funkcja | Opis |\n",
    ":-|:-|\n",
    "`int2str(x)` | zamiana liczby całkowitej na napis |\n",
    "`num2str(x)` | zamiana liczby na napis  |\n",
    "`sprintf()`  | równiez pozwala na zamiane liczby na napis |\n",
    "`str2num(s)`  | zamiana napisu na liczbę |`"
   ]
  },
  {
   "cell_type": "code",
   "execution_count": null,
   "metadata": {},
   "outputs": [],
   "source": [
    "a = int2str(65)\n",
    "double(a)\n",
    "printf('%s\\n', a)"
   ]
  },
  {
   "cell_type": "code",
   "execution_count": null,
   "metadata": {},
   "outputs": [],
   "source": [
    "b = num2str(pi)\n",
    "b(1:2)"
   ]
  },
  {
   "cell_type": "code",
   "execution_count": null,
   "metadata": {},
   "outputs": [],
   "source": [
    "c = str2num(b)\n",
    "d = str2num('1 2 3.5')\n",
    "whos a b c d"
   ]
  },
  {
   "cell_type": "markdown",
   "metadata": {
    "slideshow": {
     "slide_type": "slide"
    }
   },
   "source": [
    "## Sortowanie znaków\n",
    "\n",
    "* funkcja `sort()` zwraca znaki w rosnącej kolejności"
   ]
  },
  {
   "cell_type": "code",
   "execution_count": null,
   "metadata": {
    "scrolled": true,
    "slideshow": {
     "slide_type": "-"
    }
   },
   "outputs": [],
   "source": [
    "x = 'Ala ma kota'\n",
    "sort(x)\n",
    "\n",
    "x = ['Ala' ; 'ma' ; 'kota']\n",
    "sort(x, 2)"
   ]
  },
  {
   "cell_type": "markdown",
   "metadata": {
    "slideshow": {
     "slide_type": "slide"
    }
   },
   "source": [
    "## Zadanie 7. Szyfr\n",
    "\n",
    "Napisz funkcję o nazwe `dekoduj()`, która dla podanego w wrgumencie napisu wykonuje nastepujące operacje:\n",
    "* wszystkie znaki przystankowe zamieniane sa na znak spacji - nie zmienione pozostają wyłącznie litery, cyfry oraz spacje\n",
    "* wszystkie duże litery zamieniane są na małe \n",
    "* wielokrotne spacje w uzyskanym napisie są zastepowane pojedynczą spacją \n",
    "* z uzyskanego napisu wybierane są pierwsze litery z wyrazów\n",
    "Jeżeli argumentem jest macierz znakowa to wynikiem bdzie macierz znakowa o rakiej samej licznie wierszy, gdzie każdy wiersz został poddany opisanym wyżej operacjom"
   ]
  },
  {
   "cell_type": "markdown",
   "metadata": {
    "slideshow": {
     "slide_type": "-"
    }
   },
   "source": [
    "Przykład działania:\n",
    "```\n",
    "dekoduj('Ala ma kota');\n",
    "````\n",
    "zwróci napis `'amk'.\n",
    "\n",
    "```\n",
    "x = ['    abc  b3 _)(*^%' '   abc   abc    ABC']\n",
    "dekoduj(x)\n",
    "```\n",
    "zwróci macierz\n",
    "\n",
    "```\n",
    "[ 'ab' ;\n",
    "  'aaa' ]\n",
    "```"
   ]
  }
 ],
 "metadata": {
  "celltoolbar": "Slideshow",
  "kernelspec": {
   "display_name": "Octave",
   "language": "octave",
   "name": "octave"
  },
  "language_info": {
   "file_extension": ".m",
   "help_links": [
    {
     "text": "GNU Octave",
     "url": "https://www.gnu.org/software/octave/support.html"
    },
    {
     "text": "Octave Kernel",
     "url": "https://github.com/Calysto/octave_kernel"
    },
    {
     "text": "MetaKernel Magics",
     "url": "https://metakernel.readthedocs.io/en/latest/source/README.html"
    }
   ],
   "mimetype": "text/x-octave",
   "name": "octave",
   "version": "5.2.0"
  },
  "toc": {
   "base_numbering": 1,
   "nav_menu": {},
   "number_sections": true,
   "sideBar": true,
   "skip_h1_title": false,
   "title_cell": "Table of Contents",
   "title_sidebar": "Contents",
   "toc_cell": false,
   "toc_position": {},
   "toc_section_display": true,
   "toc_window_display": false
  },
  "varInspector": {
   "cols": {
    "lenName": 16,
    "lenType": 16,
    "lenVar": 40
   },
   "kernels_config": {
    "python": {
     "delete_cmd_postfix": "",
     "delete_cmd_prefix": "del ",
     "library": "var_list.py",
     "varRefreshCmd": "print(var_dic_list())"
    },
    "r": {
     "delete_cmd_postfix": ") ",
     "delete_cmd_prefix": "rm(",
     "library": "var_list.r",
     "varRefreshCmd": "cat(var_dic_list()) "
    }
   },
   "types_to_exclude": [
    "module",
    "function",
    "builtin_function_or_method",
    "instance",
    "_Feature"
   ],
   "window_display": false
  }
 },
 "nbformat": 4,
 "nbformat_minor": 4
}
