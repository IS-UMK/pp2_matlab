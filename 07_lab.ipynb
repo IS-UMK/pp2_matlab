{
 "cells": [
  {
   "cell_type": "markdown",
   "metadata": {
    "slideshow": {
     "slide_type": "slide"
    }
   },
   "source": [
    "# Struktury i  cell array \n",
    "\n",
    "* elementami macierzy są wartości tego samego typu (bool, int, double, char)\n",
    "* **struktura** (/struct/) typ danych pozwalający przechowywac wiele wartości różego typu. Poszczególne wartości dostępne są w nazwanych **polach**\n",
    "\n",
    "* **macierz komurkowa** (/cell array/) pozwala w sposób macierzy przechowywać dane różnego typu. Poszczególne wartości dostępne są za pomocą indeksów liczbowych\n"
   ]
  },
  {
   "cell_type": "markdown",
   "metadata": {
    "slideshow": {
     "slide_type": "slide"
    }
   },
   "source": [
    "## Obiekt typu cell"
   ]
  },
  {
   "cell_type": "code",
   "execution_count": 19,
   "metadata": {},
   "outputs": [
    {
     "name": "stdout",
     "output_type": "stream",
     "text": [
      "a =\n",
      "{\n",
      "  [1,1] =  42\n",
      "}\n",
      "\n",
      "b =\n",
      "{\n",
      "  [1,1] = A\n",
      "}\n",
      "\n",
      "c =\n",
      "{\n",
      "  [1,1] = Siała baba mak\n",
      "}\n",
      "\n",
      "Variables in the current scope:\n",
      "\n",
      "   Attr Name        Size                     Bytes  Class\n",
      "   ==== ====        ====                     =====  ===== \n",
      "        a           1x1                          8  cell\n",
      "        b           1x1                          1  cell\n",
      "        c           1x1                         15  cell\n",
      "\n",
      "Total is 3 elements using 24 bytes\n",
      "\n"
     ]
    }
   ],
   "source": [
    "# komórka (cell)\n",
    "a = { 42 }\n",
    "b = { 'A' }\n",
    "c = { 'Siała baba mak' }\n",
    "whos a b c"
   ]
  },
  {
   "cell_type": "markdown",
   "metadata": {
    "slideshow": {
     "slide_type": "slide"
    }
   },
   "source": [
    "## Wektory i macierze typu cell"
   ]
  },
  {
   "cell_type": "code",
   "execution_count": 23,
   "metadata": {
    "slideshow": {
     "slide_type": "-"
    }
   },
   "outputs": [
    {
     "name": "stdout",
     "output_type": "stream",
     "text": [
      "c =\n",
      "{\n",
      "  [1,1] =  42\n",
      "  [1,2] = A\n",
      "  [1,3] =\n",
      "\n",
      "      1    4    7   10\n",
      "\n",
      "  [1,4] = Witaj\n",
      "}\n",
      "\n",
      "Variables in the current scope:\n",
      "\n",
      "   Attr Name        Size                     Bytes  Class\n",
      "   ==== ====        ====                     =====  ===== \n",
      "        c           1x4                         38  cell\n",
      "\n",
      "Total is 4 elements using 38 bytes\n",
      "\n"
     ]
    }
   ],
   "source": [
    "# wektor wierszowy\n",
    "c = { 42, 'A', 1:3:10, 'Witaj'} \n",
    "whos c"
   ]
  },
  {
   "cell_type": "code",
   "execution_count": 42,
   "metadata": {},
   "outputs": [
    {
     "name": "stdout",
     "output_type": "stream",
     "text": [
      "c =\n",
      "{\n",
      "  [1,1] =  42\n",
      "  [2,1] = A\n",
      "  [3,1] =\n",
      "\n",
      "      1    4    7   10\n",
      "\n",
      "  [4,1] = Witaj\n",
      "}\n",
      "\n",
      "ans =\n",
      "\n",
      "   4   1\n",
      "\n"
     ]
    }
   ],
   "source": [
    "# wektor kolumnowy\n",
    "c = { 42; 'A'; 1:3:10; 'Witaj'} \n",
    "size(c)"
   ]
  },
  {
   "cell_type": "code",
   "execution_count": 44,
   "metadata": {},
   "outputs": [
    {
     "name": "stdout",
     "output_type": "stream",
     "text": [
      "c =\n",
      "{\n",
      "  [1,1] =  42\n",
      "  [2,1] =\n",
      "\n",
      "      1    4    7   10\n",
      "\n",
      "  [1,2] = A\n",
      "  [2,2] = Witaj\n",
      "}\n",
      "\n",
      "ans =\n",
      "\n",
      "   2   2\n",
      "\n"
     ]
    }
   ],
   "source": [
    "# macierz 2x2\n",
    "c = { 42, 'A'; 1:3:10, 'Witaj'} \n",
    "size(c)"
   ]
  },
  {
   "cell_type": "code",
   "execution_count": 43,
   "metadata": {
    "slideshow": {
     "slide_type": "-"
    }
   },
   "outputs": [
    {
     "name": "stdout",
     "output_type": "stream",
     "text": [
      "x =\n",
      "{\n",
      "  [1,1] = [](0x0)\n",
      "  [2,1] = [](0x0)\n",
      "  [1,2] = [](0x0)\n",
      "  [2,2] = [](0x0)\n",
      "  [1,3] = [](0x0)\n",
      "  [2,3] = [](0x0)\n",
      "}\n",
      "\n",
      "ans =\n",
      "\n",
      "   2   3\n",
      "\n"
     ]
    }
   ],
   "source": [
    "## pusta macierz - prealikacja macierzy komórkowej\n",
    "x = cell(2, 3)"
   ]
  },
  {
   "cell_type": "markdown",
   "metadata": {
    "slideshow": {
     "slide_type": "slide"
    }
   },
   "source": [
    "## Indeksowanie elementów obiektu typu cell\n",
    "\n",
    "* nawiasy klamrowe `{i, j}` dają dostęp do wartości w komórkach\n",
    "* nawiasy okrągłe `(i, j)` dają dostęp komórek (wynik jest opiektem typu cell)"
   ]
  },
  {
   "cell_type": "code",
   "execution_count": 48,
   "metadata": {
    "slideshow": {
     "slide_type": "-"
    }
   },
   "outputs": [
    {
     "name": "stdout",
     "output_type": "stream",
     "text": [
      "a =  42\n",
      "b =\n",
      "{\n",
      "  [1,1] =  42\n",
      "}\n",
      "\n",
      "Variables in the current scope:\n",
      "\n",
      "   Attr Name        Size                     Bytes  Class\n",
      "   ==== ====        ====                     =====  ===== \n",
      "        a           1x1                          8  double\n",
      "        b           1x1                          8  cell\n",
      "\n",
      "Total is 2 elements using 16 bytes\n",
      "\n"
     ]
    }
   ],
   "source": [
    "x = { 42, 'A'; 1:3:10, 'Witaj'};\n",
    "\n",
    "% indeksowanie wartości (1,1)\n",
    "a = x{1,1}\n",
    "\n",
    "# indeksowanie komórek\n",
    "b = x(1, 1)\n",
    "whos a b"
   ]
  },
  {
   "cell_type": "code",
   "execution_count": 53,
   "metadata": {},
   "outputs": [
    {
     "name": "stdout",
     "output_type": "stream",
     "text": [
      "a =\n",
      "\n",
      "    1    4    7   10\n",
      "\n",
      "b =\n",
      "{\n",
      "  [1,1] =\n",
      "\n",
      "      1    4    7   10\n",
      "\n",
      "}\n",
      "\n",
      "Variables in the current scope:\n",
      "\n",
      "   Attr Name        Size                     Bytes  Class\n",
      "   ==== ====        ====                     =====  ===== \n",
      "        a           1x4                         24  double\n",
      "        b           1x1                         24  cell\n",
      "\n",
      "Total is 5 elements using 48 bytes\n",
      "\n",
      "c =  1\n",
      "d =  1\n",
      "Variables in the current scope:\n",
      "\n",
      "   Attr Name        Size                     Bytes  Class\n",
      "   ==== ====        ====                     =====  ===== \n",
      "        c           1x1                          8  double\n",
      "        d           1x1                          8  double\n",
      "\n",
      "Total is 2 elements using 16 bytes\n",
      "\n"
     ]
    }
   ],
   "source": [
    "% indeksowanie wartości (1,1)\n",
    "a = x{2,1}\n",
    "\n",
    "# indeksowanie komórek\n",
    "b = x(2, 1)\n",
    "whos a b\n",
    "\n",
    "c = x{2, 1}(1)   \n",
    "d = x(2, 1){1}(1)\n",
    "whos c d"
   ]
  },
  {
   "cell_type": "markdown",
   "metadata": {
    "slideshow": {
     "slide_type": "slide"
    }
   },
   "source": [
    "## Ineksowanie za pomoca dwukropka :"
   ]
  },
  {
   "cell_type": "code",
   "execution_count": null,
   "metadata": {},
   "outputs": [],
   "source": [
    "x = { 42, 'A', 1:3:10, 'Matlab'};\n",
    "\n",
    "# pierwsze 3 elementy - 3 różne zmienne\n",
    "x{1:3}"
   ]
  },
  {
   "cell_type": "code",
   "execution_count": 58,
   "metadata": {},
   "outputs": [
    {
     "name": "stdout",
     "output_type": "stream",
     "text": [
      "a =  42\n",
      "b = A\n",
      "c =\n",
      "\n",
      "    1    4    7   10\n",
      "\n",
      "Variables in the current scope:\n",
      "\n",
      "   Attr Name        Size                     Bytes  Class\n",
      "   ==== ====        ====                     =====  ===== \n",
      "        a           1x1                          8  double\n",
      "        b           1x1                          1  char\n",
      "        c           1x4                         24  double\n",
      "\n",
      "Total is 6 elements using 33 bytes\n",
      "\n"
     ]
    }
   ],
   "source": [
    "[a b c] = x{1:3}\n",
    "\n",
    "whos a b c"
   ]
  },
  {
   "cell_type": "code",
   "execution_count": 66,
   "metadata": {},
   "outputs": [
    {
     "name": "stdout",
     "output_type": "stream",
     "text": [
      "ans =  42\r\n",
      "ans = A\r\n",
      "ans =\r\n",
      "\r\n",
      "    1    4    7   10\r\n",
      "\r\n",
      "ans = Matlab\r\n"
     ]
    }
   ],
   "source": [
    "x{:}"
   ]
  },
  {
   "cell_type": "code",
   "execution_count": 67,
   "metadata": {},
   "outputs": [
    {
     "name": "stdout",
     "output_type": "stream",
     "text": [
      "a =\n",
      "{\n",
      "  [1,1] =  42\n",
      "  [1,2] = A\n",
      "  [1,3] =\n",
      "\n",
      "      1    4    7   10\n",
      "\n",
      "}\n",
      "\n",
      "Variables in the current scope:\n",
      "\n",
      "   Attr Name        Size                     Bytes  Class\n",
      "   ==== ====        ====                     =====  ===== \n",
      "        a           1x3                         33  cell\n",
      "        x           1x4                         39  cell\n",
      "\n",
      "Total is 7 elements using 72 bytes\n",
      "\n"
     ]
    }
   ],
   "source": [
    "% wynikiem x(1:3) nowa macierz komórkowa\n",
    "a = x(1:3)\n",
    "whos a x"
   ]
  },
  {
   "cell_type": "markdown",
   "metadata": {
    "slideshow": {
     "slide_type": "slide"
    }
   },
   "source": [
    "## Wyświetlanie zawartości komórek\n",
    "\n",
    "* `celldisp()` wypisuje zawartość kolejnych komórek\n",
    "* `cellplot()` wypisanie wartości w trybie graficznym (w oknie)"
   ]
  },
  {
   "cell_type": "code",
   "execution_count": null,
   "metadata": {},
   "outputs": [],
   "source": [
    "x = { 42, 'A', 1:3:10, 'Matlab'};\n",
    "\n",
    "disp(x)\n",
    "celldisp(x)"
   ]
  },
  {
   "cell_type": "code",
   "execution_count": null,
   "metadata": {},
   "outputs": [],
   "source": [
    "% wyświetlanie rekurencyjne\n",
    "celldisp({1, 2, x})"
   ]
  },
  {
   "cell_type": "code",
   "execution_count": 84,
   "metadata": {},
   "outputs": [
    {
     "name": "stdout",
     "output_type": "stream",
     "text": [
      "{1} = \n",
      "\n",
      " 1\n",
      "\n",
      "{2} = \n",
      "\n",
      " 2\n",
      "\n",
      "{3}{1} = \n",
      "\n",
      " 42\n",
      "\n",
      "{3}{2} = \n",
      "\n",
      "A\n",
      "\n",
      "{3}{3} = \n",
      "\n",
      "    1    4    7   10\n",
      "\n",
      "{3}{4} = \n",
      "\n",
      "Matlab\n",
      "\n",
      "warning: the 'cellplot' function is not yet implemented in Octave\n",
      "\n",
      "Please read <https://www.octave.org/missing.html> to learn how you can\n",
      "contribute missing functionality.\n",
      "error: 'cellplot' undefined near line 2 column 1\n"
     ]
    }
   ],
   "source": [
    "% celplot() nie jest dostępne w Octave\n",
    "cellplot(x)"
   ]
  },
  {
   "cell_type": "markdown",
   "metadata": {
    "slideshow": {
     "slide_type": "slide"
    }
   },
   "source": [
    "## Funkcje macierzowe\n",
    "\n",
    "* wiele funkcji i operacji macierzowych działa również na komórkach\n",
    "* `iscell()` spradza, cze zmienna jest typu cell"
   ]
  },
  {
   "cell_type": "code",
   "execution_count": 82,
   "metadata": {},
   "outputs": [
    {
     "name": "stdout",
     "output_type": "stream",
     "text": [
      "w =  2\n",
      "k =  2\n",
      "y =\n",
      "{\n",
      "  [1,1] =  42\n",
      "  [2,1] = A\n",
      "  [1,2] =\n",
      "\n",
      "      1    4    7   10\n",
      "\n",
      "  [2,2] = Matlab\n",
      "}\n",
      "\n",
      "x{1,1} = \n",
      "\n",
      " 42\n",
      "\n",
      "x{2,1} = \n",
      "\n",
      "    1    4    7   10\n",
      "\n",
      "x{1,2} = \n",
      "\n",
      "A\n",
      "\n",
      "x{2,2} = \n",
      "\n",
      "Matlab\n",
      "\n",
      "ans =\n",
      "{\n",
      "  [1,1] =  42\n",
      "  [1,2] =\n",
      "\n",
      "      1    4    7   10\n",
      "\n",
      "  [1,3] = A\n",
      "  [1,4] = Matlab\n",
      "}\n",
      "\n",
      "x =\n",
      "{\n",
      "  [1,1] =\n",
      "\n",
      "      1    4    7   10\n",
      "\n",
      "  [1,2] = Matlab\n",
      "}\n",
      "\n",
      "x{1} = \n",
      "\n",
      "    1    4    7   10\n",
      "\n",
      "x{2} = \n",
      "\n",
      "Matlab\n",
      "\n",
      "'celldisp' is a function from the file /usr/share/octave/5.2.0/m/general/celldisp.m\n",
      "\n",
      " -- celldisp (C)\n",
      " -- celldisp (C, NAME)\n",
      "     Recursively display the contents of a cell array.\n",
      "\n",
      "     By default the values are displayed with the name of the variable\n",
      "     C.  However, this name can be replaced with the variable NAME.  For\n",
      "     example:\n",
      "\n",
      "          c = {1, 2, {31, 32}};\n",
      "          celldisp (c, \"b\")\n",
      "             =>\n",
      "                b{1} =\n",
      "                 1\n",
      "                b{2} =\n",
      "                 2\n",
      "                b{3}{1} =\n",
      "                 31\n",
      "                b{3}{2} =\n",
      "                 32\n",
      "\n",
      "     See also: disp.\n",
      "\n",
      "Additional help for built-in functions and operators is\n",
      "available in the online version of the manual.  Use the command\n",
      "'doc <topic>' to search the manual index.\n",
      "\n",
      "Help and information about Octave is also available on the WWW\n",
      "at https://www.octave.org and via the help@octave.org\n",
      "mailing list.\n"
     ]
    }
   ],
   "source": [
    "x = { 42, 'A'; 1:3:10, 'Matlab'};\n",
    "\n",
    "% rozmiar\n",
    "[w k] = size(x)\n",
    "\n",
    "% transpozycja\n",
    "y = x'\n",
    "celldisp(x)\n",
    "\n",
    "% zmiana kształtu\n",
    "reshape(x, [1, 4])\n",
    "\n",
    "% usuwanie elementów\n",
    "x(1, :) = []\n",
    "celldisp(x)\n",
    "\n",
    "help celldisp"
   ]
  },
  {
   "cell_type": "markdown",
   "metadata": {
    "slideshow": {
     "slide_type": "slide"
    }
   },
   "source": [
    "## Macierz komórkowa z napisami\n",
    "\n",
    "* w obiekcie typu cell mozna przechowywać napisy o różnej długości"
   ]
  },
  {
   "cell_type": "code",
   "execution_count": 86,
   "metadata": {},
   "outputs": [
    {
     "name": "stdout",
     "output_type": "stream",
     "text": [
      "tekst =\r\n",
      "{\r\n",
      "  [1,1] = Ala ma kota\r\n",
      "  [1,2] = Siała baba mak\r\n",
      "  [1,3] = Matlab\r\n",
      "}\r\n",
      "\r\n"
     ]
    }
   ],
   "source": [
    "tekst = {'Ala ma kota', 'Siała baba mak', 'Matlab'} "
   ]
  },
  {
   "cell_type": "markdown",
   "metadata": {},
   "source": [
    "* `cellstr()` zamiana tablicy znakowej na znakową macierz komórkową. Wypełniające blanki zostają usunięte.\n",
    "* `char()`  zamiana macierzy komórkowej na znakową\n",
    "* `iscellstr()` sprawdza, czy macierz jest macierzą komórkową z napisami "
   ]
  },
  {
   "cell_type": "code",
   "execution_count": 101,
   "metadata": {},
   "outputs": [
    {
     "name": "stdout",
     "output_type": "stream",
     "text": [
      "x =\n",
      "\n",
      "raz   \n",
      "dwa   \n",
      "trzy  \n",
      "cztery\n",
      "\n",
      "y =\n",
      "{\n",
      "  [1,1] = raz\n",
      "  [2,1] = dwa\n",
      "  [3,1] = trzy\n",
      "  [4,1] = cztery\n",
      "}\n",
      "\n",
      "Variables in the current scope:\n",
      "\n",
      "   Attr Name        Size                     Bytes  Class\n",
      "   ==== ====        ====                     =====  ===== \n",
      "        x           4x6                         24  char\n",
      "        y           4x1                         16  cell\n",
      "\n",
      "Total is 28 elements using 40 bytes\n",
      "\n",
      "\n"
     ]
    },
    {
     "name": "stderr",
     "output_type": "stream",
     "text": [
      "\u001b[0;31mContinuation prompt found - input was incomplete:\n",
      "x = char('raz', 'dwa', 'trzy', 'cztery')\n",
      "y = cellstr(x)\n",
      "whos x y\n",
      "sprintf('Dlugosc napisu %s wynosi %d\\n', x(1,:), length(x(1, :))\n",
      "% fprintf('Dlugosc napisu %s wynosi %d\\n', y(1), length(y{1}))\n",
      "% length(y{1})\n",
      "\u001b[0m"
     ]
    }
   ],
   "source": [
    "x = char('raz', 'dwa', 'trzy', 'cztery')\n",
    "y = cellstr(x)\n",
    "whos x y\n",
    "sprintf('Dlugosc napisu %s wynosi %d\\n', x(1,:), length(x(1, :))\n",
    "% fprintf('Dlugosc napisu %s wynosi %d\\n', y(1), length(y{1}))\n",
    "% length(y{1})\n",
    "\n"
   ]
  },
  {
   "cell_type": "code",
   "execution_count": 105,
   "metadata": {},
   "outputs": [
    {
     "name": "stdout",
     "output_type": "stream",
     "text": [
      "x =\n",
      "\n",
      "raz   \n",
      "dwa   \n",
      "trzy  \n",
      "cztery\n",
      "\n",
      "ans =\n",
      "\n",
      "   4   6\n",
      "\n"
     ]
    }
   ],
   "source": [
    "tekst = {'raz', 'dwa', 'trzy', 'cztery'};\n",
    "x = char(tekst)\n",
    "size(x)\n",
    "whos x"
   ]
  },
  {
   "cell_type": "code",
   "execution_count": 109,
   "metadata": {},
   "outputs": [
    {
     "name": "stdout",
     "output_type": "stream",
     "text": [
      "Variables in the current scope:\n",
      "\n",
      "   Attr Name        Size                     Bytes  Class\n",
      "   ==== ====        ====                     =====  ===== \n",
      "        tekst       1x4                         16  cell\n",
      "        s           4x6                         24  char\n",
      "\n",
      "Total is 28 elements using 40 bytes\n",
      "\n",
      "a = 1\n",
      "b = 0\n"
     ]
    }
   ],
   "source": [
    "tekst = {'raz', 'dwa', 'trzy', 'cztery'};\n",
    "s = char(tekst);\n",
    "\n",
    "whos tekst s\n",
    "\n",
    "a = iscellstr(tekst)\n",
    "b = iscellstr(s)\n",
    "c = iscellstr({1 , 'A', 'Ala'})\n"
   ]
  },
  {
   "cell_type": "markdown",
   "metadata": {},
   "source": [
    "**Ćwiczenie**: utwórz tablicę komórkową zawierająca listę imion (np. Ala, Ewa, Janek), drugą zawierająca listę czasowników (np. lubi, je, czyta) i trzecia zawierającą rzeczowniki (np. kamienie, kotlety, koty).  Napisz wyrażenie (lub funkcję), które tworzy zdania losując po jednym wyrazie z każdego zbioru (np. Ala lubi koty)"
   ]
  },
  {
   "cell_type": "markdown",
   "metadata": {
    "slideshow": {
     "slide_type": "slide"
    }
   },
   "source": [
    "## Struktury\n",
    "\n",
    "* funkcja `struct()` pozwala tworzyć struktury. Argumentami funkcji są kolejne pary określające nazwę pola i wartość\n",
    "* struktyry posiadają nazwane **pola** przechowujące wartości dowolnego typu\n",
    "* `struktura.pole` dostęp do pól struktury za pomocą kropki\n"
   ]
  },
  {
   "cell_type": "code",
   "execution_count": 138,
   "metadata": {},
   "outputs": [
    {
     "name": "stdout",
     "output_type": "stream",
     "text": [
      "s =\n",
      "\n",
      "  1x3 struct array containing the fields:\n",
      "\n",
      "    liczba\n",
      "    nazwa\n",
      "    tablica\n",
      "    komórka\n",
      "\n",
      "s =\n",
      "\n",
      "  1x3 struct array containing the fields:\n",
      "\n",
      "    liczba\n",
      "    nazwa\n",
      "    tablica\n",
      "    komórka\n",
      "\n"
     ]
    }
   ],
   "source": [
    "s = struct('liczba', 42, 'nazwa', 'Matlab', 'tablica', 1:2:10, 'komórka', {1, 2, 3})\n",
    "s\n",
    "whos s   % ta struktura jest macierza 1x1"
   ]
  },
  {
   "cell_type": "code",
   "execution_count": 135,
   "metadata": {},
   "outputs": [
    {
     "name": "stdout",
     "output_type": "stream",
     "text": [
      "ans =  42\n",
      "ans =  42\n",
      "ans =  42\n",
      "ans = Matlab\n",
      "ans = Matlab\n",
      "ans = Matlab\n",
      "ans =\n",
      "\n",
      "   1   3   5   7   9\n",
      "\n",
      "ans =\n",
      "\n",
      "   1   3   5   7   9\n",
      "\n",
      "ans =\n",
      "\n",
      "   1   3   5   7   9\n",
      "\n"
     ]
    },
    {
     "name": "stderr",
     "output_type": "stream",
     "text": [
      "\u001b[0;31mInline plot failed, consider trying another graphics toolkit\n",
      "parse error:\r\n",
      "\r\n",
      "  syntax error\r\n",
      "\r\n",
      ">>> s.komórka\r\n",
      "         ^\r\n",
      "\r\n",
      "\n",
      "\u001b[0m"
     ]
    }
   ],
   "source": [
    "s.liczba\n",
    "\n",
    "\n",
    "s.nazwa \n",
    "s.tablica \n",
    "s.komórka"
   ]
  },
  {
   "cell_type": "markdown",
   "metadata": {},
   "source": [
    "* struktury można też tworzyć przypisując wartości polom struktury "
   ]
  },
  {
   "cell_type": "code",
   "execution_count": 143,
   "metadata": {},
   "outputs": [
    {
     "name": "stdout",
     "output_type": "stream",
     "text": [
      "Variables in the current scope:\n",
      "\n",
      "   Attr Name           Size                     Bytes  Class\n",
      "   ==== ====           ====                     =====  ===== \n",
      "        struktura      1x1                          8  struct\n",
      "\n",
      "Total is 1 element using 8 bytes\n",
      "\n",
      "  scalar structure containing the fields:\n",
      "\n",
      "    pole =  5\n"
     ]
    }
   ],
   "source": [
    "struktura.pole = 5;\n",
    "whos struktura\n",
    "disp(struktura)\n",
    "disp(struktura.pole)\n"
   ]
  },
  {
   "cell_type": "markdown",
   "metadata": {
    "slideshow": {
     "slide_type": "slide"
    }
   },
   "source": [
    "* `rmfield(s, n)` usuwa ze sruktury `s` pole o nazwie `n`\n",
    "* `isstruct(s)` spradza, czy `s` jest strukturą\n",
    "* `isfield(s, n)` sprawdza, czy pole o nazwie `n` znajduje się w strukturze `s`\n",
    "* `fieldnames(s)` zwraca listę (cell array) nazw pól\n",
    "\n"
   ]
  },
  {
   "cell_type": "code",
   "execution_count": 152,
   "metadata": {
    "slideshow": {
     "slide_type": "-"
    }
   },
   "outputs": [
    {
     "name": "stdout",
     "output_type": "stream",
     "text": [
      "  scalar structure containing the fields:\n",
      "\n",
      "    liczba =  42\n",
      "    nazwa = Matlab\n",
      "    macierz =\n",
      "\n",
      "       0.786267   0.232297   0.468824   0.788395   0.450492\n",
      "       0.412865   0.417000   0.693545   0.610671   0.646716\n",
      "       0.357981   0.514515   0.065028   0.130114   0.837624\n",
      "       0.206918   0.355553   0.246660   0.815622   0.084412\n",
      "       0.034342   0.915617   0.024297   0.974501   0.888532\n",
      "\n",
      "nazwy =\n",
      "{\n",
      "  [1,1] = liczba\n",
      "  [2,1] = nazwa\n",
      "  [3,1] = macierz\n",
      "}\n",
      "\n"
     ]
    }
   ],
   "source": [
    "s = struct('liczba', 42, 'nazwa', 'Matlab', 'macierz', rand(5));\n",
    "disp(s)\n",
    "\n",
    "nazwy = fieldnames(s)\n",
    "disp(nazwy)"
   ]
  },
  {
   "cell_type": "code",
   "execution_count": 149,
   "metadata": {
    "slideshow": {
     "slide_type": "-"
    }
   },
   "outputs": [
    {
     "name": "stdout",
     "output_type": "stream",
     "text": [
      "  scalar structure containing the fields:\n",
      "\n",
      "    liczba =  42\n",
      "    nazwa = Matlab\n",
      "    macierz =\n",
      "\n",
      "       0.744544   0.403936   0.317031   0.371388   0.961494\n",
      "       0.032316   0.262667   0.057570   0.368793   0.902559\n",
      "       0.427680   0.226120   0.804888   0.987200   0.443375\n",
      "       0.723390   0.051866   0.459907   0.330884   0.468431\n",
      "       0.040685   0.992671   0.263255   0.566949   0.813592\n",
      "\n",
      "ans =\n",
      "\n",
      "  scalar structure containing the fields:\n",
      "\n",
      "    liczba =  42\n",
      "    nazwa = Matlab\n",
      "\n",
      "  scalar structure containing the fields:\n",
      "\n",
      "    liczba =  42\n",
      "    nazwa = Matlab\n",
      "    macierz =\n",
      "\n",
      "       0.744544   0.403936   0.317031   0.371388   0.961494\n",
      "       0.032316   0.262667   0.057570   0.368793   0.902559\n",
      "       0.427680   0.226120   0.804888   0.987200   0.443375\n",
      "       0.723390   0.051866   0.459907   0.330884   0.468431\n",
      "       0.040685   0.992671   0.263255   0.566949   0.813592\n",
      "\n",
      "error: 'rmfields' undefined near line 1 column 5\n"
     ]
    }
   ],
   "source": [
    "rmfield(s, 'macierz')\n",
    "disp(s)\n",
    "\n",
    "% podstawiamy wynik \n",
    "s = rmfields(s, 'macierz')\n",
    "disp(s)"
   ]
  },
  {
   "cell_type": "code",
   "execution_count": null,
   "metadata": {},
   "outputs": [],
   "source": [
    "a = isfield(s, 'liczba')\n",
    "b = isfield(s, 'xxx')"
   ]
  },
  {
   "cell_type": "code",
   "execution_count": 155,
   "metadata": {},
   "outputs": [
    {
     "name": "stdout",
     "output_type": "stream",
     "text": [
      "a = 1\n",
      "b = 0\n",
      "ans =  42\n"
     ]
    }
   ],
   "source": [
    "\n",
    "s.('liczba')\n"
   ]
  },
  {
   "cell_type": "markdown",
   "metadata": {
    "slideshow": {
     "slide_type": "slide"
    }
   },
   "source": [
    "## Wektory i macierze struktur\n",
    "\n",
    "* struktury moga byc elementami wektorów i macierzy (struct array)\n"
   ]
  },
  {
   "cell_type": "code",
   "execution_count": 160,
   "metadata": {},
   "outputs": [
    {
     "name": "stdout",
     "output_type": "stream",
     "text": [
      "sm =\n",
      "\n",
      "  scalar structure containing the fields:\n",
      "\n",
      "    pole =  5\n",
      "\n",
      "sm =\n",
      "\n",
      "  1x2 struct array containing the fields:\n",
      "\n",
      "    pole\n",
      "\n"
     ]
    }
   ],
   "source": [
    "sm(1).pole = 5\n",
    "sm(2).pole = 42\n",
    "whos sm\n",
    "\n"
   ]
  },
  {
   "cell_type": "code",
   "execution_count": 161,
   "metadata": {},
   "outputs": [
    {
     "name": "stdout",
     "output_type": "stream",
     "text": [
      "sa =\n",
      "\n",
      "  1x10 struct array containing the fields:\n",
      "\n",
      "    pole\n",
      "\n",
      "Variables in the current scope:\n",
      "\n",
      "   Attr Name        Size                     Bytes  Class\n",
      "   ==== ====        ====                     =====  ===== \n",
      "        sa          1x10                         8  struct\n",
      "\n",
      "Total is 10 elements using 8 bytes\n",
      "\n"
     ]
    }
   ],
   "source": [
    "# prealokacja macierzy strukrur przez zdefiniowanie ostatniego elementu\n",
    "\n",
    "sa(10).pole = 3\n",
    "whos sa\n",
    "disp(sa)"
   ]
  },
  {
   "cell_type": "code",
   "execution_count": 165,
   "metadata": {},
   "outputs": [
    {
     "name": "stdout",
     "output_type": "stream",
     "text": [
      "sb =\n",
      "\n",
      "  10x10 struct array containing the fields:\n",
      "\n",
      "    pole\n",
      "\n",
      "Variables in the current scope:\n",
      "\n",
      "   Attr Name        Size                     Bytes  Class\n",
      "   ==== ====        ====                     =====  ===== \n",
      "        sb         10x10                         8  struct\n",
      "\n",
      "Total is 100 elements using 8 bytes\n",
      "\n",
      "  10x10 struct array containing the fields:\n",
      "\n",
      "    pole\n",
      "a = [](0x0)\n"
     ]
    }
   ],
   "source": [
    "sb(10,10).pole = 5\n",
    "whos sb\n",
    "disp(sb)\n",
    "a = sb(1,1).pole\n",
    "b = sb(:, 1).pole"
   ]
  },
  {
   "cell_type": "code",
   "execution_count": 172,
   "metadata": {},
   "outputs": [
    {
     "name": "stdout",
     "output_type": "stream",
     "text": [
      "s3 =\n",
      "\n",
      "  2x3 struct array containing the fields:\n",
      "\n",
      "    pole\n",
      "    nazwa\n",
      "\n",
      "Variables in the current scope:\n",
      "\n",
      "   Attr Name        Size                     Bytes  Class\n",
      "   ==== ====        ====                     =====  ===== \n",
      "        s3          2x3                         84  struct\n",
      "\n",
      "Total is 6 elements using 84 bytes\n",
      "\n",
      "  2x3 struct array containing the fields:\n",
      "\n",
      "    pole\n",
      "    nazwa\n",
      "ans =\n",
      "\n",
      "   2   3\n",
      "\n",
      "a =  42\n",
      "ans =  42\n",
      "ans =  42\n",
      "ans =  42\n",
      "ans =  42\n",
      "ans =  42\n",
      "ans =  42\n"
     ]
    }
   ],
   "source": [
    "% alokacja macierzy struktur za pomocą funkcji repmat\n",
    "s3 = repmat(struct('pole', 42, 'nazwa', 'Matlab'), 2, 3)\n",
    "whos s3\n",
    "disp(s3)\n",
    "size(s3)\n",
    "a = s3(1, 2).pole\n",
    "s3.pole\n",
    "whos a"
   ]
  },
  {
   "cell_type": "code",
   "execution_count": 174,
   "metadata": {},
   "outputs": [
    {
     "name": "stdout",
     "output_type": "stream",
     "text": [
      "a =\n",
      "\n",
      "   42   42   42   42   42   42\n",
      "\n",
      "Variables in the current scope:\n",
      "\n",
      "   Attr Name        Size                     Bytes  Class\n",
      "   ==== ====        ====                     =====  ===== \n",
      "        a           1x6                         48  double\n",
      "\n",
      "Total is 6 elements using 48 bytes\n",
      "\n"
     ]
    }
   ],
   "source": [
    "% umieszczenie wartości pól w wektorze\n",
    "a = [ s3.pole ]\n",
    "whos a\n",
    "size(a)"
   ]
  },
  {
   "cell_type": "markdown",
   "metadata": {
    "slideshow": {
     "slide_type": "slide"
    }
   },
   "source": [
    "## Zagnieżdzone struktury\n",
    "\n",
    "* polami struktur moga być dowolne zmienne, w tym inne struktury"
   ]
  },
  {
   "cell_type": "code",
   "execution_count": 178,
   "metadata": {},
   "outputs": [
    {
     "name": "stdout",
     "output_type": "stream",
     "text": [
      "st =\n",
      "\n",
      "  scalar structure containing the fields:\n",
      "\n",
      "    pole1 =\n",
      "\n",
      "      scalar structure containing the fields:\n",
      "\n",
      "        a =  13\n",
      "        b =  14\n",
      "\n",
      "    pole2 =\n",
      "\n",
      "      scalar structure containing the fields:\n",
      "\n",
      "        x = -1\n",
      "\n",
      "\n",
      "  scalar structure containing the fields:\n",
      "\n",
      "    pole1 =\n",
      "\n",
      "      scalar structure containing the fields:\n",
      "\n",
      "        a =  13\n",
      "        b =  14\n",
      "\n",
      "    pole2 =\n",
      "\n",
      "      scalar structure containing the fields:\n",
      "\n",
      "        x = -1\n",
      "\n",
      "a =\n",
      "\n",
      "  scalar structure containing the fields:\n",
      "\n",
      "    a =  13\n",
      "    b =  14\n",
      "\n"
     ]
    }
   ],
   "source": [
    "st = struct('pole1', struct('a', 13, 'b', 14), 'pole2', struct('x', -1))\n",
    "disp(st)\n",
    "\n",
    "% pole 1 jest strukturą\n",
    "a = st.pole1\n",
    "\n",
    "% struktura w polu1 ma pole 'a'\n",
    "b = st.pole1.a\n"
   ]
  },
  {
   "cell_type": "markdown",
   "metadata": {},
   "source": [
    "**Ćwiczenie** zaprojektuj i utwórz strukturę, która będzie przechowywała dane dotyczące studenta, takie jak: imię, nazwisko, data urodzenia (data zawiera osobne wartości: dzień, miesiąc, rok), miejsce zamieszkania (adres zawiera pola: ulica, numer domu, kod pocztowy, kraj). "
   ]
  },
  {
   "cell_type": "markdown",
   "metadata": {},
   "source": [
    "* `cell2struct()`\n",
    "* `struct2cell()`"
   ]
  }
 ],
 "metadata": {
  "celltoolbar": "Slideshow",
  "kernelspec": {
   "display_name": "Octave",
   "language": "octave",
   "name": "octave"
  },
  "language_info": {
   "file_extension": ".m",
   "help_links": [
    {
     "text": "GNU Octave",
     "url": "https://www.gnu.org/software/octave/support.html"
    },
    {
     "text": "Octave Kernel",
     "url": "https://github.com/Calysto/octave_kernel"
    },
    {
     "text": "MetaKernel Magics",
     "url": "https://metakernel.readthedocs.io/en/latest/source/README.html"
    }
   ],
   "mimetype": "text/x-octave",
   "name": "octave",
   "version": "5.2.0"
  },
  "toc": {
   "base_numbering": 1,
   "nav_menu": {},
   "number_sections": true,
   "sideBar": true,
   "skip_h1_title": false,
   "title_cell": "Table of Contents",
   "title_sidebar": "Contents",
   "toc_cell": false,
   "toc_position": {},
   "toc_section_display": true,
   "toc_window_display": false
  },
  "varInspector": {
   "cols": {
    "lenName": 16,
    "lenType": 16,
    "lenVar": 40
   },
   "kernels_config": {
    "python": {
     "delete_cmd_postfix": "",
     "delete_cmd_prefix": "del ",
     "library": "var_list.py",
     "varRefreshCmd": "print(var_dic_list())"
    },
    "r": {
     "delete_cmd_postfix": ") ",
     "delete_cmd_prefix": "rm(",
     "library": "var_list.r",
     "varRefreshCmd": "cat(var_dic_list()) "
    }
   },
   "types_to_exclude": [
    "module",
    "function",
    "builtin_function_or_method",
    "instance",
    "_Feature"
   ],
   "window_display": false
  }
 },
 "nbformat": 4,
 "nbformat_minor": 4
}
