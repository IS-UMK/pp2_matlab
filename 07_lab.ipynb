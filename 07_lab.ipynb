{
 "cells": [
  {
   "cell_type": "markdown",
   "metadata": {
    "slideshow": {
     "slide_type": "slide"
    }
   },
   "source": [
    "# Macierze komórkowe i struktury\n",
    "\n",
    "* elementami macierzy są wartości tego samego typu (bool, int, double, char)\n",
    "* struktury danych heterogeniczne - pozwalające gromadzić elementy róznych typów:\n",
    "  * **struktura** (*struct*) - wartości dostępne są w nazwanych **polach**\n",
    "  * **macierz komurkowa** (*cell array*) - wartości zorganizowane są w macierzy, elementy dostępne są za pomocą indeksów liczbowych\n"
   ]
  },
  {
   "cell_type": "markdown",
   "metadata": {
    "slideshow": {
     "slide_type": "slide"
    }
   },
   "source": [
    "## Komórka - obiekt typu `cell`"
   ]
  },
  {
   "cell_type": "code",
   "execution_count": null,
   "metadata": {},
   "outputs": [],
   "source": [
    "# komórka (cell) zawierająca liczbę calkowitą 42\n",
    "a = { 42 }\n",
    "\n",
    "# komórka (cell) zawierająca znak 'A'\n",
    "b = { 'A' }\n",
    "\n",
    "# komórka z napisem \n",
    "c = { 'Siała baba mak' }\n",
    "\n",
    "whos a b c"
   ]
  },
  {
   "cell_type": "markdown",
   "metadata": {
    "slideshow": {
     "slide_type": "slide"
    }
   },
   "source": [
    "## Wektory i macierze komórkowe\n",
    " "
   ]
  },
  {
   "cell_type": "code",
   "execution_count": null,
   "metadata": {
    "slideshow": {
     "slide_type": "-"
    }
   },
   "outputs": [],
   "source": [
    "# wektor komórkowey wierszowy\n",
    "c = { 42, 'A', 1:3:10, 'Witaj'} \n",
    "whos c"
   ]
  },
  {
   "cell_type": "code",
   "execution_count": null,
   "metadata": {},
   "outputs": [],
   "source": [
    "# wektor kolumnowy\n",
    "c = { 42; 'A'; 1:3:10; 'Witaj'} \n",
    "size(c)"
   ]
  },
  {
   "cell_type": "code",
   "execution_count": null,
   "metadata": {
    "slideshow": {
     "slide_type": "slide"
    }
   },
   "outputs": [],
   "source": [
    "# macierz komórkowa 2x2\n",
    "c = { 42, 'A'; 1:3:10, 'Witaj'} \n",
    "size(c)"
   ]
  },
  {
   "cell_type": "code",
   "execution_count": null,
   "metadata": {},
   "outputs": [],
   "source": [
    "# elementami macierzy komórkowej moga być macierze komórkowe\n",
    "d = { c , c ; 1, 'A'}\n",
    "whos d"
   ]
  },
  {
   "cell_type": "markdown",
   "metadata": {
    "slideshow": {
     "slide_type": "slide"
    }
   },
   "source": [
    "## Alokacja pustej macierzy komórkowej\n",
    "\n",
    "* podobnie jak w przypadku zwykłych macierzy zalecane jest wczesniejsze zaalokowanie macierzy komórkowej (rozrzeczanie dynamiczen rozmiaru jest mniej efektywne)\n",
    "* funkcja `cell(N, M)` tworzy pustą macierz komórkową o wymiarach `NxM`"
   ]
  },
  {
   "cell_type": "code",
   "execution_count": null,
   "metadata": {
    "slideshow": {
     "slide_type": "-"
    }
   },
   "outputs": [],
   "source": [
    "## pusta macierz - prealikacja macierzy komórkowej\n",
    "x = cell(2, 3)\n",
    "whos x"
   ]
  },
  {
   "cell_type": "code",
   "execution_count": null,
   "metadata": {},
   "outputs": [],
   "source": [
    "# ewentualnie można utworzyć macierz inicjując jej najdalszy element\n",
    "y{2,3} = []"
   ]
  },
  {
   "cell_type": "markdown",
   "metadata": {
    "slideshow": {
     "slide_type": "slide"
    }
   },
   "source": [
    "**Ćwiczenie:** utwórz macierz komórkową o wymiarach 2x3 zawierającą 6 nastepujących elementów:\n",
    "* dzisiejsza data (zob. polecenie `data`)\n",
    "* tablica 2-elementowa zawierająca aktualną godzinę i minutę (zob. polecenie `clock`)\n",
    "* macierz jednostkowa o wymiarach 10x10 \n",
    "* napis \"Witaj Świcie\"\n",
    "* wektor wierszowy zawierający liczby calkowite od 1 do 100\n",
    "* wektor 6 losowych liczb całkowitych z puli od 1 do 49 (wyniki losowanoa lotto) w kolejnosci rosnącej (zob. funkcję `randi`)\n",
    "\n"
   ]
  },
  {
   "cell_type": "markdown",
   "metadata": {
    "slideshow": {
     "slide_type": "slide"
    }
   },
   "source": [
    "## Indeksowanie elementów obiektu typu cell\n",
    "\n",
    "* nawiasy klamrowe `{i, j}` dają dostęp do wartości umieszczonych w komórkach\n",
    "* nawiasy okrągłe `(i, j)` dają dostęp do komórek (wynik jest obiektem typu cell)"
   ]
  },
  {
   "cell_type": "code",
   "execution_count": null,
   "metadata": {
    "slideshow": {
     "slide_type": "-"
    }
   },
   "outputs": [],
   "source": [
    "x = { 42, 'A'; 1:3:10, 'Witaj'};\n",
    "\n",
    "% indeksowanie wartości (1,1)\n",
    "a = x{1,1}\n",
    "\n",
    "% indeksowanie komórek\n",
    "b = x(1,1)\n",
    "whos a b"
   ]
  },
  {
   "cell_type": "code",
   "execution_count": null,
   "metadata": {
    "slideshow": {
     "slide_type": "slide"
    }
   },
   "outputs": [],
   "source": [
    "x = { 42, 'A'; 1:3:10, 'Witaj'};\n",
    "\n",
    "% elementem {2,1} jest wektor \n",
    "a = x{2,1}\n",
    "\n",
    "% element 1 wektora z komórki x{2,1}\n",
    "c = x{2, 1}(1)   "
   ]
  },
  {
   "cell_type": "code",
   "execution_count": null,
   "metadata": {
    "slideshow": {
     "slide_type": "slide"
    }
   },
   "outputs": [],
   "source": [
    "% elementem (2,1) jest komórka zawierająca wektor\n",
    "b = x(2, 1)\n",
    "\n",
    "% element 1 wektora znajdującago się w pierwszej komórce znajdującej się w x(2,1) \n",
    "d = x(2, 1){1}(1)\n",
    "whos a b c d"
   ]
  },
  {
   "cell_type": "markdown",
   "metadata": {
    "slideshow": {
     "slide_type": "slide"
    }
   },
   "source": [
    "## Ineksowanie za pomoca dwukropka :"
   ]
  },
  {
   "cell_type": "code",
   "execution_count": null,
   "metadata": {},
   "outputs": [],
   "source": [
    "x = { 42, 'A', 1:3:10, 'Matlab'};\n",
    "\n",
    "# pierwsze 3 elementy - 3 różne zmienne ans\n",
    "x{1:3}"
   ]
  },
  {
   "cell_type": "code",
   "execution_count": null,
   "metadata": {},
   "outputs": [],
   "source": [
    "% wynik można podstawić do 3 róznych zmiennych\n",
    "[a b c] = x{1:3}\n",
    "\n",
    "whos a b c"
   ]
  },
  {
   "cell_type": "code",
   "execution_count": null,
   "metadata": {
    "slideshow": {
     "slide_type": "slide"
    }
   },
   "outputs": [],
   "source": [
    "% wynikiem x(1:3) nowa macierz komórkowa\n",
    "x(1:3)\n",
    "\n",
    "% wynikiem jest jedna zmienna\n",
    "a = x(1:3)\n",
    "whos a x"
   ]
  },
  {
   "cell_type": "code",
   "execution_count": null,
   "metadata": {
    "slideshow": {
     "slide_type": "slide"
    }
   },
   "outputs": [],
   "source": [
    "% indeksowanie podobne jak w macierzach\n",
    "x = { 42, 'A'; 1:3:10, 'Matlab'};\n",
    "\n",
    "% pierwsza kolumna\n",
    "a = x(1, :)\n",
    "\n",
    "% ostatni wiersz\n",
    "b = x(end, :)\n"
   ]
  },
  {
   "cell_type": "markdown",
   "metadata": {
    "slideshow": {
     "slide_type": "slide"
    }
   },
   "source": [
    "## Wyświetlanie zawartości komórek\n",
    "\n",
    "* `celldisp()` wypisuje zawartość kolejnych komórek\n",
    "* `cellplot()` wypisanie wartości w trybie graficznym (w oknie), brak w Octave"
   ]
  },
  {
   "cell_type": "code",
   "execution_count": null,
   "metadata": {},
   "outputs": [],
   "source": [
    "x = { 42, 'A'; 1:3:10, 'Matlab'};\n",
    "\n",
    "disp(x)\n",
    "celldisp(x)"
   ]
  },
  {
   "cell_type": "code",
   "execution_count": null,
   "metadata": {
    "slideshow": {
     "slide_type": "slide"
    }
   },
   "outputs": [],
   "source": [
    "% wyświetlanie rekurencyjne macierzy komórkowych zawierających inne macierze komórkowe\n",
    "y = {1, 2, x}\n",
    "celldisp(y)"
   ]
  },
  {
   "cell_type": "code",
   "execution_count": null,
   "metadata": {
    "slideshow": {
     "slide_type": "-"
    }
   },
   "outputs": [],
   "source": [
    "% celplot() nie jest dostępne w Octave\n",
    "cellplot(x)"
   ]
  },
  {
   "cell_type": "markdown",
   "metadata": {
    "slideshow": {
     "slide_type": "slide"
    }
   },
   "source": [
    "## Funkcje macierzowe\n",
    "\n",
    "* wiele funkcji i operacji macierzowych działa również na macierzach komórkowych (np. `reshape`, transpozycja)\n",
    "* `iscell()` spradza, czy zmienna jest typu cell"
   ]
  },
  {
   "cell_type": "code",
   "execution_count": null,
   "metadata": {},
   "outputs": [],
   "source": [
    "x = { 42, 'A'; 1:3:10, 'Matlab'};\n",
    "\n",
    "% rozmiar\n",
    "[w k] = size(x)\n",
    "\n",
    "% transpozycja\n",
    "y = x'"
   ]
  },
  {
   "cell_type": "code",
   "execution_count": null,
   "metadata": {},
   "outputs": [],
   "source": [
    "% zmiana kształtu\n",
    "reshape(x, [1, 4])\n",
    "\n",
    "% usuwanie elementów\n",
    "x(1, :) = []"
   ]
  },
  {
   "cell_type": "markdown",
   "metadata": {
    "slideshow": {
     "slide_type": "slide"
    }
   },
   "source": [
    "## Macierz komórkowa z napisami\n",
    "\n",
    "* w obiekcie typu cell mozna przechowywać napisy o różnej długości\n",
    "* jest to wygodny sposób przechowywania zbioru napisow (np. kolejnych linii tekstu)"
   ]
  },
  {
   "cell_type": "code",
   "execution_count": null,
   "metadata": {},
   "outputs": [],
   "source": [
    "tekst = {'Ala ma kota', 'Siała baba mak', 'Matlab'} "
   ]
  },
  {
   "cell_type": "markdown",
   "metadata": {
    "slideshow": {
     "slide_type": "slide"
    }
   },
   "source": [
    "## Przydatne funkcje\n",
    "\n",
    "* `cellstr()` zamiana tablicy znakowej na znakową macierz komórkową. Wypełniające blanki zostają usunięte.\n",
    "* `char()`  zamiana macierzy komórkowej na znakową\n",
    "* `iscellstr()` sprawdza, czy macierz jest macierzą komórkową z napisami "
   ]
  },
  {
   "cell_type": "code",
   "execution_count": null,
   "metadata": {},
   "outputs": [],
   "source": [
    "x = char('Ala', 'Ewa', 'Zenon')\n",
    "\n",
    "% utowrzenie macierzy komorkowej znakowej (3 napisy)\n",
    "y = cellstr(x)\n",
    "whos x y"
   ]
  },
  {
   "cell_type": "code",
   "execution_count": null,
   "metadata": {},
   "outputs": [],
   "source": [
    "disp(y{1})     % napis 'Ala'\n",
    "a = length(y{1})      \n",
    "\n",
    "disp(x(1, :))     % napis 'Ala  '  (2 spacje na koncu)\n",
    "b = length(x(1, :)) "
   ]
  },
  {
   "cell_type": "code",
   "execution_count": null,
   "metadata": {
    "scrolled": true,
    "slideshow": {
     "slide_type": "slide"
    }
   },
   "outputs": [],
   "source": [
    "tekst = {'Ala', 'Ewa', 'Zenon'};\n",
    "\n",
    "% utworzenie macierzy znakowaej 3x5\n",
    "x = char(tekst)\n",
    "whos x"
   ]
  },
  {
   "cell_type": "code",
   "execution_count": null,
   "metadata": {
    "slideshow": {
     "slide_type": "slide"
    }
   },
   "outputs": [],
   "source": [
    "tekst = {'raz', 'dwa', 'trzy', 'cztery'};\n",
    "s = char(tekst);\n",
    "\n",
    "whos tekst s\n",
    "\n",
    "% czy macierz komórkowa znakowa ?\n",
    "a = iscellstr(tekst)      \n",
    "b = iscellstr(s)\n",
    "c = iscellstr({1 , 'A', 'Ala'})\n"
   ]
  },
  {
   "cell_type": "markdown",
   "metadata": {
    "slideshow": {
     "slide_type": "slide"
    }
   },
   "source": [
    "**Ćwiczenie**: utwórz tablicę komórkową zawierająca listę imion (np. Ala, Ewa, Janek), drugą zawierająca listę czasowników (np. lubi, je, czyta) i trzecia zawierającą rzeczowniki (np. kamienie, kotlety, koty).  Napisz wyrażenie (lub funkcję), które tworzy zdania losując po jednym wyrazie z każdego zbioru (np. Ala lubi koty)"
   ]
  },
  {
   "cell_type": "markdown",
   "metadata": {
    "slideshow": {
     "slide_type": "slide"
    }
   },
   "source": [
    "## Struktury\n",
    "\n",
    "* struktyry posiadają nazwane **pola**, w których mozemy przechowywać zmienne dowolnego typu\n",
    "* `struktura.pole` dostęp do pól struktury uzyskujemy za pomocą kropki\n",
    "* możemy je tworzyć przypisując bezpośrednio wartość do pola\n",
    "* funkcja `struct()` pozwala tworzyć struktury. Argumentami funkcji są kolejne pary określające nazwę pola i wartość  \n",
    "`struct(nazwa1, wartosc1, nazwa2, wartość2, ...)`\n"
   ]
  },
  {
   "cell_type": "code",
   "execution_count": null,
   "metadata": {},
   "outputs": [],
   "source": [
    "# utowrzenie struktury za pomoca przypisania wartości\n",
    "s1.liczba = 42\n",
    "s1.nazwa = 'Matlab'\n",
    "s1.macierz = rand([2,3])"
   ]
  },
  {
   "cell_type": "code",
   "execution_count": null,
   "metadata": {},
   "outputs": [],
   "source": [
    "# utowrzenie struktury za pomoca funkcji struct()\n",
    "s2 = struct('liczba', 42, 'nazwa', 'Matlab', 'macierz', rand([2,3]))\n",
    "\n",
    "whos s1 s2   % ta struktura jest macierza 1x1"
   ]
  },
  {
   "cell_type": "markdown",
   "metadata": {
    "slideshow": {
     "slide_type": "slide"
    }
   },
   "source": [
    "## Przydatne funkcje\n",
    "\n",
    "* `rmfield(s, n)` usuwa ze sruktury `s` pole o nazwie `n`\n",
    "* `isstruct(s)` spradza, czy `s` jest strukturą\n",
    "* `isfield(s, n)` sprawdza, czy pole o nazwie `n` znajduje się w strukturze `s`\n",
    "* `fieldnames(s)` zwraca listę (cell array) nazw pól\n",
    "\n"
   ]
  },
  {
   "cell_type": "code",
   "execution_count": null,
   "metadata": {
    "slideshow": {
     "slide_type": "-"
    }
   },
   "outputs": [],
   "source": [
    "s = struct('liczba', 42, 'nazwa', 'Matlab', 'macierz', rand(5));\n",
    "disp(s)\n",
    "\n",
    "% nazwy pól struktury \n",
    "nazwy = fieldnames(s)"
   ]
  },
  {
   "cell_type": "code",
   "execution_count": null,
   "metadata": {
    "slideshow": {
     "slide_type": "slide"
    }
   },
   "outputs": [],
   "source": [
    "% nie modyfikuje struktury ale zwraca kopię\n",
    "rmfield(s, 'macierz') \n",
    "\n",
    "% aktualna zawartość struktury\n",
    "disp(s)"
   ]
  },
  {
   "cell_type": "code",
   "execution_count": null,
   "metadata": {
    "slideshow": {
     "slide_type": "-"
    }
   },
   "outputs": [],
   "source": [
    "% podstawiamy wynik aby zachować zmiany\n",
    "s = rmfield(s, 'macierz')\n",
    "disp(s)"
   ]
  },
  {
   "cell_type": "code",
   "execution_count": null,
   "metadata": {
    "slideshow": {
     "slide_type": "slide"
    }
   },
   "outputs": [],
   "source": [
    "% czy struktura zawiera pole o danej nazwie?\n",
    "a = isfield(s, 'liczba')\n",
    "b = isfield(s, 'xxx')"
   ]
  },
  {
   "cell_type": "markdown",
   "metadata": {
    "slideshow": {
     "slide_type": "slide"
    }
   },
   "source": [
    "Do pól struktury możemy odnosić się również używając nazw pól w postaci łańcuchów znakowych"
   ]
  },
  {
   "cell_type": "code",
   "execution_count": null,
   "metadata": {
    "slideshow": {
     "slide_type": "-"
    }
   },
   "outputs": [],
   "source": [
    "s = struct('liczba', 42, 'nazwa', 'Matlab', 'macierz', rand(5));\n",
    "\n",
    "% pole o nazwie 'liczba'\n",
    "a = s.('liczba')\n",
    "\n",
    "t = 'nazwa'\n",
    "% nazwa pola zawarta w zmiennej\n",
    "b = s.(t)\n",
    "\n",
    "n = fieldnames(s);\n",
    "\n",
    "for i=1:length(n)\n",
    "    fprintf('\\nPole o nazwie %s\\n', n{i})\n",
    "    disp(s.(n{i}))\n",
    "end"
   ]
  },
  {
   "cell_type": "markdown",
   "metadata": {
    "slideshow": {
     "slide_type": "slide"
    }
   },
   "source": [
    "## Wektory i macierze struktur\n",
    "\n",
    "* struktury moga byc elementami wektorów i macierzy (struct array)\n",
    "* tworzymy je odnosząc się do indeksów macierzy (tworzenie dynamiczne)\n",
    "* funkcja `repmat` pozwala utowrzyć macierz z kopiami struktury\n"
   ]
  },
  {
   "cell_type": "code",
   "execution_count": null,
   "metadata": {},
   "outputs": [],
   "source": [
    "sm(1).pole = 5\n",
    "sm(2).pole = 42\n",
    "\n",
    "whos sm"
   ]
  },
  {
   "cell_type": "code",
   "execution_count": null,
   "metadata": {},
   "outputs": [],
   "source": [
    "# prealokacja macierzy strukrur przez zdefiniowanie ostatniego elementu\n",
    "\n",
    "sa(10).pole = 3\n",
    "whos sa\n",
    "disp(sa)"
   ]
  },
  {
   "cell_type": "code",
   "execution_count": null,
   "metadata": {
    "slideshow": {
     "slide_type": "slide"
    }
   },
   "outputs": [],
   "source": [
    "% macierz 10x10 pustych elementów (tylko sb(10,10) jest strukturą z wartością pola 5 ) \n",
    "sb(10,10).pole = 5\n",
    "\n",
    "whos sb\n",
    "\n",
    "disp(sb)\n",
    "\n",
    "sb(1,1)\n",
    "sb(10,10)"
   ]
  },
  {
   "cell_type": "code",
   "execution_count": null,
   "metadata": {
    "slideshow": {
     "slide_type": "slide"
    }
   },
   "outputs": [],
   "source": [
    "% alokacja macierzy struktur za pomocą funkcji repmat\n",
    "s3 = repmat(struct('pole', 42, 'nazwa', 'Matlab'), 2, 3)\n",
    "\n",
    "whos s3\n",
    "disp(s3)\n",
    "\n",
    "a = s3(1, 2).pole\n",
    "s3.pole\n",
    "whos a"
   ]
  },
  {
   "cell_type": "markdown",
   "metadata": {
    "slideshow": {
     "slide_type": "slide"
    }
   },
   "source": [
    "Elementy pól wybranych struktur mogą być uzyte do utworzenia macierzy z tymi elementami"
   ]
  },
  {
   "cell_type": "code",
   "execution_count": null,
   "metadata": {
    "slideshow": {
     "slide_type": "-"
    }
   },
   "outputs": [],
   "source": [
    "% umieszczenie wartości pól struktury w wektorze\n",
    "a = [ s3.pole ]\n",
    "whos a\n",
    "size(a)"
   ]
  },
  {
   "cell_type": "markdown",
   "metadata": {
    "slideshow": {
     "slide_type": "slide"
    }
   },
   "source": [
    "## Zagnieżdzone struktury\n",
    "\n",
    "* polami struktur moga być dowolne zmienne, w tym inne struktury"
   ]
  },
  {
   "cell_type": "code",
   "execution_count": null,
   "metadata": {},
   "outputs": [],
   "source": [
    "st = struct('pole1', struct('a', 13, 'b', 14), 'pole2', struct('x', -1))\n",
    "disp(st)\n",
    "\n",
    "% pole 1 jest strukturą\n",
    "a = st.pole1\n",
    "\n",
    "% struktura w polu1 ma pole 'a'\n",
    "b = st.pole1.a\n"
   ]
  },
  {
   "cell_type": "markdown",
   "metadata": {
    "slideshow": {
     "slide_type": "slide"
    }
   },
   "source": [
    "**Ćwiczenie** zaprojektuj i utwórz strukturę, która będzie przechowywała dane dotyczące studenta, takie jak: imię, nazwisko, data urodzenia (data jest też strukturą zawierającą pola: dzień, miesiąc, rok), miejsce zamieszkania (adres zawiera pola: ulica, numer domu, kod pocztowy, kraj). Wprowadź przykładowe dane do struktury.\n",
    "\n",
    "Utwórz macierz 100x100 zawierającą kopie tej struktury w każdym elemencie."
   ]
  },
  {
   "cell_type": "markdown",
   "metadata": {
    "slideshow": {
     "slide_type": "slide"
    }
   },
   "source": [
    "## Zamiana struktury na macierz komórkową"
   ]
  },
  {
   "cell_type": "markdown",
   "metadata": {
    "slideshow": {
     "slide_type": "-"
    }
   },
   "source": [
    "* `cell2struct()`  zamiana macierzy komórkowej na strukturę\n",
    "* `struct2cell()`  zamiana struktury na macierz komórkową"
   ]
  },
  {
   "cell_type": "code",
   "execution_count": null,
   "metadata": {},
   "outputs": [],
   "source": [
    "c = {'A', 1, 'Ala', [12,3]};\n",
    "\n",
    "% utworzenie struktury z nazwami pól 'a', 'b', 'c', 'd'\n",
    "d = cell2struct(c, {'a', 'b', 'c', 'd'}, 2)\n",
    "disp(d)\n",
    "whos c d"
   ]
  },
  {
   "cell_type": "code",
   "execution_count": null,
   "metadata": {},
   "outputs": [],
   "source": [
    "% utworzenie macierzy komórkowej ze struktury\n",
    "e = struct2cell(d)\n",
    "disp(e)\n",
    "whos e"
   ]
  },
  {
   "cell_type": "markdown",
   "metadata": {
    "slideshow": {
     "slide_type": "slide"
    }
   },
   "source": [
    "## Zadanie 8. Licz znaki\n",
    "\n",
    "Stwórz plik o nazwie `licz_znaki.m` a w nim zdefiniuj funkcję o nazwe `licz_znaki()`, która dla podanego \n",
    "w argumencie napisu zwraca strukturę zawierającą nastepujące pola:\n",
    "* `znaki` zawiera ilość znaków w napisie\n",
    "* `litery` zawiera ilość liter (małych i duzych) w napisie\n",
    "* `wyrazy` zawiera ilość wyrazów w napisie (wyrazem jest dowolny ciąg znaków oddzielonych przynajmniej jedną spacją)\n",
    "\n",
    "Argumentem funkcji może być napis lub tablica komórkowa z napisami. Jeżeli argumentem jest pojedynczy napis to wynikiem jest pojedyncza struktura.\n",
    "Jeżeli argumentem jest tablica komórkowa znakowa to wynikiem jest macierz struktur o takim samym wymiarze jak tablica komórkowa dana w argumencie. \n",
    "Każdy element macierzy wynikowej zlicza wówczas znaki odpowiadającego elementowi macierzy komórkowej (zobacz przykład niżej)\n",
    "W przypadku, gdy funkcja zostanie uruchomiona z argumentami innego typu lub w przypadku gdy uzytkonik poda niepoprawną  ilość argumentów (różną od 1) to wypisywany jest stosowny komunikat błedu i program się kończy.\n",
    "\n",
    "**Przykład**\n",
    "\n",
    "Uruchomienie funkcji \n",
    "\n",
    "```\n",
    "x = licz_znaki('Ala ma kota')\n",
    "```\n",
    "zwróci strukturę zawierającą wartości:\n",
    "```\n",
    "x.znaki = 11\n",
    "x.litery = 9\n",
    "x.wyrazy = 3\n",
    "```\n",
    "\n",
    "Gdy argumentem będzie macierz komórkowa z napisami to wynikiem bedzie macierz struktur, np.:\n",
    "```\n",
    "a = { 'Ala ma kota', 'Matlab'};\n",
    "x = licz_znaki(a)\n",
    "```\n",
    "utowrzy zmienną `x`, która jest macierzą 1x2\n",
    "```\n",
    "x(1,1).znaki = 11\n",
    "x(1,1).litery = 9\n",
    "x(1,1).wyrazy = 3\n",
    "\n",
    "x(1,2).znaki = 6\n",
    "x(1,2).litery = 6\n",
    "x(1,2).wyrazy = 1\n",
    "```\n"
   ]
  }
 ],
 "metadata": {
  "celltoolbar": "Slideshow",
  "kernelspec": {
   "display_name": "Octave",
   "language": "octave",
   "name": "octave"
  },
  "language_info": {
   "file_extension": ".m",
   "help_links": [
    {
     "text": "GNU Octave",
     "url": "https://www.gnu.org/software/octave/support.html"
    },
    {
     "text": "Octave Kernel",
     "url": "https://github.com/Calysto/octave_kernel"
    },
    {
     "text": "MetaKernel Magics",
     "url": "https://metakernel.readthedocs.io/en/latest/source/README.html"
    }
   ],
   "mimetype": "text/x-octave",
   "name": "octave",
   "version": "5.2.0"
  },
  "toc": {
   "base_numbering": 1,
   "nav_menu": {},
   "number_sections": true,
   "sideBar": true,
   "skip_h1_title": false,
   "title_cell": "Table of Contents",
   "title_sidebar": "Contents",
   "toc_cell": false,
   "toc_position": {},
   "toc_section_display": true,
   "toc_window_display": false
  },
  "varInspector": {
   "cols": {
    "lenName": 16,
    "lenType": 16,
    "lenVar": 40
   },
   "kernels_config": {
    "python": {
     "delete_cmd_postfix": "",
     "delete_cmd_prefix": "del ",
     "library": "var_list.py",
     "varRefreshCmd": "print(var_dic_list())"
    },
    "r": {
     "delete_cmd_postfix": ") ",
     "delete_cmd_prefix": "rm(",
     "library": "var_list.r",
     "varRefreshCmd": "cat(var_dic_list()) "
    }
   },
   "types_to_exclude": [
    "module",
    "function",
    "builtin_function_or_method",
    "instance",
    "_Feature"
   ],
   "window_display": false
  }
 },
 "nbformat": 4,
 "nbformat_minor": 4
}
