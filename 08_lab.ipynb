{
 "cells": [
  {
   "cell_type": "markdown",
   "metadata": {
    "slideshow": {
     "slide_type": "slide"
    }
   },
   "source": [
    "# Operacje na plikach\n",
    "\n",
    "* funkcja ``load`` i ``save`` - wczytywanie i zapis zmiennych Matlaba\n",
    "* funkcja ``load`` odczytuje wiele formatów tekstowych (np.: ``dat``, ``csv``), dane jednego typu w postaci tabeli (identyczna ilość wartości w każdym wierszu)\n",
    "* funkcje specjalistyczne: ``imread`` , ``imwrite``, ``xlsread``, ``xlswrite``\n",
    "* ``importdata`` - wiele formatów (ASCII, csv, jpg, xls, ...)\n",
    "* dane w innym formacie -> operacje I/O niskopoziomowe  \n"
   ]
  },
  {
   "cell_type": "markdown",
   "metadata": {
    "slideshow": {
     "slide_type": "slide"
    }
   },
   "source": [
    "## Niskopoziomowe operacje na plikach\n",
    "\n",
    "Podstawowe kroki postepowania:\n",
    "\n",
    "1. Otworzenie pliku -> uzyskujemy deskryptor pliku \n",
    "2. Operacje na pliku przy użyciu deskryptora: odczyt sekwencji danych, zapis, ...\n",
    "3. Zamknięcie pliku"
   ]
  },
  {
   "cell_type": "markdown",
   "metadata": {
    "slideshow": {
     "slide_type": "slide"
    }
   },
   "source": [
    "## Otwieranie i zamykanie plików\n",
    "\n",
    "* ``fopen( 'nazwa', 'tryb' )`` otwiera plik o podanej nazwie.  \n",
    "W przypadku niepowodzenia funkcja zwraca wartość ``-1``.  \n",
    "Tryby:\n",
    "  * ``'r'`` odczyt (domyślna wartość)\n",
    "  * ``'w'`` zapis (poprzednia zawartość pliku zostaje skasowana)\n",
    "  * ``'a'`` dodawanie zawartości na końcu instniejącego pliku\n",
    "* ``fclose(fid)`` zamyka plik wskazany deskryptorem ``fid`` \n",
    "* ``fclose('all')`` zamyka wszystkie otworzone pliki\n",
    "  \n",
    "  \n",
    " "
   ]
  },
  {
   "cell_type": "code",
   "execution_count": null,
   "metadata": {
    "slideshow": {
     "slide_type": "-"
    }
   },
   "outputs": [],
   "source": [
    "fid = fopen('plik.txt', 'r');\n",
    "if fid == -1\n",
    "    disp('Problem z otworzeniem pliku')\n",
    "else\n",
    "    disp('OK. Otworzyłem plik')\n",
    "    fclose(fid)\n",
    "end"
   ]
  },
  {
   "cell_type": "markdown",
   "metadata": {
    "slideshow": {
     "slide_type": "slide"
    }
   },
   "source": [
    "## Operacje odczytu z pliku\n",
    "\n",
    "* ``fscanf(fid, 'format')`` wczytuje dane do macierzy zgodnie z zadanym formatem   \n",
    "``%f`` double, ``%d`` int, ``%s`` napis, ``%c`` znak. Znaki zamieniane są na wartości kodu ASCII \n",
    "* ``textscan(fid, 'format')`` wczytuje dane do macierzy komórkowej zgodnie z podanym formatem \n",
    "* ``fgets(fid)``, ``fgetl(fid)`` wczytują linię tekstu z pliku \n",
    "* ``feof(fid)`` czy koniec pliku?"
   ]
  },
  {
   "cell_type": "markdown",
   "metadata": {
    "slideshow": {
     "slide_type": "slide"
    }
   },
   "source": [
    "## fscanf\n",
    "\n",
    "* ``fscan(fid, 'format')`` wczytuje do macierzy wartości dopóki format jest zgodny lub do kóóńca pliku\n",
    "* jeśli wynikiem jest macierz liczb to ewentualne znaki zamieniane są na wartości kodu ASCII\n",
    "* ``%f`` i ``%d`` czyta kolejne liczby oddzielone białymi znakami (spacjami)\n",
    "* ``%c`` czyta dowolny znak (także spacje)\n"
   ]
  },
  {
   "cell_type": "code",
   "execution_count": null,
   "metadata": {
    "slideshow": {
     "slide_type": "-"
    }
   },
   "outputs": [],
   "source": [
    "type 'plik1.dat'"
   ]
  },
  {
   "cell_type": "code",
   "execution_count": null,
   "metadata": {},
   "outputs": [],
   "source": [
    "fid = fopen('plik1.dat');\n",
    "if fid ~= -1\n",
    "   a = fscanf(fid, '%f');\n",
    "   fclose(fid);\n",
    "end\n",
    "disp(a)\n",
    "whos a"
   ]
  },
  {
   "cell_type": "code",
   "execution_count": null,
   "metadata": {
    "slideshow": {
     "slide_type": "slide"
    }
   },
   "outputs": [],
   "source": [
    "fid = fopen('plik1.dat');\n",
    "if fid ~= -1\n",
    "   a = fscanf(fid, '%f %c'); \n",
    "   fclose(fid);\n",
    "end\n",
    "disp(a)\n",
    "disp(char(a(2)))   % druga wartość to znak A\n",
    "whos a"
   ]
  },
  {
   "cell_type": "code",
   "execution_count": null,
   "metadata": {
    "slideshow": {
     "slide_type": "slide"
    }
   },
   "outputs": [],
   "source": [
    "fid = fopen('plik1.dat');\n",
    "if fid ~= -1\n",
    "   a = fscanf(fid, '%c');  \n",
    "   fclose(fid);\n",
    "end\n",
    "% wszystkie znaki wczytane do wektora kolumnowego\n",
    "disp(a)\n",
    "whos a"
   ]
  },
  {
   "cell_type": "markdown",
   "metadata": {
    "slideshow": {
     "slide_type": "slide"
    }
   },
   "source": [
    "``fscanf(fid, 'format', rozmiar)``\n",
    "* rozmiar ``N`` wczyta okresloną liczbę wartości\n",
    "* rozmiar ``[N M]`` wczyta ``NxM`` wartości do macierzy \n",
    "* rozmiar ``[N Inf]`` wczyta wszystkie wartości do macierzy o ``N`` wierszach"
   ]
  },
  {
   "cell_type": "code",
   "execution_count": null,
   "metadata": {},
   "outputs": [],
   "source": [
    "fid = fopen('plik1.dat');\n",
    "if fid ~= -1\n",
    "   a=fscanf(fid, '%f %s\\n', [5 Inf]);\n",
    "   fclose(fid);\n",
    "end\n",
    "disp(a)\n",
    "% dane umieszczane w kolejnych kolumnach\n",
    "disp(char(a(:, 1)))\n",
    "whos a"
   ]
  },
  {
   "cell_type": "markdown",
   "metadata": {},
   "source": [
    "**Ćwiczenie** wyznacz sumę wartośći zawartą w pierwszej kilumnie pliku 'plik1.dat'"
   ]
  },
  {
   "cell_type": "markdown",
   "metadata": {
    "slideshow": {
     "slide_type": "slide"
    }
   },
   "source": [
    "## fgetl()\n",
    "\n",
    "* ``fgetl(fid)`` wczytuje linię z pliku (bez znaku nowej linii)\n",
    "* ``fgets(fid)`` wczytuje linię z pliku (ze znakiem nowej linii)"
   ]
  },
  {
   "cell_type": "code",
   "execution_count": null,
   "metadata": {
    "slideshow": {
     "slide_type": "-"
    }
   },
   "outputs": [],
   "source": [
    "fid = fopen('plik1.dat');\n",
    "if fid ~= -1\n",
    "   while feof(fid) == 0\n",
    "      linia = fgetl(fid);\n",
    "      [x s]=strtok(linia);\n",
    "      fprintf('x=%f s=%s\\n', str2num(x), s);\n",
    "   end\n",
    "   fclose(fid);\n",
    "end"
   ]
  },
  {
   "cell_type": "markdown",
   "metadata": {},
   "source": [
    "**Ćwiczenie** wyznacz sumę wartośći zawartą w pierwszej kilumnie pliku 'plik1.dat' czytając dane za pomocą ``fgetl``"
   ]
  },
  {
   "cell_type": "markdown",
   "metadata": {
    "slideshow": {
     "slide_type": "slide"
    }
   },
   "source": [
    "## textscan\n",
    "\n",
    "* ``textscan(fid, format)`` wczytuje dane do macierzy komórkowej\n",
    "* ``format`` analogicznie jak w ``printf``, np,: ``\"%f %s\"`` okresla liczbę double i następujący po spacji napis"
   ]
  },
  {
   "cell_type": "code",
   "execution_count": null,
   "metadata": {
    "slideshow": {
     "slide_type": "slide"
    }
   },
   "outputs": [],
   "source": [
    "fid = fopen('plik1.dat');\n",
    "if fid ~= -1\n",
    "   x = textscan(fid, '%f %s');\n",
    "   fclose(fid);\n",
    "end\n",
    "\n",
    "a = x{1}\n",
    "b = x{2}\n",
    "\n",
    "whos x a b"
   ]
  },
  {
   "cell_type": "code",
   "execution_count": null,
   "metadata": {
    "slideshow": {
     "slide_type": "slide"
    }
   },
   "outputs": [],
   "source": [
    "fid = fopen('plik1.dat');\n",
    "if fid ~= -1\n",
    "   x = textscan(fid, '%c');\n",
    "   fclose(fid);\n",
    "end\n",
    "whos x\n",
    "x\n"
   ]
  },
  {
   "cell_type": "code",
   "execution_count": null,
   "metadata": {
    "slideshow": {
     "slide_type": "slide"
    }
   },
   "outputs": [],
   "source": [
    "fid = fopen('plik1.dat');\n",
    "if fid ~= -1\n",
    "   x = textscan(fid, '%s');\n",
    "   fclose(fid);\n",
    "end\n",
    "whos x\n",
    "x\n"
   ]
  },
  {
   "cell_type": "markdown",
   "metadata": {},
   "source": [
    "**Ćwiczenie** wyznacz sumę wartości w pierwszej kolumnie pliku za pomocą ``textscan``"
   ]
  },
  {
   "cell_type": "markdown",
   "metadata": {
    "slideshow": {
     "slide_type": "slide"
    }
   },
   "source": [
    "## Zapisywanie danych do pliku\n",
    "\n",
    "* ``fprintf(fid, 'format', arg, ... )`` zapisuje dane w podanym formacie\n",
    "* argumentem może być wartość skalarna ale też i cała macierz"
   ]
  },
  {
   "cell_type": "code",
   "execution_count": null,
   "metadata": {
    "slideshow": {
     "slide_type": "-"
    }
   },
   "outputs": [],
   "source": [
    "fid = fopen('output.dat', 'w');\n",
    "if fid ~= -1\n",
    "    fprintf(fid, 'Witaj Świecie\\n');\n",
    "    for i=1:10\n",
    "        fprintf(fid, '%d do potęgi 2 wynosi %d\\n', i, i^2);\n",
    "    end\n",
    "    fclose(fid);\n",
    "end"
   ]
  },
  {
   "cell_type": "code",
   "execution_count": null,
   "metadata": {},
   "outputs": [],
   "source": [
    "type 'output.dat'"
   ]
  },
  {
   "cell_type": "markdown",
   "metadata": {
    "slideshow": {
     "slide_type": "slide"
    }
   },
   "source": [
    "## Zapis macierzy "
   ]
  },
  {
   "cell_type": "code",
   "execution_count": null,
   "metadata": {},
   "outputs": [],
   "source": [
    "x = rand(5, 3)\n",
    "\n",
    "fid = fopen('macierz1.dat', 'w');\n",
    "if fid ~= -1\n",
    "    fprintf(fid, '%f\\n', x);\n",
    "    fclose(fid);\n",
    "end"
   ]
  },
  {
   "cell_type": "code",
   "execution_count": null,
   "metadata": {},
   "outputs": [],
   "source": [
    "type 'macierz1.dat'"
   ]
  },
  {
   "cell_type": "code",
   "execution_count": null,
   "metadata": {
    "slideshow": {
     "slide_type": "slide"
    }
   },
   "outputs": [],
   "source": [
    "x = rand(5, 3)\n",
    "\n",
    "fid = fopen('macierz2.dat', 'w');\n",
    "if fid ~= -1\n",
    "    fprintf(fid, '%f %f %f\\n', x);\n",
    "    fclose(fid);\n",
    "end"
   ]
  },
  {
   "cell_type": "code",
   "execution_count": null,
   "metadata": {},
   "outputs": [],
   "source": [
    "% elementy zapisane w kolejności kolumnowej\n",
    "type 'macierz2.dat'"
   ]
  },
  {
   "cell_type": "markdown",
   "metadata": {
    "slideshow": {
     "slide_type": "slide"
    }
   },
   "source": [
    "## Dodawanie zawartości do pliku\n",
    "\n"
   ]
  },
  {
   "cell_type": "code",
   "execution_count": null,
   "metadata": {},
   "outputs": [],
   "source": [
    "type 'output.dat'"
   ]
  },
  {
   "cell_type": "code",
   "execution_count": null,
   "metadata": {},
   "outputs": [],
   "source": [
    "fid = fopen('output.dat', 'a');\n",
    "if fid ~= -1\n",
    "    fprintf(fid, 'Dopisek: %s\\n', date);\n",
    "    fclose(fid);\n",
    "end\n",
    "\n",
    "type 'output.dat'"
   ]
  },
  {
   "cell_type": "markdown",
   "metadata": {
    "slideshow": {
     "slide_type": "slide"
    }
   },
   "source": [
    "## Zadanie 9. Szyfrowanie pliku\n",
    "\n",
    "Stwórz plik o nazwie `szyfr.m` a w nim zdefiniuj funkcję o nazwe `szyfr()`, która zaszyfruje zawartość pliku za pomocą algorytmu szyfrowania macierzowego.\n",
    "\n",
    "**Działanie szyfrowania macierzowego:** szyfrowany tekst umiszczamy w macierzy o liczbie kolumn K. Teskt umiszczany jest w kolejnych wierszach. Przykładowo, tekst ``tajna wiadomość`` umieszczony w macierzy o 5 kolumnach wypełni 3 wiersze (ewentualne brakujące elementy w ostatnim wierszu wypełniamy spacjami):\n",
    "\n",
    "```\n",
    "tajna\n",
    " wiad \n",
    "omość\n",
    "```\n",
    "Metoda polega na odczytaniu tekstu uzyskanego w kolumnach, czyli w tym przypadku wynikiem będzie: ``t oawmjionaśadć``. Ilość wierszy macierzy szyfrującej staje się kluczem pozwalającym odszyfrować wiadomość. Proces ten przebiega analogicznie, tzn. umieszczamy zaszyfrowany tekst w macierzy o 3 kolumnach (tyle wierszy miała macierz szyfrująca) i odczytujemy treść uzyskaną w kolumnach. \n",
    "```\n",
    "t o\n",
    "awm\n",
    "jio\n",
    "naś\n",
    "adć\n",
    "```\n",
    "Funkcja ``szyfr()`` przyjmuje 3 argumenty: nazwę pliku wejściowego, nazwę pliku wyjściowego oraz liczbę całkowitą okreslającą ilość kolumn macierzy szyfrującej. Funkcja zwraca liczbę całkowitą równą liczbie wierszy macierzy szyfrującej.   \n",
    "Przykładowo:\n",
    "```\n",
    "x = szyfr('plik.txt', 'tajne.txt', 42);\n",
    "```\n",
    "zaszyfruje zawartość pliku ``plik.txt`` za pomocą macierzy posiadającej 42 kolumny i zaszyfrowaną treść umieści w pliku ``tajne.txt``. Do zmiennej ``x`` zostanie podstawiowna liczba wierszy macierzy szyfrującej.\n",
    "Ta wartość stanowi klucz, który jest niezbędny do odszyfrowania wiadomości, tzn.:\n",
    "```\n",
    "szyfr('tajne.txt', 'odszyfrowane.txt', x);\n",
    "```\n",
    "umieści w pliku ``odszyfrowane.txt`` oryginalną, rozszyfrowaną treść pliku ``plik.txt``.\n",
    "\n",
    "Dwa pierwsze argumenty funkcji ``szyfr`` (nazwy plików) są obowiązkowe. W przypadku, gdy uzytkonik nie poda trzeciego argumentu wówczas liczba kolumn macierzy szyfrującej bedzie równa wartości $\\sqrt{N}$ zaokrąglonej do liczby całkowitej, gdzie $N$ jest ilością wszystkich znaków w wiadomości do zaszyfrowania. \n",
    "\n",
    "W przypadku, gdy plik podany w pierszym argumencie nie istnieje, funkcja wyświetla stosowany komunikat błedu i skrypt kończy działanie. \n"
   ]
  }
 ],
 "metadata": {
  "celltoolbar": "Slideshow",
  "kernelspec": {
   "display_name": "Octave",
   "language": "octave",
   "name": "octave"
  },
  "language_info": {
   "file_extension": ".m",
   "help_links": [
    {
     "text": "GNU Octave",
     "url": "https://www.gnu.org/software/octave/support.html"
    },
    {
     "text": "Octave Kernel",
     "url": "https://github.com/Calysto/octave_kernel"
    },
    {
     "text": "MetaKernel Magics",
     "url": "https://metakernel.readthedocs.io/en/latest/source/README.html"
    }
   ],
   "mimetype": "text/x-octave",
   "name": "octave",
   "version": "5.2.0"
  },
  "toc": {
   "base_numbering": 1,
   "nav_menu": {},
   "number_sections": true,
   "sideBar": true,
   "skip_h1_title": false,
   "title_cell": "Table of Contents",
   "title_sidebar": "Contents",
   "toc_cell": false,
   "toc_position": {},
   "toc_section_display": true,
   "toc_window_display": false
  },
  "varInspector": {
   "cols": {
    "lenName": 16,
    "lenType": 16,
    "lenVar": 40
   },
   "kernels_config": {
    "python": {
     "delete_cmd_postfix": "",
     "delete_cmd_prefix": "del ",
     "library": "var_list.py",
     "varRefreshCmd": "print(var_dic_list())"
    },
    "r": {
     "delete_cmd_postfix": ") ",
     "delete_cmd_prefix": "rm(",
     "library": "var_list.r",
     "varRefreshCmd": "cat(var_dic_list()) "
    }
   },
   "types_to_exclude": [
    "module",
    "function",
    "builtin_function_or_method",
    "instance",
    "_Feature"
   ],
   "window_display": false
  }
 },
 "nbformat": 4,
 "nbformat_minor": 4
}
